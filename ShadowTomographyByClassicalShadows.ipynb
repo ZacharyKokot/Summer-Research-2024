{
 "cells": [
  {
   "cell_type": "markdown",
   "metadata": {},
   "source": [
    "# Shadow Tomography by means of Classical Shadows\n",
    "Below follows the procedure outlined in the paper *Predicting many properties of a Quantum System from Very Few Measurments* "
   ]
  },
  {
   "cell_type": "markdown",
   "metadata": {},
   "source": [
    "## Construction of the Classical Shadow"
   ]
  },
  {
   "cell_type": "markdown",
   "metadata": {},
   "source": [
    "Module Imports"
   ]
  },
  {
   "cell_type": "code",
   "execution_count": 3,
   "metadata": {},
   "outputs": [],
   "source": [
    "import numpy as np\n",
    "from numpy import random\n",
    "\n",
    "from qiskit import QuantumCircuit, ClassicalRegister, QuantumRegister\n",
    "from qiskit.circuit.library import *\n",
    "from qiskit.primitives import StatevectorSampler"
   ]
  },
  {
   "cell_type": "markdown",
   "metadata": {},
   "source": [
    "First with a single qubit"
   ]
  },
  {
   "cell_type": "code",
   "execution_count": 28,
   "metadata": {},
   "outputs": [
    {
     "name": "stdout",
     "output_type": "stream",
     "text": [
      "0\n"
     ]
    }
   ],
   "source": [
    "# A set of unitary evolutions (the one defined below is tomographically complete for a system of single qubit).\n",
    "unitary_ensemble = [ [[1,0],[0,1]], [[0,1],[1,0]], [[0,-1j],[1j,0]], [[1,0],[0,-1]] ]\n",
    "\n",
    "# Randomly select a unity from the ensemble.\n",
    "i = random.randint(0,len(unitary_ensemble))\n",
    "unitary = unitary_ensemble[i]\n",
    "\n",
    "# -------------------------------------------------------------------------------------------------------------\n",
    "\n",
    "# Rotate the state and measure in the computational basis.\n",
    "\n",
    "# Instantiate quantum and classical registers each of 1 bit.\n",
    "qr = QuantumRegister (1, 'q')\n",
    "cr = ClassicalRegister(1, 'measurment')\n",
    "\n",
    "# Instantiate a quantum circuit of 1 qubit and 1 cbit.\n",
    "qc = QuantumCircuit(qr, cr)\n",
    "qc.append (                                         # Add a new gate to the circuit.\n",
    "    UnitaryGate(unitary, \"My Gate\"),                # Gate to be added.\n",
    "    [0]                                             # Qubit(s) on which it is acting.\n",
    ")\n",
    "qc.measure(0,0)\n",
    "\n",
    "sampler = StatevectorSampler(default_shots = 1)     # Instantiate a sampler that runs the cicuit once.\n",
    "result = sampler.run([qc]).result()[0]              # Run the sampler on the quantum circuit and store the result.\n",
    "\n",
    "counts = result.data.measurment.get_counts()        # Store the counts for number of 0's and 1's measured in the computational basis.\n",
    "\n",
    "# Get the measured basis state.\n",
    "if '0' in counts.keys():\n",
    "    b = 0\n",
    "else:\n",
    "    b = 1   \n",
    "\n",
    "# -------------------------------------------------------------------------------------------------------------                                  \n",
    "\n",
    "# Apply the inverse of the unitary to the computational basis state obtained from the measurement.\n",
    "\n",
    "\n"
   ]
  }
 ],
 "metadata": {
  "kernelspec": {
   "display_name": "Python 3",
   "language": "python",
   "name": "python3"
  },
  "language_info": {
   "codemirror_mode": {
    "name": "ipython",
    "version": 3
   },
   "file_extension": ".py",
   "mimetype": "text/x-python",
   "name": "python",
   "nbconvert_exporter": "python",
   "pygments_lexer": "ipython3",
   "version": "3.12.3"
  }
 },
 "nbformat": 4,
 "nbformat_minor": 2
}
