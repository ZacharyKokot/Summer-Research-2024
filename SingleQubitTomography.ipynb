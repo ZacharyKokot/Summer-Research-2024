{
 "cells": [
  {
   "cell_type": "markdown",
   "metadata": {},
   "source": [
    "# Single-Qubit Tomography"
   ]
  },
  {
   "cell_type": "markdown",
   "metadata": {},
   "source": [
    "## Theory"
   ]
  },
  {
   "cell_type": "markdown",
   "metadata": {},
   "source": [
    "For single-qubit states the general expression for their density matrices can be written uniquely as:\n",
    "$$\\hat{\\rho} = \\frac{1}{2} \\sum_{i=0}^{3} S_i \\sigma_i. \\tag{1}$$\n",
    "Where $\\sigma_i$ are the Pauli matrices (Including the 2x2 identity matrix as $\\sigma_0$) and $S_i$ are the values given by:\n",
    "$$S_i = Tr\\{\\hat{\\sigma_i}\\hat{\\rho}\\}. \\tag{2}$$\n",
    "It is also useful to note that, \n",
    "1. For all pure states: $\\sum_{i=1}^{3} S_i^2 = 1$.\n",
    "2. For mixed states: $\\sum_{i=1}^{3} S_i^2 < 1$.\n",
    "3. For the completely mixed state:  $\\sum_{i=1}^{3} S_i^2 = 0$.\n",
    "4. Due to the normalization condition for quantum states it is always the case that: $S_0^2 = 1$.\n",
    "\n",
    "The above contents are from page 117 of the book Quantum State Estimation. Proofs of (1) and (2) to be added in the future."
   ]
  },
  {
   "cell_type": "markdown",
   "metadata": {},
   "source": [
    "For a quantum state represented by density matrix $\\hat{\\rho}$ the expectation value for an observable $\\Omega$ is given by:\n",
    "$$\\langle \\hat{\\Omega} \\rangle = \\sum_{i} p_i \\bra{i} \\Omega \\ket{i} = Tr \\{ \\hat{\\Omega} \\hat{\\rho} \\}. \\tag{3}$$\n",
    "Thus, using (1) and (3), we can represent the density matrix for a single-qubit state as:\n",
    "$$\\hat{\\rho} = \\frac{1}{2} \\sum_{i=0}^{3} \\langle \\hat{\\sigma_i} \\rangle \\hat{\\sigma_i}. \\tag{4}$$"
   ]
  },
  {
   "cell_type": "markdown",
   "metadata": {},
   "source": [
    "## Example"
   ]
  },
  {
   "cell_type": "markdown",
   "metadata": {},
   "source": [
    "Prepare a state using the prepare_state gate available in qiskit."
   ]
  },
  {
   "cell_type": "code",
   "execution_count": 28,
   "metadata": {},
   "outputs": [
    {
     "data": {
      "image/png": "[encoded data removed]",
      "text/plain": [
       "<Figure size 518.74x200.667 with 1 Axes>"
      ]
     },
     "execution_count": 28,
     "metadata": {},
     "output_type": "execute_result"
    }
   ],
   "source": [
    "import math\n",
    "from qiskit import QuantumCircuit, QuantumRegister, ClassicalRegister\n",
    "from qiskit.circuit.library import *\n",
    "\n",
    "# Instantiate quantum and classical registers each of 1 bit.\n",
    "qr = QuantumRegister (1, 'q')\n",
    "cr = ClassicalRegister(1, 'measurment')\n",
    "\n",
    "# Create a quantum circuit and add the prepare_state function acting on qubit 0.\n",
    "qc = QuantumCircuit(qr, cr)\n",
    "qc.prepare_state(state = [1/math.sqrt(2), 1/math.sqrt(2)], qubits = 0)\n",
    "\n",
    "# Draw the ciruit in mpl (matplotlib).\n",
    "qc.draw(\"mpl\")"
   ]
  },
  {
   "cell_type": "markdown",
   "metadata": {},
   "source": [
    "Getting the expectation values. Using the StatevectorSampler available in qiskit I can simulate measurment on the qubits in the circuit. I know I will need to obtain 3 expectation values ($\\langle \\hat{\\sigma_0} \\rangle$ is always 1) "
   ]
  },
  {
   "cell_type": "code",
   "execution_count": 29,
   "metadata": {},
   "outputs": [],
   "source": [
    "xMeasure = QuantumCircuit(1,1)\n",
    "xMeasure.append(HGate(), [0])\n",
    "xMeasure.measure(0,0)\n",
    "\n",
    "yMeasure = QuantumCircuit(1,1)\n",
    "yMeasure.append(SdgGate(), [0])\n",
    "yMeasure.append(HGate(), [0])\n",
    "yMeasure.measure(0,0)\n",
    "\n",
    "zMeasure = QuantumCircuit(1,1)\n",
    "zMeasure.measure(0,0)\n",
    "\n",
    "basis = [xMeasure, yMeasure, zMeasure]"
   ]
  },
  {
   "cell_type": "markdown",
   "metadata": {},
   "source": [
    "Comment below"
   ]
  },
  {
   "cell_type": "code",
   "execution_count": 30,
   "metadata": {},
   "outputs": [
    {
     "name": "stdout",
     "output_type": "stream",
     "text": [
      "The counts are: {'0': 100, '1': 0}\n",
      "The counts are: {'0': 48, '1': 52}\n",
      "The counts are: {'0': 50, '1': 50}\n",
      "[1.0, -0.04, 0.0]\n"
     ]
    }
   ],
   "source": [
    "from qiskit.primitives import StatevectorSampler\n",
    "\n",
    "exp = [] # Array to store expectation values.\n",
    "shots = 100 # Number of times to run the circuit.\n",
    "\n",
    "sampler = StatevectorSampler(default_shots = shots) # Record variable number of samples of the circuit (more samples improve accuracy).\n",
    "\n",
    "for i in basis:\n",
    "    result = sampler.run([qc.compose(i)]).result()[0] # Run the sampler on the quantum circuit and store the result.\n",
    "\n",
    "    data = result.data # Get the data from the result of running the circuit.\n",
    "\n",
    "    counts = data.measurment.get_counts()\n",
    "\n",
    "    if '0' not in counts.keys():\n",
    "        counts['0'] = 0\n",
    "    if '1' not in counts.keys():\n",
    "        counts['1'] = 0\n",
    "\n",
    "    exp.append((counts['0'] - counts['1'])/shots)\n",
    "\n",
    "    print(f\"The counts are: {counts}\")\n",
    "    \n",
    "print(exp)\n",
    "\n",
    "\n"
   ]
  },
  {
   "cell_type": "markdown",
   "metadata": {},
   "source": [
    "Reconstruct the state. Perhaps the fact that single-qubit density matrices can always be diagonalized could be used to get the origonal coefficients. "
   ]
  },
  {
   "cell_type": "code",
   "execution_count": 31,
   "metadata": {},
   "outputs": [
    {
     "name": "stdout",
     "output_type": "stream",
     "text": [
      "[[0.5+0.j   0.5+0.02j]\n",
      " [0.5-0.02j 0.5+0.j  ]]\n"
     ]
    }
   ],
   "source": [
    "import numpy as np\n",
    "\n",
    "x, y ,z = exp\n",
    "\n",
    "rho =   (1/2)*np.array([[(1+z),(x-y*1j)],\n",
    "                        [(x+y*1j),(1-z)]])\n",
    "\n",
    "print(rho)"
   ]
  }
 ],
 "metadata": {
  "kernelspec": {
   "display_name": "Python 3",
   "language": "python",
   "name": "python3"
  },
  "language_info": {
   "codemirror_mode": {
    "name": "ipython",
    "version": 3
   },
   "file_extension": ".py",
   "mimetype": "text/x-python",
   "name": "python",
   "nbconvert_exporter": "python",
   "pygments_lexer": "ipython3",
   "version": "3.12.3"
  }
 },
 "nbformat": 4,
 "nbformat_minor": 2
}
