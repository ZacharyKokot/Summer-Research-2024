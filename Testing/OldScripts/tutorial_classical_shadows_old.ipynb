{
  "cells": [
    {
      "cell_type": "code",
      "execution_count": 1,
      "metadata": {
        "collapsed": false
      },
      "outputs": [],
      "source": [
        "# This cell is added by sphinx-gallery\n",
        "# It can be customized to whatever you like\n",
        "%matplotlib inline"
      ]
    },
    {
      "cell_type": "markdown",
      "metadata": {},
      "source": [
        "Classical shadows\n",
        "=================\n",
        "\n",
        "::: {.meta}\n",
        ":property=\\\"og:description\\\": Learn how to construct classical shadows\n",
        "and use them to estimate observables. :property=\\\"og:image\\\":\n",
        "<https://pennylane.ai/qml/_static/demonstration_assets//atom_shadow.png>\n",
        ":::\n",
        "\n",
        "::: {.related}\n",
        "tutorial\\_measurement\\_optimize Measurement optimization quantum\\_volume\n",
        "Quantum volume tutorial\\_quantum\\_metrology Variationally optimizing\n",
        "measurement protocols\n",
        ":::\n",
        "\n",
        "*Authors: Roeland Wiersema and Brian Doolittle (Xanadu Residents) ---\n",
        "Posted: 14 June 2021. Last updated: 14 June 2021.*\n",
        "\n",
        "![](../_static/demonstration_assets/classical_shadows/atom_shadow.png){.align-center\n",
        "width=\"75.0%\"}\n",
        "\n",
        "Estimating properties of unknown quantum states is a key objective of\n",
        "quantum information science and technology. For example, one might want\n",
        "to check whether an apparatus prepares a particular target state, or\n",
        "verify that an unknown system is entangled. In principle, any unknown\n",
        "quantum state can be fully characterized by [quantum state\n",
        "tomography](https://arxiv.org/pdf/quant-ph/0302028.pdf). However, this\n",
        "procedure requires accurate expectation values for a set of observables\n",
        "whose size grows exponentially with the number of qubits. A potential\n",
        "workaround for these scaling concerns is provided by the classical\n",
        "shadow approximation introduced in a recent paper by Huang et al..\n",
        "\n",
        "The approximation is an efficient protocol for constructing a *classical\n",
        "shadow* representation of an unknown quantum state. The classical shadow\n",
        "can be used to estimate properties such as quantum state fidelity,\n",
        "expectation values of Hamiltonians, entanglement witnesses, and\n",
        "two-point correlators.\n",
        "\n",
        "![(Image from Huang et\n",
        "al..)](../_static/demonstration_assets/classical_shadows/classical_shadow_overview.png){.align-center\n",
        "width=\"90.0%\"}\n",
        "\n",
        "In this demo, we use PennyLane to obtain classical shadows of a quantum\n",
        "state prepared by a quantum circuit, and use them to reconstruct the\n",
        "state and estimate expectation values of observables.\n"
      ]
    },
    {
      "cell_type": "markdown",
      "metadata": {},
      "source": [
        "Constructing a Classical Shadow\n",
        "===============================\n",
        "\n",
        "Classical shadow estimation relies on the fact that for a particular\n",
        "choice of measurement, we can efficiently store snapshots of the state\n",
        "that contain enough information to accurately predict linear functions\n",
        "of observables. Depending on what type of measurements we choose, we\n",
        "have an information-theoretic bound that allows us to control the\n",
        "precision of our estimator.\n",
        "\n",
        "Let us consider an $n$-qubit quantum state $\\rho$ (prepared by a\n",
        "circuit) and apply a random unitary $U$ to the state:\n",
        "\n",
        "$$\\rho \\to U \\rho U^\\dagger.$$\n",
        "\n",
        "Next, we measure in the computational basis and obtain a bit string of\n",
        "outcomes $|b\\rangle = |0011\\ldots10\\rangle$. If the unitaries $U$ are\n",
        "chosen at random from a particular ensemble, then we can store the\n",
        "reverse operation $U^\\dagger |b\\rangle\\langle b| U$ efficiently in\n",
        "classical memory. We call this a *snapshot* of the state. Moreover, we\n",
        "can view the average over these snapshots as a measurement channel:\n",
        "\n",
        "$$\\mathbb{E}\\left[U^\\dagger |b\\rangle\\langle b| U\\right] = \\mathcal{M}(\\rho).$$\n",
        "\n",
        "If the ensemble of unitaries defines a tomographically complete set of\n",
        "measurements, we can invert the channel and reconstruct the state:\n",
        "\n",
        "$$\\rho = \\mathbb{E}\\left[\\mathcal{M}^{-1}\\left(U^\\dagger |b\\rangle\\langle b| U \\right)\\right].$$\n",
        "\n",
        "If we apply the procedure outlined above $N$ times, then the collection\n",
        "of inverted snapshots is what we call the *classical shadow*\n",
        "\n",
        "$$S(\\rho,N) = \\left\\{\\hat{\\rho}_1= \\mathcal{M}^{-1}\\left(U_1^\\dagger |b_1\\rangle\\langle b_1| U_1 \\right)\n",
        ",\\ldots, \\hat{\\rho}_N= \\mathcal{M}^{-1}\\left(U_N^\\dagger |b_N\\rangle\\langle b_N| U_N \\right)\n",
        "\\right\\}.$$\n",
        "\n",
        "The inverted channel is not physical, i.e., it is not completely postive\n",
        "and trace preserving (CPTP). However, this is of no concern to us, since\n",
        "all we care about is efficiently applying this inverse channel to the\n",
        "observed snapshots as a post-processing step.\n",
        "\n",
        "Since the shadow approximates $\\rho$, we can now estimate **any**\n",
        "observable with the empirical mean:\n",
        "\n",
        "$$\\langle O \\rangle = \\frac{1}{N}\\sum_i \\text{Tr}{\\hat{\\rho}_i O}.$$\n",
        "\n",
        "Note that the classical shadow is independent of the observables we want\n",
        "to estimate, as $S(\\rho,N)$ contains only information about the state!\n",
        "\n",
        "Furthermore, the authors of prove that with a shadow of size $N$, we can\n",
        "predict $M$ arbitary linear functions\n",
        "$\\text{Tr}{O_1\\rho},\\ldots,\\text{Tr}{O_M \\rho}$ up to an additive error\n",
        "$\\epsilon$ if\n",
        "$N\\geq \\mathcal{O}\\left(\\log{M} \\max_i ||O_i||^2_{\\text{shadow}}/\\epsilon^2\\right)$.\n",
        "The shadow norm $||O_i||^2_{\\text{shadow}}$ depends on the unitary\n",
        "ensemble that is chosen.\n",
        "\n",
        "Two different ensembles can be considered for selecting the random\n",
        "unitaries $U$:\n",
        "\n",
        "1.  Random $n$-qubit Clifford circuits.\n",
        "2.  Tensor products of random single-qubit Clifford circuits.\n",
        "\n",
        "Although ensemble 1 leads to the most powerful estimators, it comes with\n",
        "serious practical limitations since $n^2 / \\log(n)$ entangling gates are\n",
        "required to sample the Clifford circuit. The snapshots of both ensembles\n",
        "can be stored efficiently using the [stabilizer\n",
        "formalism](https://arxiv.org/abs/quant-ph/9705052). Single-qubit\n",
        "Clifford circuits rotate the measurement basis to one of the Pauli\n",
        "eigenbases, so ensemble 2 is equivalent to measuring single shots of\n",
        "single-qubit Pauli observables on all qubits. For the purposes of this\n",
        "demo we focus on ensemble 2, which is a more NISQ-friendly approach.\n",
        "\n",
        "This ensemble comes with a significant drawback: the shadow norm\n",
        "$||O_i||^2_{\\text{shadow}}$ becomes dependent on the locality $k$ of the\n",
        "observables that we want to estimate:\n",
        "\n",
        "$$||O_i||^2_{\\text{shadow}} \\leq 4^k ||O_i||_\\infty^2.$$\n",
        "\n",
        "Say that we want to estimate the single expectation value of a Pauli\n",
        "observable $\\langle X_1 \\otimes X_2 \\otimes \\ldots \\otimes X_n \\rangle$.\n",
        "Estimating this from repeated measurements would require $1/\\epsilon^2$\n",
        "samples, whereas we would need an exponentially large shadow due to the\n",
        "$4^n$ appearing in the bound. Therefore, classical shadows based on\n",
        "Pauli measurements only offer an advantage when we have to measure a\n",
        "large number of observables with modest locality.\n",
        "\n",
        "We will now demonstrate how to obtain classical shadows using PennyLane.\n"
      ]
    },
    {
      "cell_type": "code",
      "execution_count": 2,
      "metadata": {
        "collapsed": false
      },
      "outputs": [],
      "source": [
        "import pennylane as qml\n",
        "import pennylane.numpy as np\n",
        "import matplotlib.pyplot as plt\n",
        "import time\n",
        "\n",
        "np.random.seed(666)"
      ]
    },
    {
      "cell_type": "markdown",
      "metadata": {},
      "source": [
        "A classical shadow is a collection of $N$ individual snapshots\n",
        "$\\hat{\\rho}_i$. Each snapshot is obtained with the following procedure:\n",
        "\n",
        "1.  The quantum state $\\rho$ is prepared with a circuit.\n",
        "2.  A unitary $U$ is randomly selected from the ensemble and applied to\n",
        "    $\\rho$.\n",
        "3.  A computational basis measurement is performed.\n",
        "4.  The snapshot is recorded as the observed eigenvalue $1,-1$ for\n",
        "    $|0\\rangle,|1\\rangle$, respectively, and the index of the randomly\n",
        "    selected unitary $U$.\n",
        "\n",
        "To obtain a classical shadow using PennyLane, we design the\n",
        "`calculate_classical_shadow` function below. This function obtains a\n",
        "classical shadow for the state prepared by an input `circuit_template`.\n"
      ]
    },
    {
      "cell_type": "code",
      "execution_count": 3,
      "metadata": {
        "collapsed": false
      },
      "outputs": [],
      "source": [
        "def calculate_classical_shadow(circuit_template, params, shadow_size, num_qubits):\n",
        "    \"\"\"\n",
        "    Given a circuit, creates a collection of snapshots consisting of a bit string\n",
        "    and the index of a unitary operation.\n",
        "\n",
        "    Args:\n",
        "        circuit_template (function): A Pennylane QNode.\n",
        "        params (array): Circuit parameters.\n",
        "        shadow_size (int): The number of snapshots in the shadow.\n",
        "        num_qubits (int): The number of qubits in the circuit.\n",
        "\n",
        "    Returns:\n",
        "        Tuple of two numpy arrays. The first array contains measurement outcomes (-1, 1)\n",
        "        while the second array contains the index for the sampled Pauli's (0,1,2=X,Y,Z).\n",
        "        Each row of the arrays corresponds to a distinct snapshot or sample while each\n",
        "        column corresponds to a different qubit.\n",
        "    \"\"\"\n",
        "    # applying the single-qubit Clifford circuit is equivalent to measuring a Pauli\n",
        "    unitary_ensemble = [qml.PauliX, qml.PauliY, qml.PauliZ]\n",
        "\n",
        "    # sample random Pauli measurements uniformly, where 0,1,2 = X,Y,Z\n",
        "    unitary_ids = np.random.randint(0, 3, size=(shadow_size, num_qubits))\n",
        "    outcomes = np.zeros((shadow_size, num_qubits))\n",
        "\n",
        "    for ns in range(shadow_size):\n",
        "        # for each snapshot, add a random Pauli observable at each location\n",
        "        obs = [unitary_ensemble[int(unitary_ids[ns, i])](i) for i in range(num_qubits)]\n",
        "        outcomes[ns, :] = circuit_template(params, observable=obs)\n",
        "\n",
        "    # combine the computational basis outcomes and the sampled unitaries\n",
        "    return (outcomes, unitary_ids)"
      ]
    },
    {
      "cell_type": "markdown",
      "metadata": {},
      "source": [
        "As an example, we demonstrate how to use `calculate_classical_shadow`\n",
        "and check its performance as the number of snapshots increases. First,\n",
        "we will create a two-qubit device and a circuit that applies an `RY`\n",
        "rotation to each qubit.\n"
      ]
    },
    {
      "cell_type": "code",
      "execution_count": 4,
      "metadata": {
        "collapsed": false
      },
      "outputs": [
        {
          "ename": "KeyboardInterrupt",
          "evalue": "",
          "output_type": "error",
          "traceback": [
            "\u001b[1;31m---------------------------------------------------------------------------\u001b[0m",
            "\u001b[1;31mKeyboardInterrupt\u001b[0m                         Traceback (most recent call last)",
            "Cell \u001b[1;32mIn[4], line 25\u001b[0m\n\u001b[0;32m     23\u001b[0m \u001b[38;5;28;01mfor\u001b[39;00m num_snapshots \u001b[38;5;129;01min\u001b[39;00m [\u001b[38;5;241m10\u001b[39m, \u001b[38;5;241m100\u001b[39m, \u001b[38;5;241m1000\u001b[39m, \u001b[38;5;241m10000\u001b[39m]:\n\u001b[0;32m     24\u001b[0m     start \u001b[38;5;241m=\u001b[39m time\u001b[38;5;241m.\u001b[39mtime()\n\u001b[1;32m---> 25\u001b[0m     shadow \u001b[38;5;241m=\u001b[39m \u001b[43mcalculate_classical_shadow\u001b[49m\u001b[43m(\u001b[49m\n\u001b[0;32m     26\u001b[0m \u001b[43m        \u001b[49m\u001b[43mlocal_qubit_rotation_circuit\u001b[49m\u001b[43m,\u001b[49m\u001b[43m \u001b[49m\u001b[43mparams\u001b[49m\u001b[43m,\u001b[49m\u001b[43m \u001b[49m\u001b[43mnum_snapshots\u001b[49m\u001b[43m,\u001b[49m\u001b[43m \u001b[49m\u001b[43mnum_qubits\u001b[49m\n\u001b[0;32m     27\u001b[0m \u001b[43m    \u001b[49m\u001b[43m)\u001b[49m\n\u001b[0;32m     28\u001b[0m     elapsed_times\u001b[38;5;241m.\u001b[39mappend(time\u001b[38;5;241m.\u001b[39mtime() \u001b[38;5;241m-\u001b[39m start)\n\u001b[0;32m     29\u001b[0m     shadows\u001b[38;5;241m.\u001b[39mappend(shadow)\n",
            "Cell \u001b[1;32mIn[3], line 28\u001b[0m, in \u001b[0;36mcalculate_classical_shadow\u001b[1;34m(circuit_template, params, shadow_size, num_qubits)\u001b[0m\n\u001b[0;32m     25\u001b[0m \u001b[38;5;28;01mfor\u001b[39;00m ns \u001b[38;5;129;01min\u001b[39;00m \u001b[38;5;28mrange\u001b[39m(shadow_size):\n\u001b[0;32m     26\u001b[0m     \u001b[38;5;66;03m# for each snapshot, add a random Pauli observable at each location\u001b[39;00m\n\u001b[0;32m     27\u001b[0m     obs \u001b[38;5;241m=\u001b[39m [unitary_ensemble[\u001b[38;5;28mint\u001b[39m(unitary_ids[ns, i])](i) \u001b[38;5;28;01mfor\u001b[39;00m i \u001b[38;5;129;01min\u001b[39;00m \u001b[38;5;28mrange\u001b[39m(num_qubits)]\n\u001b[1;32m---> 28\u001b[0m     outcomes[ns, :] \u001b[38;5;241m=\u001b[39m \u001b[43mcircuit_template\u001b[49m\u001b[43m(\u001b[49m\u001b[43mparams\u001b[49m\u001b[43m,\u001b[49m\u001b[43m \u001b[49m\u001b[43mobservable\u001b[49m\u001b[38;5;241;43m=\u001b[39;49m\u001b[43mobs\u001b[49m\u001b[43m)\u001b[49m\n\u001b[0;32m     30\u001b[0m \u001b[38;5;66;03m# combine the computational basis outcomes and the sampled unitaries\u001b[39;00m\n\u001b[0;32m     31\u001b[0m \u001b[38;5;28;01mreturn\u001b[39;00m (outcomes, unitary_ids)\n",
            "File \u001b[1;32mc:\\Users\\cruxm\\AppData\\Local\\Programs\\Python\\Python312\\Lib\\site-packages\\pennylane\\workflow\\qnode.py:1098\u001b[0m, in \u001b[0;36mQNode.__call__\u001b[1;34m(self, *args, **kwargs)\u001b[0m\n\u001b[0;32m   1095\u001b[0m \u001b[38;5;28mself\u001b[39m\u001b[38;5;241m.\u001b[39m_update_gradient_fn(shots\u001b[38;5;241m=\u001b[39moverride_shots, tape\u001b[38;5;241m=\u001b[39m\u001b[38;5;28mself\u001b[39m\u001b[38;5;241m.\u001b[39m_tape)\n\u001b[0;32m   1097\u001b[0m \u001b[38;5;28;01mtry\u001b[39;00m:\n\u001b[1;32m-> 1098\u001b[0m     res \u001b[38;5;241m=\u001b[39m \u001b[38;5;28;43mself\u001b[39;49m\u001b[38;5;241;43m.\u001b[39;49m\u001b[43m_execution_component\u001b[49m\u001b[43m(\u001b[49m\u001b[43margs\u001b[49m\u001b[43m,\u001b[49m\u001b[43m \u001b[49m\u001b[43mkwargs\u001b[49m\u001b[43m,\u001b[49m\u001b[43m \u001b[49m\u001b[43moverride_shots\u001b[49m\u001b[38;5;241;43m=\u001b[39;49m\u001b[43moverride_shots\u001b[49m\u001b[43m)\u001b[49m\n\u001b[0;32m   1099\u001b[0m \u001b[38;5;28;01mfinally\u001b[39;00m:\n\u001b[0;32m   1100\u001b[0m     \u001b[38;5;28;01mif\u001b[39;00m old_interface \u001b[38;5;241m==\u001b[39m \u001b[38;5;124m\"\u001b[39m\u001b[38;5;124mauto\u001b[39m\u001b[38;5;124m\"\u001b[39m:\n",
            "File \u001b[1;32mc:\\Users\\cruxm\\AppData\\Local\\Programs\\Python\\Python312\\Lib\\site-packages\\pennylane\\workflow\\qnode.py:1052\u001b[0m, in \u001b[0;36mQNode._execution_component\u001b[1;34m(self, args, kwargs, override_shots)\u001b[0m\n\u001b[0;32m   1049\u001b[0m full_transform_program\u001b[38;5;241m.\u001b[39mprune_dynamic_transform()\n\u001b[0;32m   1051\u001b[0m \u001b[38;5;66;03m# pylint: disable=unexpected-keyword-arg\u001b[39;00m\n\u001b[1;32m-> 1052\u001b[0m res \u001b[38;5;241m=\u001b[39m \u001b[43mqml\u001b[49m\u001b[38;5;241;43m.\u001b[39;49m\u001b[43mexecute\u001b[49m\u001b[43m(\u001b[49m\n\u001b[0;32m   1053\u001b[0m \u001b[43m    \u001b[49m\u001b[43m(\u001b[49m\u001b[38;5;28;43mself\u001b[39;49m\u001b[38;5;241;43m.\u001b[39;49m\u001b[43m_tape\u001b[49m\u001b[43m,\u001b[49m\u001b[43m)\u001b[49m\u001b[43m,\u001b[49m\n\u001b[0;32m   1054\u001b[0m \u001b[43m    \u001b[49m\u001b[43mdevice\u001b[49m\u001b[38;5;241;43m=\u001b[39;49m\u001b[38;5;28;43mself\u001b[39;49m\u001b[38;5;241;43m.\u001b[39;49m\u001b[43mdevice\u001b[49m\u001b[43m,\u001b[49m\n\u001b[0;32m   1055\u001b[0m \u001b[43m    \u001b[49m\u001b[43mgradient_fn\u001b[49m\u001b[38;5;241;43m=\u001b[39;49m\u001b[38;5;28;43mself\u001b[39;49m\u001b[38;5;241;43m.\u001b[39;49m\u001b[43mgradient_fn\u001b[49m\u001b[43m,\u001b[49m\n\u001b[0;32m   1056\u001b[0m \u001b[43m    \u001b[49m\u001b[43minterface\u001b[49m\u001b[38;5;241;43m=\u001b[39;49m\u001b[38;5;28;43mself\u001b[39;49m\u001b[38;5;241;43m.\u001b[39;49m\u001b[43minterface\u001b[49m\u001b[43m,\u001b[49m\n\u001b[0;32m   1057\u001b[0m \u001b[43m    \u001b[49m\u001b[43mtransform_program\u001b[49m\u001b[38;5;241;43m=\u001b[39;49m\u001b[43mfull_transform_program\u001b[49m\u001b[43m,\u001b[49m\n\u001b[0;32m   1058\u001b[0m \u001b[43m    \u001b[49m\u001b[43mconfig\u001b[49m\u001b[38;5;241;43m=\u001b[39;49m\u001b[43mconfig\u001b[49m\u001b[43m,\u001b[49m\n\u001b[0;32m   1059\u001b[0m \u001b[43m    \u001b[49m\u001b[43mgradient_kwargs\u001b[49m\u001b[38;5;241;43m=\u001b[39;49m\u001b[38;5;28;43mself\u001b[39;49m\u001b[38;5;241;43m.\u001b[39;49m\u001b[43mgradient_kwargs\u001b[49m\u001b[43m,\u001b[49m\n\u001b[0;32m   1060\u001b[0m \u001b[43m    \u001b[49m\u001b[43moverride_shots\u001b[49m\u001b[38;5;241;43m=\u001b[39;49m\u001b[43moverride_shots\u001b[49m\u001b[43m,\u001b[49m\n\u001b[0;32m   1061\u001b[0m \u001b[43m    \u001b[49m\u001b[38;5;241;43m*\u001b[39;49m\u001b[38;5;241;43m*\u001b[39;49m\u001b[38;5;28;43mself\u001b[39;49m\u001b[38;5;241;43m.\u001b[39;49m\u001b[43mexecute_kwargs\u001b[49m\u001b[43m,\u001b[49m\n\u001b[0;32m   1062\u001b[0m \u001b[43m\u001b[49m\u001b[43m)\u001b[49m\n\u001b[0;32m   1063\u001b[0m res \u001b[38;5;241m=\u001b[39m res[\u001b[38;5;241m0\u001b[39m]\n\u001b[0;32m   1065\u001b[0m \u001b[38;5;66;03m# convert result to the interface in case the qfunc has no parameters\u001b[39;00m\n",
            "File \u001b[1;32mc:\\Users\\cruxm\\AppData\\Local\\Programs\\Python\\Python312\\Lib\\site-packages\\pennylane\\workflow\\execution.py:792\u001b[0m, in \u001b[0;36mexecute\u001b[1;34m(tapes, device, gradient_fn, interface, transform_program, config, grad_on_execution, gradient_kwargs, cache, cachesize, max_diff, override_shots, expand_fn, max_expansion, device_batch_transform, device_vjp)\u001b[0m\n\u001b[0;32m    784\u001b[0m ml_boundary_execute \u001b[38;5;241m=\u001b[39m _get_ml_boundary_execute(\n\u001b[0;32m    785\u001b[0m     interface,\n\u001b[0;32m    786\u001b[0m     _grad_on_execution,\n\u001b[0;32m    787\u001b[0m     config\u001b[38;5;241m.\u001b[39muse_device_jacobian_product,\n\u001b[0;32m    788\u001b[0m     differentiable\u001b[38;5;241m=\u001b[39mmax_diff \u001b[38;5;241m>\u001b[39m \u001b[38;5;241m1\u001b[39m,\n\u001b[0;32m    789\u001b[0m )\n\u001b[0;32m    791\u001b[0m \u001b[38;5;28;01mif\u001b[39;00m interface \u001b[38;5;129;01min\u001b[39;00m jpc_interfaces:\n\u001b[1;32m--> 792\u001b[0m     results \u001b[38;5;241m=\u001b[39m \u001b[43mml_boundary_execute\u001b[49m\u001b[43m(\u001b[49m\u001b[43mtapes\u001b[49m\u001b[43m,\u001b[49m\u001b[43m \u001b[49m\u001b[43mexecute_fn\u001b[49m\u001b[43m,\u001b[49m\u001b[43m \u001b[49m\u001b[43mjpc\u001b[49m\u001b[43m,\u001b[49m\u001b[43m \u001b[49m\u001b[43mdevice\u001b[49m\u001b[38;5;241;43m=\u001b[39;49m\u001b[43mdevice\u001b[49m\u001b[43m)\u001b[49m\n\u001b[0;32m    793\u001b[0m \u001b[38;5;28;01melse\u001b[39;00m:\n\u001b[0;32m    794\u001b[0m     results \u001b[38;5;241m=\u001b[39m ml_boundary_execute(\n\u001b[0;32m    795\u001b[0m         tapes, device, execute_fn, gradient_fn, gradient_kwargs, _n\u001b[38;5;241m=\u001b[39m\u001b[38;5;241m1\u001b[39m, max_diff\u001b[38;5;241m=\u001b[39mmax_diff\n\u001b[0;32m    796\u001b[0m     )\n",
            "File \u001b[1;32mc:\\Users\\cruxm\\AppData\\Local\\Programs\\Python\\Python312\\Lib\\site-packages\\pennylane\\workflow\\interfaces\\autograd.py:147\u001b[0m, in \u001b[0;36mautograd_execute\u001b[1;34m(tapes, execute_fn, jpc, device)\u001b[0m\n\u001b[0;32m    142\u001b[0m \u001b[38;5;66;03m# pylint misidentifies autograd.builtins as a dict\u001b[39;00m\n\u001b[0;32m    143\u001b[0m \u001b[38;5;66;03m# pylint: disable=no-member\u001b[39;00m\n\u001b[0;32m    144\u001b[0m parameters \u001b[38;5;241m=\u001b[39m autograd\u001b[38;5;241m.\u001b[39mbuiltins\u001b[38;5;241m.\u001b[39mtuple(\n\u001b[0;32m    145\u001b[0m     [autograd\u001b[38;5;241m.\u001b[39mbuiltins\u001b[38;5;241m.\u001b[39mlist(t\u001b[38;5;241m.\u001b[39mget_parameters()) \u001b[38;5;28;01mfor\u001b[39;00m t \u001b[38;5;129;01min\u001b[39;00m tapes]\n\u001b[0;32m    146\u001b[0m )\n\u001b[1;32m--> 147\u001b[0m \u001b[38;5;28;01mreturn\u001b[39;00m \u001b[43m_execute\u001b[49m\u001b[43m(\u001b[49m\u001b[43mparameters\u001b[49m\u001b[43m,\u001b[49m\u001b[43m \u001b[49m\u001b[38;5;28;43mtuple\u001b[39;49m\u001b[43m(\u001b[49m\u001b[43mtapes\u001b[49m\u001b[43m)\u001b[49m\u001b[43m,\u001b[49m\u001b[43m \u001b[49m\u001b[43mexecute_fn\u001b[49m\u001b[43m,\u001b[49m\u001b[43m \u001b[49m\u001b[43mjpc\u001b[49m\u001b[43m)\u001b[49m\n",
            "File \u001b[1;32mc:\\Users\\cruxm\\AppData\\Local\\Programs\\Python\\Python312\\Lib\\site-packages\\autograd\\tracer.py:48\u001b[0m, in \u001b[0;36mprimitive.<locals>.f_wrapped\u001b[1;34m(*args, **kwargs)\u001b[0m\n\u001b[0;32m     46\u001b[0m     \u001b[38;5;28;01mreturn\u001b[39;00m new_box(ans, trace, node)\n\u001b[0;32m     47\u001b[0m \u001b[38;5;28;01melse\u001b[39;00m:\n\u001b[1;32m---> 48\u001b[0m     \u001b[38;5;28;01mreturn\u001b[39;00m \u001b[43mf_raw\u001b[49m\u001b[43m(\u001b[49m\u001b[38;5;241;43m*\u001b[39;49m\u001b[43margs\u001b[49m\u001b[43m,\u001b[49m\u001b[43m \u001b[49m\u001b[38;5;241;43m*\u001b[39;49m\u001b[38;5;241;43m*\u001b[39;49m\u001b[43mkwargs\u001b[49m\u001b[43m)\u001b[49m\n",
            "File \u001b[1;32mc:\\Users\\cruxm\\AppData\\Local\\Programs\\Python\\Python312\\Lib\\site-packages\\pennylane\\workflow\\interfaces\\autograd.py:168\u001b[0m, in \u001b[0;36m_execute\u001b[1;34m(parameters, tapes, execute_fn, jpc)\u001b[0m\n\u001b[0;32m    150\u001b[0m \u001b[38;5;129m@autograd\u001b[39m\u001b[38;5;241m.\u001b[39mextend\u001b[38;5;241m.\u001b[39mprimitive\n\u001b[0;32m    151\u001b[0m \u001b[38;5;28;01mdef\u001b[39;00m \u001b[38;5;21m_execute\u001b[39m(\n\u001b[0;32m    152\u001b[0m     parameters,\n\u001b[1;32m   (...)\u001b[0m\n\u001b[0;32m    155\u001b[0m     jpc,\n\u001b[0;32m    156\u001b[0m ):  \u001b[38;5;66;03m# pylint: disable=unused-argument\u001b[39;00m\n\u001b[0;32m    157\u001b[0m \u001b[38;5;250m    \u001b[39m\u001b[38;5;124;03m\"\"\"Autodifferentiable wrapper around a way of executing tapes.\u001b[39;00m\n\u001b[0;32m    158\u001b[0m \n\u001b[0;32m    159\u001b[0m \u001b[38;5;124;03m    Args:\u001b[39;00m\n\u001b[1;32m   (...)\u001b[0m\n\u001b[0;32m    166\u001b[0m \n\u001b[0;32m    167\u001b[0m \u001b[38;5;124;03m    \"\"\"\u001b[39;00m\n\u001b[1;32m--> 168\u001b[0m     \u001b[38;5;28;01mreturn\u001b[39;00m \u001b[43mexecute_fn\u001b[49m\u001b[43m(\u001b[49m\u001b[43mtapes\u001b[49m\u001b[43m)\u001b[49m\n",
            "File \u001b[1;32mc:\\Users\\cruxm\\AppData\\Local\\Programs\\Python\\Python312\\Lib\\site-packages\\pennylane\\workflow\\execution.py:297\u001b[0m, in \u001b[0;36m_make_inner_execute.<locals>.inner_execute\u001b[1;34m(tapes, **_)\u001b[0m\n\u001b[0;32m    294\u001b[0m transformed_tapes, transform_post_processing \u001b[38;5;241m=\u001b[39m transform_program(tapes)\n\u001b[0;32m    296\u001b[0m \u001b[38;5;28;01mif\u001b[39;00m transformed_tapes:\n\u001b[1;32m--> 297\u001b[0m     results \u001b[38;5;241m=\u001b[39m \u001b[43mdevice_execution\u001b[49m\u001b[43m(\u001b[49m\u001b[43mtransformed_tapes\u001b[49m\u001b[43m)\u001b[49m\n\u001b[0;32m    298\u001b[0m \u001b[38;5;28;01melse\u001b[39;00m:\n\u001b[0;32m    299\u001b[0m     results \u001b[38;5;241m=\u001b[39m ()\n",
            "File \u001b[1;32mc:\\Users\\cruxm\\AppData\\Local\\Programs\\Python\\Python312\\Lib\\site-packages\\pennylane\\devices\\modifiers\\simulator_tracking.py:30\u001b[0m, in \u001b[0;36m_track_execute.<locals>.execute\u001b[1;34m(self, circuits, execution_config)\u001b[0m\n\u001b[0;32m     28\u001b[0m \u001b[38;5;129m@wraps\u001b[39m(untracked_execute)\n\u001b[0;32m     29\u001b[0m \u001b[38;5;28;01mdef\u001b[39;00m \u001b[38;5;21mexecute\u001b[39m(\u001b[38;5;28mself\u001b[39m, circuits, execution_config\u001b[38;5;241m=\u001b[39mDefaultExecutionConfig):\n\u001b[1;32m---> 30\u001b[0m     results \u001b[38;5;241m=\u001b[39m \u001b[43muntracked_execute\u001b[49m\u001b[43m(\u001b[49m\u001b[38;5;28;43mself\u001b[39;49m\u001b[43m,\u001b[49m\u001b[43m \u001b[49m\u001b[43mcircuits\u001b[49m\u001b[43m,\u001b[49m\u001b[43m \u001b[49m\u001b[43mexecution_config\u001b[49m\u001b[43m)\u001b[49m\n\u001b[0;32m     31\u001b[0m     \u001b[38;5;28;01mif\u001b[39;00m \u001b[38;5;28misinstance\u001b[39m(circuits, QuantumScript):\n\u001b[0;32m     32\u001b[0m         batch \u001b[38;5;241m=\u001b[39m (circuits,)\n",
            "File \u001b[1;32mc:\\Users\\cruxm\\AppData\\Local\\Programs\\Python\\Python312\\Lib\\site-packages\\pennylane\\devices\\modifiers\\single_tape_support.py:32\u001b[0m, in \u001b[0;36m_make_execute.<locals>.execute\u001b[1;34m(self, circuits, execution_config)\u001b[0m\n\u001b[0;32m     30\u001b[0m     is_single_circuit \u001b[38;5;241m=\u001b[39m \u001b[38;5;28;01mTrue\u001b[39;00m\n\u001b[0;32m     31\u001b[0m     circuits \u001b[38;5;241m=\u001b[39m (circuits,)\n\u001b[1;32m---> 32\u001b[0m results \u001b[38;5;241m=\u001b[39m \u001b[43mbatch_execute\u001b[49m\u001b[43m(\u001b[49m\u001b[38;5;28;43mself\u001b[39;49m\u001b[43m,\u001b[49m\u001b[43m \u001b[49m\u001b[43mcircuits\u001b[49m\u001b[43m,\u001b[49m\u001b[43m \u001b[49m\u001b[43mexecution_config\u001b[49m\u001b[43m)\u001b[49m\n\u001b[0;32m     33\u001b[0m \u001b[38;5;28;01mreturn\u001b[39;00m results[\u001b[38;5;241m0\u001b[39m] \u001b[38;5;28;01mif\u001b[39;00m is_single_circuit \u001b[38;5;28;01melse\u001b[39;00m results\n",
            "File \u001b[1;32mc:\\Users\\cruxm\\AppData\\Local\\Programs\\Python\\Python312\\Lib\\site-packages\\pennylane_lightning\\lightning_qubit\\lightning_qubit.py:600\u001b[0m, in \u001b[0;36mLightningQubit.execute\u001b[1;34m(self, circuits, execution_config)\u001b[0m\n\u001b[0;32m    598\u001b[0m     \u001b[38;5;28;01mif\u001b[39;00m \u001b[38;5;28mself\u001b[39m\u001b[38;5;241m.\u001b[39m_wire_map \u001b[38;5;129;01mis\u001b[39;00m \u001b[38;5;129;01mnot\u001b[39;00m \u001b[38;5;28;01mNone\u001b[39;00m:\n\u001b[0;32m    599\u001b[0m         [circuit], _ \u001b[38;5;241m=\u001b[39m qml\u001b[38;5;241m.\u001b[39mmap_wires(circuit, \u001b[38;5;28mself\u001b[39m\u001b[38;5;241m.\u001b[39m_wire_map)\n\u001b[1;32m--> 600\u001b[0m     results\u001b[38;5;241m.\u001b[39mappend(\u001b[43msimulate\u001b[49m\u001b[43m(\u001b[49m\u001b[43mcircuit\u001b[49m\u001b[43m,\u001b[49m\u001b[43m \u001b[49m\u001b[38;5;28;43mself\u001b[39;49m\u001b[38;5;241;43m.\u001b[39;49m\u001b[43m_statevector\u001b[49m\u001b[43m,\u001b[49m\u001b[43m \u001b[49m\u001b[43mmcmc\u001b[49m\u001b[38;5;241;43m=\u001b[39;49m\u001b[43mmcmc\u001b[49m\u001b[43m)\u001b[49m)\n\u001b[0;32m    602\u001b[0m \u001b[38;5;28;01mreturn\u001b[39;00m \u001b[38;5;28mtuple\u001b[39m(results)\n",
            "File \u001b[1;32mc:\\Users\\cruxm\\AppData\\Local\\Programs\\Python\\Python312\\Lib\\site-packages\\pennylane_lightning\\lightning_qubit\\lightning_qubit.py:87\u001b[0m, in \u001b[0;36msimulate\u001b[1;34m(circuit, state, mcmc)\u001b[0m\n\u001b[0;32m     83\u001b[0m     \u001b[38;5;28;01mreturn\u001b[39;00m LightningMeasurements(final_state, \u001b[38;5;241m*\u001b[39m\u001b[38;5;241m*\u001b[39mmcmc)\u001b[38;5;241m.\u001b[39mmeasure_final_state(\n\u001b[0;32m     84\u001b[0m         circuit, mid_measurements\u001b[38;5;241m=\u001b[39mmid_measurements\n\u001b[0;32m     85\u001b[0m     )\n\u001b[0;32m     86\u001b[0m final_state \u001b[38;5;241m=\u001b[39m state\u001b[38;5;241m.\u001b[39mget_final_state(circuit)\n\u001b[1;32m---> 87\u001b[0m \u001b[38;5;28;01mreturn\u001b[39;00m \u001b[43mLightningMeasurements\u001b[49m\u001b[43m(\u001b[49m\u001b[43mfinal_state\u001b[49m\u001b[43m,\u001b[49m\u001b[43m \u001b[49m\u001b[38;5;241;43m*\u001b[39;49m\u001b[38;5;241;43m*\u001b[39;49m\u001b[43mmcmc\u001b[49m\u001b[43m)\u001b[49m\u001b[38;5;241;43m.\u001b[39;49m\u001b[43mmeasure_final_state\u001b[49m\u001b[43m(\u001b[49m\u001b[43mcircuit\u001b[49m\u001b[43m)\u001b[49m\n",
            "File \u001b[1;32mc:\\Users\\cruxm\\AppData\\Local\\Programs\\Python\\Python312\\Lib\\site-packages\\pennylane_lightning\\lightning_qubit\\_measurements.py:273\u001b[0m, in \u001b[0;36mLightningMeasurements.measure_final_state\u001b[1;34m(self, circuit, mid_measurements)\u001b[0m\n\u001b[0;32m    270\u001b[0m     \u001b[38;5;28;01mreturn\u001b[39;00m \u001b[38;5;28mtuple\u001b[39m(\u001b[38;5;28mself\u001b[39m\u001b[38;5;241m.\u001b[39mmeasurement(mp) \u001b[38;5;28;01mfor\u001b[39;00m mp \u001b[38;5;129;01min\u001b[39;00m circuit\u001b[38;5;241m.\u001b[39mmeasurements)\n\u001b[0;32m    272\u001b[0m \u001b[38;5;66;03m# finite-shot case\u001b[39;00m\n\u001b[1;32m--> 273\u001b[0m results \u001b[38;5;241m=\u001b[39m \u001b[38;5;28;43mself\u001b[39;49m\u001b[38;5;241;43m.\u001b[39;49m\u001b[43mmeasure_with_samples\u001b[49m\u001b[43m(\u001b[49m\n\u001b[0;32m    274\u001b[0m \u001b[43m    \u001b[49m\u001b[43mcircuit\u001b[49m\u001b[38;5;241;43m.\u001b[39;49m\u001b[43mmeasurements\u001b[49m\u001b[43m,\u001b[49m\n\u001b[0;32m    275\u001b[0m \u001b[43m    \u001b[49m\u001b[43mshots\u001b[49m\u001b[38;5;241;43m=\u001b[39;49m\u001b[43mcircuit\u001b[49m\u001b[38;5;241;43m.\u001b[39;49m\u001b[43mshots\u001b[49m\u001b[43m,\u001b[49m\n\u001b[0;32m    276\u001b[0m \u001b[43m    \u001b[49m\u001b[43mmid_measurements\u001b[49m\u001b[38;5;241;43m=\u001b[39;49m\u001b[43mmid_measurements\u001b[49m\u001b[43m,\u001b[49m\n\u001b[0;32m    277\u001b[0m \u001b[43m\u001b[49m\u001b[43m)\u001b[49m\n\u001b[0;32m    279\u001b[0m \u001b[38;5;28;01mif\u001b[39;00m \u001b[38;5;28mlen\u001b[39m(circuit\u001b[38;5;241m.\u001b[39mmeasurements) \u001b[38;5;241m==\u001b[39m \u001b[38;5;241m1\u001b[39m:\n\u001b[0;32m    280\u001b[0m     \u001b[38;5;28;01mif\u001b[39;00m circuit\u001b[38;5;241m.\u001b[39mshots\u001b[38;5;241m.\u001b[39mhas_partitioned_shots:\n",
            "File \u001b[1;32mc:\\Users\\cruxm\\AppData\\Local\\Programs\\Python\\Python312\\Lib\\site-packages\\pennylane_lightning\\lightning_qubit\\_measurements.py:314\u001b[0m, in \u001b[0;36mLightningMeasurements.measure_with_samples\u001b[1;34m(self, measurements, shots, mid_measurements)\u001b[0m\n\u001b[0;32m    309\u001b[0m mps \u001b[38;5;241m=\u001b[39m measurements[\u001b[38;5;241m0\u001b[39m : \u001b[38;5;241m-\u001b[39m\u001b[38;5;28mlen\u001b[39m(mid_measurements)] \u001b[38;5;28;01mif\u001b[39;00m mid_measurements \u001b[38;5;28;01melse\u001b[39;00m measurements\n\u001b[0;32m    310\u001b[0m skip_measure \u001b[38;5;241m=\u001b[39m (\n\u001b[0;32m    311\u001b[0m     \u001b[38;5;28many\u001b[39m(v \u001b[38;5;241m==\u001b[39m \u001b[38;5;241m-\u001b[39m\u001b[38;5;241m1\u001b[39m \u001b[38;5;28;01mfor\u001b[39;00m v \u001b[38;5;129;01min\u001b[39;00m mid_measurements\u001b[38;5;241m.\u001b[39mvalues()) \u001b[38;5;28;01mif\u001b[39;00m mid_measurements \u001b[38;5;28;01melse\u001b[39;00m \u001b[38;5;28;01mFalse\u001b[39;00m\n\u001b[0;32m    312\u001b[0m )\n\u001b[1;32m--> 314\u001b[0m groups, indices \u001b[38;5;241m=\u001b[39m \u001b[43m_group_measurements\u001b[49m\u001b[43m(\u001b[49m\u001b[43mmps\u001b[49m\u001b[43m)\u001b[49m\n\u001b[0;32m    316\u001b[0m all_res \u001b[38;5;241m=\u001b[39m []\n\u001b[0;32m    317\u001b[0m \u001b[38;5;28;01mfor\u001b[39;00m group \u001b[38;5;129;01min\u001b[39;00m groups:\n",
            "File \u001b[1;32mc:\\Users\\cruxm\\AppData\\Local\\Programs\\Python\\Python312\\Lib\\site-packages\\pennylane\\devices\\qubit\\sampling.py:82\u001b[0m, in \u001b[0;36m_group_measurements\u001b[1;34m(mps)\u001b[0m\n\u001b[0;32m     80\u001b[0m \u001b[38;5;28;01mif\u001b[39;00m mp_pauli_obs:\n\u001b[0;32m     81\u001b[0m     i_to_pauli_mp \u001b[38;5;241m=\u001b[39m \u001b[38;5;28mdict\u001b[39m(mp_pauli_obs)\n\u001b[1;32m---> 82\u001b[0m     _, group_indices \u001b[38;5;241m=\u001b[39m \u001b[43mqml\u001b[49m\u001b[38;5;241;43m.\u001b[39;49m\u001b[43mpauli\u001b[49m\u001b[38;5;241;43m.\u001b[39;49m\u001b[43mgroup_observables\u001b[49m\u001b[43m(\u001b[49m\n\u001b[0;32m     83\u001b[0m \u001b[43m        \u001b[49m\u001b[43m[\u001b[49m\u001b[43mmp\u001b[49m\u001b[38;5;241;43m.\u001b[39;49m\u001b[43mobs\u001b[49m\u001b[43m \u001b[49m\u001b[38;5;28;43;01mfor\u001b[39;49;00m\u001b[43m \u001b[49m\u001b[43mmp\u001b[49m\u001b[43m \u001b[49m\u001b[38;5;129;43;01min\u001b[39;49;00m\u001b[43m \u001b[49m\u001b[43mi_to_pauli_mp\u001b[49m\u001b[38;5;241;43m.\u001b[39;49m\u001b[43mvalues\u001b[49m\u001b[43m(\u001b[49m\u001b[43m)\u001b[49m\u001b[43m]\u001b[49m\u001b[43m,\u001b[49m\u001b[43m \u001b[49m\u001b[38;5;28;43mlist\u001b[39;49m\u001b[43m(\u001b[49m\u001b[43mi_to_pauli_mp\u001b[49m\u001b[38;5;241;43m.\u001b[39;49m\u001b[43mkeys\u001b[49m\u001b[43m(\u001b[49m\u001b[43m)\u001b[49m\u001b[43m)\u001b[49m\n\u001b[0;32m     84\u001b[0m \u001b[43m    \u001b[49m\u001b[43m)\u001b[49m\n\u001b[0;32m     86\u001b[0m     mp_pauli_groups \u001b[38;5;241m=\u001b[39m []\n\u001b[0;32m     87\u001b[0m     \u001b[38;5;28;01mfor\u001b[39;00m indices \u001b[38;5;129;01min\u001b[39;00m group_indices:\n",
            "File \u001b[1;32mc:\\Users\\cruxm\\AppData\\Local\\Programs\\Python\\Python312\\Lib\\site-packages\\pennylane\\pauli\\grouping\\group_observables.py:253\u001b[0m, in \u001b[0;36mgroup_observables\u001b[1;34m(observables, coefficients, grouping_type, method)\u001b[0m\n\u001b[0;32m    250\u001b[0m     qml\u001b[38;5;241m.\u001b[39moperation\u001b[38;5;241m.\u001b[39menable_new_opmath(warn\u001b[38;5;241m=\u001b[39m\u001b[38;5;28;01mFalse\u001b[39;00m)\n\u001b[0;32m    252\u001b[0m \u001b[38;5;28;01mtry\u001b[39;00m:\n\u001b[1;32m--> 253\u001b[0m     partitioned_paulis \u001b[38;5;241m=\u001b[39m \u001b[43mpauli_grouping\u001b[49m\u001b[38;5;241;43m.\u001b[39;49m\u001b[43mcolour_pauli_graph\u001b[49m\u001b[43m(\u001b[49m\u001b[43m)\u001b[49m\n\u001b[0;32m    254\u001b[0m \u001b[38;5;28;01mfinally\u001b[39;00m:\n\u001b[0;32m    255\u001b[0m     \u001b[38;5;28;01mif\u001b[39;00m temp_opmath:\n",
            "File \u001b[1;32mc:\\Users\\cruxm\\AppData\\Local\\Programs\\Python\\Python312\\Lib\\site-packages\\pennylane\\pauli\\grouping\\group_observables.py:168\u001b[0m, in \u001b[0;36mPauliGroupingStrategy.colour_pauli_graph\u001b[1;34m(self)\u001b[0m\n\u001b[0;32m    159\u001b[0m \u001b[38;5;250m\u001b[39m\u001b[38;5;124;03m\"\"\"\u001b[39;00m\n\u001b[0;32m    160\u001b[0m \u001b[38;5;124;03mRuns the graph colouring heuristic algorithm to obtain the partitioned Pauli words.\u001b[39;00m\n\u001b[0;32m    161\u001b[0m \n\u001b[1;32m   (...)\u001b[0m\n\u001b[0;32m    164\u001b[0m \u001b[38;5;124;03m    list of Pauli word ``Observable`` instances\u001b[39;00m\n\u001b[0;32m    165\u001b[0m \u001b[38;5;124;03m\"\"\"\u001b[39;00m\n\u001b[0;32m    167\u001b[0m \u001b[38;5;28;01mif\u001b[39;00m \u001b[38;5;28mself\u001b[39m\u001b[38;5;241m.\u001b[39madj_matrix \u001b[38;5;129;01mis\u001b[39;00m \u001b[38;5;28;01mNone\u001b[39;00m:\n\u001b[1;32m--> 168\u001b[0m     \u001b[38;5;28mself\u001b[39m\u001b[38;5;241m.\u001b[39madj_matrix \u001b[38;5;241m=\u001b[39m \u001b[38;5;28;43mself\u001b[39;49m\u001b[38;5;241;43m.\u001b[39;49m\u001b[43mcomplement_adj_matrix_for_operator\u001b[49m\u001b[43m(\u001b[49m\u001b[43m)\u001b[49m\n\u001b[0;32m    170\u001b[0m coloured_binary_paulis \u001b[38;5;241m=\u001b[39m \u001b[38;5;28mself\u001b[39m\u001b[38;5;241m.\u001b[39mgraph_colourer(\u001b[38;5;28mself\u001b[39m\u001b[38;5;241m.\u001b[39mbinary_observables, \u001b[38;5;28mself\u001b[39m\u001b[38;5;241m.\u001b[39madj_matrix)\n\u001b[0;32m    172\u001b[0m \u001b[38;5;28mself\u001b[39m\u001b[38;5;241m.\u001b[39mgrouped_paulis \u001b[38;5;241m=\u001b[39m [\n\u001b[0;32m    173\u001b[0m     [binary_to_pauli(pauli_word, wire_map\u001b[38;5;241m=\u001b[39m\u001b[38;5;28mself\u001b[39m\u001b[38;5;241m.\u001b[39m_wire_map) \u001b[38;5;28;01mfor\u001b[39;00m pauli_word \u001b[38;5;129;01min\u001b[39;00m grouping]\n\u001b[0;32m    174\u001b[0m     \u001b[38;5;28;01mfor\u001b[39;00m grouping \u001b[38;5;129;01min\u001b[39;00m coloured_binary_paulis\u001b[38;5;241m.\u001b[39mvalues()\n\u001b[0;32m    175\u001b[0m ]\n",
            "File \u001b[1;32mc:\\Users\\cruxm\\AppData\\Local\\Programs\\Python\\Python312\\Lib\\site-packages\\pennylane\\pauli\\grouping\\group_observables.py:131\u001b[0m, in \u001b[0;36mPauliGroupingStrategy.complement_adj_matrix_for_operator\u001b[1;34m(self)\u001b[0m\n\u001b[0;32m    121\u001b[0m \u001b[38;5;250m\u001b[39m\u001b[38;5;124;03m\"\"\"Constructs the adjacency matrix for the complement of the Pauli graph.\u001b[39;00m\n\u001b[0;32m    122\u001b[0m \n\u001b[0;32m    123\u001b[0m \u001b[38;5;124;03mThe adjacency matrix for an undirected graph of N vertices is an N by N symmetric binary\u001b[39;00m\n\u001b[1;32m   (...)\u001b[0m\n\u001b[0;32m    127\u001b[0m \u001b[38;5;124;03m    array[int]: the square and symmetric adjacency matrix\u001b[39;00m\n\u001b[0;32m    128\u001b[0m \u001b[38;5;124;03m\"\"\"\u001b[39;00m\n\u001b[0;32m    130\u001b[0m \u001b[38;5;28;01mif\u001b[39;00m \u001b[38;5;28mself\u001b[39m\u001b[38;5;241m.\u001b[39mbinary_observables \u001b[38;5;129;01mis\u001b[39;00m \u001b[38;5;28;01mNone\u001b[39;00m:\n\u001b[1;32m--> 131\u001b[0m     \u001b[38;5;28mself\u001b[39m\u001b[38;5;241m.\u001b[39mbinary_observables \u001b[38;5;241m=\u001b[39m \u001b[38;5;28;43mself\u001b[39;49m\u001b[38;5;241;43m.\u001b[39;49m\u001b[43mbinary_repr\u001b[49m\u001b[43m(\u001b[49m\u001b[43m)\u001b[49m\n\u001b[0;32m    133\u001b[0m n_qubits \u001b[38;5;241m=\u001b[39m \u001b[38;5;28mint\u001b[39m(np\u001b[38;5;241m.\u001b[39mshape(\u001b[38;5;28mself\u001b[39m\u001b[38;5;241m.\u001b[39mbinary_observables)[\u001b[38;5;241m1\u001b[39m] \u001b[38;5;241m/\u001b[39m \u001b[38;5;241m2\u001b[39m)\n\u001b[0;32m    135\u001b[0m \u001b[38;5;28;01mif\u001b[39;00m \u001b[38;5;28mself\u001b[39m\u001b[38;5;241m.\u001b[39mgrouping_type \u001b[38;5;241m==\u001b[39m \u001b[38;5;124m\"\u001b[39m\u001b[38;5;124mqwc\u001b[39m\u001b[38;5;124m\"\u001b[39m:\n",
            "File \u001b[1;32mc:\\Users\\cruxm\\AppData\\Local\\Programs\\Python\\Python312\\Lib\\site-packages\\pennylane\\pauli\\grouping\\group_observables.py:118\u001b[0m, in \u001b[0;36mPauliGroupingStrategy.binary_repr\u001b[1;34m(self, n_qubits, wire_map)\u001b[0m\n\u001b[0;32m    114\u001b[0m     \u001b[38;5;28mself\u001b[39m\u001b[38;5;241m.\u001b[39m_wire_map \u001b[38;5;241m=\u001b[39m wire_map\n\u001b[0;32m    116\u001b[0m \u001b[38;5;28mself\u001b[39m\u001b[38;5;241m.\u001b[39m_n_qubits \u001b[38;5;241m=\u001b[39m n_qubits\n\u001b[1;32m--> 118\u001b[0m \u001b[38;5;28;01mreturn\u001b[39;00m \u001b[43mobservables_to_binary_matrix\u001b[49m\u001b[43m(\u001b[49m\u001b[38;5;28;43mself\u001b[39;49m\u001b[38;5;241;43m.\u001b[39;49m\u001b[43mobservables\u001b[49m\u001b[43m,\u001b[49m\u001b[43m \u001b[49m\u001b[43mn_qubits\u001b[49m\u001b[43m,\u001b[49m\u001b[43m \u001b[49m\u001b[38;5;28;43mself\u001b[39;49m\u001b[38;5;241;43m.\u001b[39;49m\u001b[43m_wire_map\u001b[49m\u001b[43m)\u001b[49m\n",
            "File \u001b[1;32mc:\\Users\\cruxm\\AppData\\Local\\Programs\\Python\\Python312\\Lib\\site-packages\\pennylane\\pauli\\utils.py:776\u001b[0m, in \u001b[0;36mobservables_to_binary_matrix\u001b[1;34m(observables, n_qubits, wire_map)\u001b[0m\n\u001b[0;32m    773\u001b[0m binary_mat \u001b[38;5;241m=\u001b[39m np\u001b[38;5;241m.\u001b[39mzeros((m_cols, \u001b[38;5;241m2\u001b[39m \u001b[38;5;241m*\u001b[39m n_qubits))\n\u001b[0;32m    775\u001b[0m \u001b[38;5;28;01mfor\u001b[39;00m i \u001b[38;5;129;01min\u001b[39;00m \u001b[38;5;28mrange\u001b[39m(m_cols):\n\u001b[1;32m--> 776\u001b[0m     binary_mat[i, :] \u001b[38;5;241m=\u001b[39m pauli_to_binary(observables[i], n_qubits\u001b[38;5;241m=\u001b[39mn_qubits, wire_map\u001b[38;5;241m=\u001b[39mwire_map)\n\u001b[0;32m    778\u001b[0m \u001b[38;5;28;01mreturn\u001b[39;00m binary_mat\n",
            "\u001b[1;31mKeyboardInterrupt\u001b[0m: "
          ]
        }
      ],
      "source": [
        "num_qubits = 2\n",
        "\n",
        "# set up a two-qubit device with shots = 1 to ensure that we only get a single measurement\n",
        "dev = qml.device(\"lightning.qubit\", wires=num_qubits, shots=1)\n",
        "\n",
        "\n",
        "# simple circuit to prepare rho\n",
        "@qml.qnode(dev)\n",
        "def local_qubit_rotation_circuit(params, **kwargs):\n",
        "    observables = kwargs.pop(\"observable\")\n",
        "    for w in dev.wires:\n",
        "        qml.RY(params[w], wires=w)\n",
        "\n",
        "    return [qml.expval(o) for o in observables]\n",
        "\n",
        "\n",
        "# arrays in which to collect data\n",
        "elapsed_times = []\n",
        "shadows = []\n",
        "\n",
        "# collecting shadows and elapsed times\n",
        "params = np.random.randn(2)\n",
        "for num_snapshots in [10, 100, 1000, 10000]:\n",
        "    start = time.time()\n",
        "    shadow = calculate_classical_shadow(\n",
        "        local_qubit_rotation_circuit, params, num_snapshots, num_qubits\n",
        "    )\n",
        "    elapsed_times.append(time.time() - start)\n",
        "    shadows.append(shadow)\n",
        "\n",
        "# printing out the smallest shadow as an example\n",
        "print(shadows[0][0])\n",
        "print(shadows[0][1])"
      ]
    },
    {
      "cell_type": "markdown",
      "metadata": {},
      "source": [
        "Observe that the shadow simply consists of two matrices. Each qubit\n",
        "corresponds to a different column. The first matrix describes outcome of\n",
        "the measurement while the second matrix indexes the measurement applied\n",
        "to each qubit. We now plot the computation times taken to acquire the\n",
        "shadows.\n"
      ]
    },
    {
      "cell_type": "code",
      "execution_count": 5,
      "metadata": {
        "collapsed": false
      },
      "outputs": [
        {
          "ename": "ValueError",
          "evalue": "x and y must have same first dimension, but have shapes (4,) and (3,)",
          "output_type": "error",
          "traceback": [
            "\u001b[1;31m---------------------------------------------------------------------------\u001b[0m",
            "\u001b[1;31mValueError\u001b[0m                                Traceback (most recent call last)",
            "Cell \u001b[1;32mIn[5], line 1\u001b[0m\n\u001b[1;32m----> 1\u001b[0m \u001b[43mplt\u001b[49m\u001b[38;5;241;43m.\u001b[39;49m\u001b[43mplot\u001b[49m\u001b[43m(\u001b[49m\u001b[43m[\u001b[49m\u001b[38;5;241;43m10\u001b[39;49m\u001b[43m,\u001b[49m\u001b[43m \u001b[49m\u001b[38;5;241;43m100\u001b[39;49m\u001b[43m,\u001b[49m\u001b[43m \u001b[49m\u001b[38;5;241;43m1000\u001b[39;49m\u001b[43m,\u001b[49m\u001b[43m \u001b[49m\u001b[38;5;241;43m10000\u001b[39;49m\u001b[43m]\u001b[49m\u001b[43m,\u001b[49m\u001b[43m \u001b[49m\u001b[43melapsed_times\u001b[49m\u001b[43m)\u001b[49m\n\u001b[0;32m      2\u001b[0m plt\u001b[38;5;241m.\u001b[39mtitle(\u001b[38;5;124m\"\u001b[39m\u001b[38;5;124mTime taken to obtain a classical shadow from a two-qubit state\u001b[39m\u001b[38;5;124m\"\u001b[39m)\n\u001b[0;32m      3\u001b[0m plt\u001b[38;5;241m.\u001b[39mxlabel(\u001b[38;5;124m\"\u001b[39m\u001b[38;5;124mNumber of Snapshots in Shadow\u001b[39m\u001b[38;5;124m\"\u001b[39m)\n",
            "File \u001b[1;32mc:\\Users\\cruxm\\AppData\\Local\\Programs\\Python\\Python312\\Lib\\site-packages\\matplotlib\\pyplot.py:3590\u001b[0m, in \u001b[0;36mplot\u001b[1;34m(scalex, scaley, data, *args, **kwargs)\u001b[0m\n\u001b[0;32m   3582\u001b[0m \u001b[38;5;129m@_copy_docstring_and_deprecators\u001b[39m(Axes\u001b[38;5;241m.\u001b[39mplot)\n\u001b[0;32m   3583\u001b[0m \u001b[38;5;28;01mdef\u001b[39;00m \u001b[38;5;21mplot\u001b[39m(\n\u001b[0;32m   3584\u001b[0m     \u001b[38;5;241m*\u001b[39margs: \u001b[38;5;28mfloat\u001b[39m \u001b[38;5;241m|\u001b[39m ArrayLike \u001b[38;5;241m|\u001b[39m \u001b[38;5;28mstr\u001b[39m,\n\u001b[1;32m   (...)\u001b[0m\n\u001b[0;32m   3588\u001b[0m     \u001b[38;5;241m*\u001b[39m\u001b[38;5;241m*\u001b[39mkwargs,\n\u001b[0;32m   3589\u001b[0m ) \u001b[38;5;241m-\u001b[39m\u001b[38;5;241m>\u001b[39m \u001b[38;5;28mlist\u001b[39m[Line2D]:\n\u001b[1;32m-> 3590\u001b[0m     \u001b[38;5;28;01mreturn\u001b[39;00m \u001b[43mgca\u001b[49m\u001b[43m(\u001b[49m\u001b[43m)\u001b[49m\u001b[38;5;241;43m.\u001b[39;49m\u001b[43mplot\u001b[49m\u001b[43m(\u001b[49m\n\u001b[0;32m   3591\u001b[0m \u001b[43m        \u001b[49m\u001b[38;5;241;43m*\u001b[39;49m\u001b[43margs\u001b[49m\u001b[43m,\u001b[49m\n\u001b[0;32m   3592\u001b[0m \u001b[43m        \u001b[49m\u001b[43mscalex\u001b[49m\u001b[38;5;241;43m=\u001b[39;49m\u001b[43mscalex\u001b[49m\u001b[43m,\u001b[49m\n\u001b[0;32m   3593\u001b[0m \u001b[43m        \u001b[49m\u001b[43mscaley\u001b[49m\u001b[38;5;241;43m=\u001b[39;49m\u001b[43mscaley\u001b[49m\u001b[43m,\u001b[49m\n\u001b[0;32m   3594\u001b[0m \u001b[43m        \u001b[49m\u001b[38;5;241;43m*\u001b[39;49m\u001b[38;5;241;43m*\u001b[39;49m\u001b[43m(\u001b[49m\u001b[43m{\u001b[49m\u001b[38;5;124;43m\"\u001b[39;49m\u001b[38;5;124;43mdata\u001b[39;49m\u001b[38;5;124;43m\"\u001b[39;49m\u001b[43m:\u001b[49m\u001b[43m \u001b[49m\u001b[43mdata\u001b[49m\u001b[43m}\u001b[49m\u001b[43m \u001b[49m\u001b[38;5;28;43;01mif\u001b[39;49;00m\u001b[43m \u001b[49m\u001b[43mdata\u001b[49m\u001b[43m \u001b[49m\u001b[38;5;129;43;01mis\u001b[39;49;00m\u001b[43m \u001b[49m\u001b[38;5;129;43;01mnot\u001b[39;49;00m\u001b[43m \u001b[49m\u001b[38;5;28;43;01mNone\u001b[39;49;00m\u001b[43m \u001b[49m\u001b[38;5;28;43;01melse\u001b[39;49;00m\u001b[43m \u001b[49m\u001b[43m{\u001b[49m\u001b[43m}\u001b[49m\u001b[43m)\u001b[49m\u001b[43m,\u001b[49m\n\u001b[0;32m   3595\u001b[0m \u001b[43m        \u001b[49m\u001b[38;5;241;43m*\u001b[39;49m\u001b[38;5;241;43m*\u001b[39;49m\u001b[43mkwargs\u001b[49m\u001b[43m,\u001b[49m\n\u001b[0;32m   3596\u001b[0m \u001b[43m    \u001b[49m\u001b[43m)\u001b[49m\n",
            "File \u001b[1;32mc:\\Users\\cruxm\\AppData\\Local\\Programs\\Python\\Python312\\Lib\\site-packages\\matplotlib\\axes\\_axes.py:1724\u001b[0m, in \u001b[0;36mAxes.plot\u001b[1;34m(self, scalex, scaley, data, *args, **kwargs)\u001b[0m\n\u001b[0;32m   1481\u001b[0m \u001b[38;5;250m\u001b[39m\u001b[38;5;124;03m\"\"\"\u001b[39;00m\n\u001b[0;32m   1482\u001b[0m \u001b[38;5;124;03mPlot y versus x as lines and/or markers.\u001b[39;00m\n\u001b[0;32m   1483\u001b[0m \n\u001b[1;32m   (...)\u001b[0m\n\u001b[0;32m   1721\u001b[0m \u001b[38;5;124;03m(``'green'``) or hex strings (``'#008000'``).\u001b[39;00m\n\u001b[0;32m   1722\u001b[0m \u001b[38;5;124;03m\"\"\"\u001b[39;00m\n\u001b[0;32m   1723\u001b[0m kwargs \u001b[38;5;241m=\u001b[39m cbook\u001b[38;5;241m.\u001b[39mnormalize_kwargs(kwargs, mlines\u001b[38;5;241m.\u001b[39mLine2D)\n\u001b[1;32m-> 1724\u001b[0m lines \u001b[38;5;241m=\u001b[39m [\u001b[38;5;241m*\u001b[39m\u001b[38;5;28mself\u001b[39m\u001b[38;5;241m.\u001b[39m_get_lines(\u001b[38;5;28mself\u001b[39m, \u001b[38;5;241m*\u001b[39margs, data\u001b[38;5;241m=\u001b[39mdata, \u001b[38;5;241m*\u001b[39m\u001b[38;5;241m*\u001b[39mkwargs)]\n\u001b[0;32m   1725\u001b[0m \u001b[38;5;28;01mfor\u001b[39;00m line \u001b[38;5;129;01min\u001b[39;00m lines:\n\u001b[0;32m   1726\u001b[0m     \u001b[38;5;28mself\u001b[39m\u001b[38;5;241m.\u001b[39madd_line(line)\n",
            "File \u001b[1;32mc:\\Users\\cruxm\\AppData\\Local\\Programs\\Python\\Python312\\Lib\\site-packages\\matplotlib\\axes\\_base.py:303\u001b[0m, in \u001b[0;36m_process_plot_var_args.__call__\u001b[1;34m(self, axes, data, *args, **kwargs)\u001b[0m\n\u001b[0;32m    301\u001b[0m     this \u001b[38;5;241m+\u001b[39m\u001b[38;5;241m=\u001b[39m args[\u001b[38;5;241m0\u001b[39m],\n\u001b[0;32m    302\u001b[0m     args \u001b[38;5;241m=\u001b[39m args[\u001b[38;5;241m1\u001b[39m:]\n\u001b[1;32m--> 303\u001b[0m \u001b[38;5;28;01myield from\u001b[39;00m \u001b[38;5;28;43mself\u001b[39;49m\u001b[38;5;241;43m.\u001b[39;49m\u001b[43m_plot_args\u001b[49m\u001b[43m(\u001b[49m\n\u001b[0;32m    304\u001b[0m \u001b[43m    \u001b[49m\u001b[43maxes\u001b[49m\u001b[43m,\u001b[49m\u001b[43m \u001b[49m\u001b[43mthis\u001b[49m\u001b[43m,\u001b[49m\u001b[43m \u001b[49m\u001b[43mkwargs\u001b[49m\u001b[43m,\u001b[49m\u001b[43m \u001b[49m\u001b[43mambiguous_fmt_datakey\u001b[49m\u001b[38;5;241;43m=\u001b[39;49m\u001b[43mambiguous_fmt_datakey\u001b[49m\u001b[43m)\u001b[49m\n",
            "File \u001b[1;32mc:\\Users\\cruxm\\AppData\\Local\\Programs\\Python\\Python312\\Lib\\site-packages\\matplotlib\\axes\\_base.py:499\u001b[0m, in \u001b[0;36m_process_plot_var_args._plot_args\u001b[1;34m(self, axes, tup, kwargs, return_kwargs, ambiguous_fmt_datakey)\u001b[0m\n\u001b[0;32m    496\u001b[0m     axes\u001b[38;5;241m.\u001b[39myaxis\u001b[38;5;241m.\u001b[39mupdate_units(y)\n\u001b[0;32m    498\u001b[0m \u001b[38;5;28;01mif\u001b[39;00m x\u001b[38;5;241m.\u001b[39mshape[\u001b[38;5;241m0\u001b[39m] \u001b[38;5;241m!=\u001b[39m y\u001b[38;5;241m.\u001b[39mshape[\u001b[38;5;241m0\u001b[39m]:\n\u001b[1;32m--> 499\u001b[0m     \u001b[38;5;28;01mraise\u001b[39;00m \u001b[38;5;167;01mValueError\u001b[39;00m(\u001b[38;5;124mf\u001b[39m\u001b[38;5;124m\"\u001b[39m\u001b[38;5;124mx and y must have same first dimension, but \u001b[39m\u001b[38;5;124m\"\u001b[39m\n\u001b[0;32m    500\u001b[0m                      \u001b[38;5;124mf\u001b[39m\u001b[38;5;124m\"\u001b[39m\u001b[38;5;124mhave shapes \u001b[39m\u001b[38;5;132;01m{\u001b[39;00mx\u001b[38;5;241m.\u001b[39mshape\u001b[38;5;132;01m}\u001b[39;00m\u001b[38;5;124m and \u001b[39m\u001b[38;5;132;01m{\u001b[39;00my\u001b[38;5;241m.\u001b[39mshape\u001b[38;5;132;01m}\u001b[39;00m\u001b[38;5;124m\"\u001b[39m)\n\u001b[0;32m    501\u001b[0m \u001b[38;5;28;01mif\u001b[39;00m x\u001b[38;5;241m.\u001b[39mndim \u001b[38;5;241m>\u001b[39m \u001b[38;5;241m2\u001b[39m \u001b[38;5;129;01mor\u001b[39;00m y\u001b[38;5;241m.\u001b[39mndim \u001b[38;5;241m>\u001b[39m \u001b[38;5;241m2\u001b[39m:\n\u001b[0;32m    502\u001b[0m     \u001b[38;5;28;01mraise\u001b[39;00m \u001b[38;5;167;01mValueError\u001b[39;00m(\u001b[38;5;124mf\u001b[39m\u001b[38;5;124m\"\u001b[39m\u001b[38;5;124mx and y can be no greater than 2D, but have \u001b[39m\u001b[38;5;124m\"\u001b[39m\n\u001b[0;32m    503\u001b[0m                      \u001b[38;5;124mf\u001b[39m\u001b[38;5;124m\"\u001b[39m\u001b[38;5;124mshapes \u001b[39m\u001b[38;5;132;01m{\u001b[39;00mx\u001b[38;5;241m.\u001b[39mshape\u001b[38;5;132;01m}\u001b[39;00m\u001b[38;5;124m and \u001b[39m\u001b[38;5;132;01m{\u001b[39;00my\u001b[38;5;241m.\u001b[39mshape\u001b[38;5;132;01m}\u001b[39;00m\u001b[38;5;124m\"\u001b[39m)\n",
            "\u001b[1;31mValueError\u001b[0m: x and y must have same first dimension, but have shapes (4,) and (3,)"
          ]
        },
        {
          "data": {
            "image/png": "[encoded data removed]",
            "text/plain": [
              "<Figure size 640x480 with 1 Axes>"
            ]
          },
          "metadata": {},
          "output_type": "display_data"
        }
      ],
      "source": [
        "plt.plot([10, 100, 1000, 10000], elapsed_times)\n",
        "plt.title(\"Time taken to obtain a classical shadow from a two-qubit state\")\n",
        "plt.xlabel(\"Number of Snapshots in Shadow\")\n",
        "plt.ylabel(\"Elapsed Time\")\n",
        "plt.show()"
      ]
    },
    {
      "cell_type": "markdown",
      "metadata": {},
      "source": [
        "As one might expect, the computation time increases linearly with the\n",
        "number of snapshots. This linear scaling is useful for predicting the\n",
        "length of time required to obtain a sufficient number of snapshots for\n",
        "observable estimation.\n"
      ]
    },
    {
      "cell_type": "markdown",
      "metadata": {},
      "source": [
        "State Reconstruction from a Classical Shadow\n",
        "============================================\n",
        "\n",
        "To verify that the classical shadow approximates the exact state that we\n",
        "want to estimate, we tomographically reconstruct the original quantum\n",
        "state $\\rho$ from a classical shadow. Remember that we can approximate\n",
        "$\\rho$ by averaging over the snapshots and applying the inverse\n",
        "measurement channel,\n",
        "\n",
        "$$\\rho = \\mathbb{E}\\left[\\mathcal{M}^{-1}(U^{\\dagger}|\\hat{b}\\rangle\\langle\\hat{b}|U)\\right].$$\n",
        "\n",
        "The expectation $\\mathbb{E}[\\cdot]$ describes the average over the\n",
        "measurement outcomes $|b\\rangle$ and the sampled unitaries. Inverting\n",
        "the measurement channel may seem formidable at first, however, Huang et\n",
        "al. show that for Pauli measurements we end up with a rather convenient\n",
        "expression,\n",
        "\n",
        "$$\\rho=\\mathbb{E}[\\hat{\\rho}], \\quad \\text{where} \\quad\n",
        "\\hat{\\rho} = \\bigotimes_{j=1}^n(3U^{\\dagger}_j|\\hat{b}_j\\rangle\\langle\\hat{b}_j|U_j-\\mathbb{I}).$$\n",
        "\n",
        "Here $\\hat{\\rho}$ is a snapshot state reconstructed from a single sample\n",
        "in the classical shadow, and $\\rho$ is the average over all snapshot\n",
        "states $\\hat{\\rho}$ in the shadow.\n",
        "\n",
        "To implement the state reconstruction of $\\rho$ in PennyLane, we develop\n",
        "the `shadow_state_reconstruction` function.\n"
      ]
    },
    {
      "cell_type": "code",
      "execution_count": 6,
      "metadata": {
        "collapsed": false
      },
      "outputs": [],
      "source": [
        "def snapshot_state(b_list, obs_list):\n",
        "    \"\"\"\n",
        "    Helper function for `shadow_state_reconstruction` that reconstructs\n",
        "     a state from a single snapshot in a shadow.\n",
        "\n",
        "    Implements Eq. (S44) from https://arxiv.org/pdf/2002.08953.pdf\n",
        "\n",
        "    Args:\n",
        "        b_list (array): The list of classical outcomes for the snapshot.\n",
        "        obs_list (array): Indices for the applied Pauli measurement.\n",
        "\n",
        "    Returns:\n",
        "        Numpy array with the reconstructed snapshot.\n",
        "    \"\"\"\n",
        "    num_qubits = len(b_list)\n",
        "\n",
        "    # computational basis states\n",
        "    zero_state = np.array([[1, 0], [0, 0]])\n",
        "    one_state = np.array([[0, 0], [0, 1]])\n",
        "\n",
        "    # local qubit unitaries\n",
        "    phase_z = np.array([[1, 0], [0, -1j]], dtype=complex)\n",
        "    hadamard = qml.matrix(qml.Hadamard(0))\n",
        "    identity = qml.matrix(qml.Identity(0))\n",
        "\n",
        "    # undo the rotations that were added implicitly to the circuit for the Pauli measurements\n",
        "    unitaries = [hadamard, hadamard @ phase_z, identity]\n",
        "\n",
        "    # reconstructing the snapshot state from local Pauli measurements\n",
        "    rho_snapshot = [1]\n",
        "    for i in range(num_qubits):\n",
        "        state = zero_state if b_list[i] == 1 else one_state\n",
        "        U = unitaries[int(obs_list[i])]\n",
        "\n",
        "        # applying Eq. (S44)\n",
        "        local_rho = 3 * (U.conj().T @ state @ U) - identity\n",
        "        rho_snapshot = np.kron(rho_snapshot, local_rho)\n",
        "\n",
        "    return rho_snapshot\n",
        "\n",
        "\n",
        "def shadow_state_reconstruction(shadow):\n",
        "    \"\"\"\n",
        "    Reconstruct a state approximation as an average over all snapshots in the shadow.\n",
        "\n",
        "    Args:\n",
        "        shadow (tuple): A shadow tuple obtained from `calculate_classical_shadow`.\n",
        "\n",
        "    Returns:\n",
        "        Numpy array with the reconstructed quantum state.\n",
        "    \"\"\"\n",
        "    num_snapshots, num_qubits = shadow[0].shape\n",
        "\n",
        "    # classical values\n",
        "    b_lists, obs_lists = shadow\n",
        "\n",
        "    # Averaging over snapshot states.\n",
        "    shadow_rho = np.zeros((2 ** num_qubits, 2 ** num_qubits), dtype=complex)\n",
        "    for i in range(num_snapshots):\n",
        "        shadow_rho += snapshot_state(b_lists[i], obs_lists[i])\n",
        "\n",
        "    return shadow_rho / num_snapshots"
      ]
    },
    {
      "cell_type": "markdown",
      "metadata": {},
      "source": [
        "My version of the reconstruction protocall"
      ]
    },
    {
      "cell_type": "code",
      "execution_count": 7,
      "metadata": {},
      "outputs": [],
      "source": [
        "def reconstruct_from_shadow(shadow):\n",
        "    \"\"\"\n",
        "    Adapted from https://pennylane.ai/qml/demos/tutorial_classical_shadows/\n",
        "    Given a classical shadow, this function reconstructs an approximation of the density matrix of the quantum state.\n",
        "    \n",
        "    Args:\n",
        "        shadow (np.array): An array of shape (shadow_size, num_qubits) where each element is a tuple of the form (b, unitary_index) where b is the measured basis state in the computational basis and unitary_index is the index of the Pauli operator applied to the qubit.\n",
        "\n",
        "    Returns:\n",
        "        np.array: An approximation of the density matrix of the quantum state.\n",
        "    \"\"\"\n",
        "\n",
        "    # Size of the shadow and Number of qubits in the circuit.\n",
        "    shadow_size, num_qubits = shadow.shape\n",
        "\n",
        "    # Computational basis states.\n",
        "    zero_state = np.matrix([[1,0],[0,0]], dtype=complex)\n",
        "    one_state = np.matrix([[0,0],[0,1]], dtype=complex)\n",
        "\n",
        "    # Local qubit unitaries. \n",
        "    phase_z = np.matrix([[1,0],[0,-1j]], dtype=complex)\n",
        "    hadamard = np.matrix([[1,1],[1,-1]], dtype=complex)/np.sqrt(2)\n",
        "    identity = np.matrix([[1,0],[0,1]], dtype=complex)\n",
        "\n",
        "    # Rotations to measure each of the paulis.\n",
        "    X = hadamard\n",
        "    Y = hadamard @ phase_z\n",
        "    Z = identity\n",
        "\n",
        "    # Tomographically complete set of unitaries. (The pauli basis is tomographically complete.) \n",
        "    unitary_ensemble = [X, Y, Z]\n",
        "\n",
        "    # For a multiqubit state we must apply the formula S44 from the preskill paper.\n",
        "\n",
        "    # Array to store the estimated density matrix.\n",
        "    rho_estimated = np.zeros((2**num_qubits, 2**num_qubits), dtype=complex)\n",
        "\n",
        "    for i in shadow:\n",
        "        # Array to store the density matrix at each snapshot.\n",
        "        rho_snapshot = [1]\n",
        "\n",
        "        for j in i:\n",
        "            \n",
        "            # Implementation of formula S44 from the preskill paper.\n",
        "            U = unitary_ensemble[j[1]]\n",
        "            if j[0] == 0:\n",
        "                b_state = zero_state\n",
        "            else:\n",
        "                b_state = one_state\n",
        "\n",
        "            rho_local = 3 * (U.H @ b_state @ U) - identity\n",
        "\n",
        "            rho_snapshot = np.kron(rho_snapshot, rho_local)\n",
        "\n",
        "        # Average all the inverted basis states to get an approximation of the density matrix.\n",
        "\n",
        "        rho_estimated += rho_snapshot\n",
        "\n",
        "    return rho_estimated/shadow_size"
      ]
    },
    {
      "cell_type": "markdown",
      "metadata": {},
      "source": [
        "Example: Reconstructing a Bell State\n",
        "====================================\n",
        "\n",
        "First, we construct a single-shot, `'lightning.qubit'` device and define\n",
        "the `bell_state_circuit` QNode to construct and measure a Bell state.\n"
      ]
    },
    {
      "cell_type": "code",
      "execution_count": 8,
      "metadata": {
        "collapsed": false
      },
      "outputs": [],
      "source": [
        "num_qubits = 2\n",
        "\n",
        "dev = qml.device(\"lightning.qubit\", wires=num_qubits, shots=1)\n",
        "\n",
        "\n",
        "# circuit to create a Bell state and measure it in\n",
        "# the bases specified by the 'observable' keyword argument.\n",
        "@qml.qnode(dev)\n",
        "def bell_state_circuit(params, **kwargs):\n",
        "    observables = kwargs.pop(\"observable\")\n",
        "\n",
        "    qml.Hadamard(0)\n",
        "    qml.CNOT(wires=[0, 1])\n",
        "\n",
        "    return [qml.expval(o) for o in observables]"
      ]
    },
    {
      "cell_type": "markdown",
      "metadata": {},
      "source": [
        "Then, construct a classical shadow consisting of 1000 snapshots.\n"
      ]
    },
    {
      "cell_type": "code",
      "execution_count": 9,
      "metadata": {
        "collapsed": false
      },
      "outputs": [
        {
          "name": "stdout",
          "output_type": "stream",
          "text": [
            "[[-1.  1.]\n",
            " [ 1. -1.]\n",
            " [-1.  1.]\n",
            " ...\n",
            " [ 1. -1.]\n",
            " [-1.  1.]\n",
            " [-1. -1.]]\n",
            "[[1 1]\n",
            " [2 1]\n",
            " [0 1]\n",
            " ...\n",
            " [0 1]\n",
            " [0 1]\n",
            " [2 1]]\n"
          ]
        }
      ],
      "source": [
        "num_snapshots = 1000\n",
        "params = []\n",
        "\n",
        "shadow = calculate_classical_shadow(\n",
        "    bell_state_circuit, params, num_snapshots, num_qubits\n",
        ")\n",
        "print(shadow[0])\n",
        "print(shadow[1])"
      ]
    },
    {
      "cell_type": "markdown",
      "metadata": {},
      "source": [
        "To reconstruct the Bell state we use `shadow_state_reconstruction`.\n"
      ]
    },
    {
      "cell_type": "code",
      "execution_count": 10,
      "metadata": {
        "collapsed": false
      },
      "outputs": [
        {
          "name": "stdout",
          "output_type": "stream",
          "text": [
            "[[ 0.4555+0.j     -0.0255+0.0015j -0.0225+0.0105j  0.4905+0.027j ]\n",
            " [-0.0255-0.0015j  0.0415+0.j      0.0225-0.027j   0.0225-0.0165j]\n",
            " [-0.0225-0.0105j  0.0225+0.027j   0.004 +0.j     -0.0075-0.039j ]\n",
            " [ 0.4905-0.027j   0.0225+0.0165j -0.0075+0.039j   0.499 +0.j    ]]\n"
          ]
        }
      ],
      "source": [
        "shadow_state = shadow_state_reconstruction(shadow)\n",
        "print(np.round(shadow_state, decimals=6))"
      ]
    },
    {
      "cell_type": "markdown",
      "metadata": {},
      "source": [
        "Using my function `reconstruct_from_shadow` we get the result."
      ]
    },
    {
      "cell_type": "code",
      "execution_count": 20,
      "metadata": {},
      "outputs": [
        {
          "name": "stdout",
          "output_type": "stream",
          "text": [
            "[[tensor([-1,  1], requires_grad=True) tensor([1, 1], requires_grad=True)]\n",
            " [tensor([1, 2], requires_grad=True) tensor([-1,  1], requires_grad=True)]\n",
            " [tensor([-1,  0], requires_grad=True) tensor([1, 1], requires_grad=True)]\n",
            " ...\n",
            " [tensor([1, 0], requires_grad=True) tensor([-1,  1], requires_grad=True)]\n",
            " [tensor([-1,  0], requires_grad=True) tensor([1, 1], requires_grad=True)]\n",
            " [tensor([-1,  2], requires_grad=True)\n",
            "  tensor([-1,  1], requires_grad=True)]]\n",
            "[[-0.0155+0.j      0.006 -0.0465j -0.0135+0.0225j  0.0225-0.5085j]\n",
            " [ 0.006 +0.0465j -0.0215+0.j      0.4905-0.0225j -0.4725+0.4545j]\n",
            " [-0.0135-0.0225j  0.4905+0.0225j  0.067 +0.j     -0.534 +0.57j  ]\n",
            " [ 0.0225+0.5085j -0.4725-0.4545j -0.534 -0.57j    0.97  +0.j    ]]\n"
          ]
        }
      ],
      "source": [
        "num_snapshots = len(shadow[0])\n",
        "num_qubits = len(shadow[0][0])\n",
        "\n",
        "shadow_reformatted = np.zeros((num_snapshots, num_qubits), dtype=object)\n",
        "\n",
        "for i in range(num_snapshots):\n",
        "    for j in range(num_qubits):\n",
        "       shadow_reformatted[i][j] = (int(shadow[0][i][j]), int(shadow[1][i][j]))\n",
        "\n",
        " \n",
        "print(shadow_reformatted)\n",
        "shadow_state = reconstruct_from_shadow(shadow_reformatted)\n",
        "print(np.round(shadow_state, decimals=6))"
      ]
    },
    {
      "cell_type": "markdown",
      "metadata": {},
      "source": [
        "Note the resemblance to the exact Bell state density matrix.\n"
      ]
    },
    {
      "cell_type": "code",
      "execution_count": null,
      "metadata": {
        "collapsed": false
      },
      "outputs": [],
      "source": [
        "bell_state = np.array([[0.5, 0, 0, 0.5], [0, 0, 0, 0], [0, 0, 0, 0], [0.5, 0, 0, 0.5]])"
      ]
    },
    {
      "cell_type": "markdown",
      "metadata": {},
      "source": [
        "To measure the closeness we can use the operator norm.\n"
      ]
    },
    {
      "cell_type": "code",
      "execution_count": null,
      "metadata": {
        "collapsed": false
      },
      "outputs": [],
      "source": [
        "def operator_2_norm(R):\n",
        "    \"\"\"\n",
        "    Calculate the operator 2-norm.\n",
        "\n",
        "    Args:\n",
        "        R (array): The operator whose norm we want to calculate.\n",
        "\n",
        "    Returns:\n",
        "        Scalar corresponding to the norm.\n",
        "    \"\"\"\n",
        "    return np.sqrt(np.trace(R.conjugate().transpose() @ R))\n",
        "\n",
        "\n",
        "# Calculating the distance between ideal and shadow states.\n",
        "operator_2_norm(bell_state - shadow_state)"
      ]
    },
    {
      "cell_type": "markdown",
      "metadata": {},
      "source": [
        "Finally, we see how the approximation improves as we increase the number\n",
        "of snapshots. We run the estimator 10 times for each $N$.\n"
      ]
    },
    {
      "cell_type": "code",
      "execution_count": null,
      "metadata": {
        "collapsed": false
      },
      "outputs": [],
      "source": [
        "number_of_runs = 10\n",
        "snapshots_range = [100, 1000, 6000]\n",
        "distances = np.zeros((number_of_runs, len(snapshots_range)))\n",
        "\n",
        "# run the estimation multiple times so that we can include error bars\n",
        "for i in range(number_of_runs):\n",
        "    for j, num_snapshots in enumerate(snapshots_range):\n",
        "        shadow = calculate_classical_shadow(\n",
        "            bell_state_circuit, params, num_snapshots, num_qubits\n",
        "        )\n",
        "        shadow_state = shadow_state_reconstruction(shadow)\n",
        "\n",
        "        distances[i, j] = np.real(operator_2_norm(bell_state - shadow_state))\n",
        "\n",
        "plt.errorbar(\n",
        "    snapshots_range,\n",
        "    np.mean(distances, axis=0),\n",
        "    yerr=np.std(distances, axis=0),\n",
        ")\n",
        "plt.title(\"Distance between Ideal and Shadow Bell States\")\n",
        "plt.xlabel(\"Number of Snapshots\")\n",
        "plt.ylabel(\"Distance\")\n",
        "plt.show()"
      ]
    },
    {
      "cell_type": "markdown",
      "metadata": {},
      "source": [
        "As expected, when the number of snapshots increases, the state\n",
        "reconstruction becomes closer to the ideal state.\n"
      ]
    },
    {
      "cell_type": "markdown",
      "metadata": {},
      "source": [
        "Estimating Pauli Observables with Classical Shadows\n",
        "===================================================\n",
        "\n",
        "We have confirmed that classical shadows can be used to reconstruct the\n",
        "state. However, the goal of classical shadows is not to perform full\n",
        "tomography, which takes an exponential amount of resources. Instead, we\n",
        "want to use the shadows to efficiently calculate linear functions of a\n",
        "quantum state. To do this, we write a function\n",
        "`estimate_shadow_observable` that takes in the previously constructed\n",
        "shadow $S(\\rho, N)=[\\hat{\\rho}_1,\\hat{\\rho}_2,\\ldots,\\hat{\\rho}_N]$, and\n",
        "estimates any observable via a median of means estimation. This makes\n",
        "the estimator more robust to outliers and is required to formally prove\n",
        "the aforementioned theoretical bound. The procedure is simple: split up\n",
        "the shadow into $K$ equally sized chunks and estimate the mean for each\n",
        "of these chunks,\n",
        "\n",
        "$$\\langle O_{(k)}\\rangle = \\text{Tr}\\{O \\hat{\\rho}_{(k)}\\} \\quad\n",
        "\\text{and} \\quad \\hat{\\rho}_{(k)} = \\frac{1}{ \\lfloor N/K \\rfloor }\n",
        "\\sum_{i=(k-1)\\lfloor N/K \\rfloor + 1}^{k \\lfloor N/K \\rfloor } \\hat{\\rho}_i.$$\n",
        "\n",
        "The median of means estimator is then simply the median of this set\n",
        "\n",
        "$$\\langle O\\rangle = \\text{median}\\{\\langle O_{(1)} \\rangle,\\ldots, \\langle O_{(K)} \\rangle \\}.$$\n",
        "\n",
        "Note that the shadow bound has a failure probability $\\delta$. By\n",
        "choosing the number of splits $K$ to be suitably large, we can\n",
        "exponentially suppress this failure probability. Assume now that\n",
        "$O=\\bigotimes_j^n P_j$, where $P_j \\in \\{I, X, Y, Z\\}$. To efficiently\n",
        "calculate the estimator for $O$, we look at a single snapshot outcome\n",
        "and plug in the inverse measurement channel:\n",
        "\n",
        "$$\\begin{aligned}\n",
        "\\text{Tr}\\{O\\hat{\\rho}_i\\} &= \\text{Tr}\\{\\bigotimes_{j=1}^n P_j (3U^{\\dagger}_j|\\hat{b}_j\\rangle\\langle\\hat{b}_j|U_j-\\mathbb{I})\\}\\\\\n",
        " &= \\prod_j^n \\text{Tr}\\{ 3 P_j U^{\\dagger}_j|\\hat{b}_j\\rangle\\langle\\hat{b}_j|U_j\\}.\n",
        "\\end{aligned}$$\n",
        "\n",
        "Due to the orthogonality of the Pauli operators, this evaluates to\n",
        "$\\pm 3$ if $P_j$ is the corresponding measurement basis $U_j$ and 0\n",
        "otherwise. Hence if a single $U_j$ in the snapshot does not match the\n",
        "one in $O$, the whole product evaluates to zero. As a result,\n",
        "calculating the mean estimator can be reduced to counting the number of\n",
        "exact matches in the shadow with the observable, and multiplying with\n",
        "the appropriate sign. Below, we develop the function\n",
        "`estimate_shadow_obervable` to estimate any observable given a classical\n",
        "shadow.\n"
      ]
    },
    {
      "cell_type": "code",
      "execution_count": null,
      "metadata": {
        "collapsed": false
      },
      "outputs": [],
      "source": [
        "def estimate_shadow_obervable(shadow, observable, k=10):\n",
        "    \"\"\"\n",
        "    Adapted from https://github.com/momohuang/predicting-quantum-properties\n",
        "    Calculate the estimator E[O] = median(Tr{rho_{(k)} O}) where rho_(k)) is set of k\n",
        "    snapshots in the shadow. Use median of means to ameliorate the effects of outliers.\n",
        "\n",
        "    Args:\n",
        "        shadow (tuple): A shadow tuple obtained from `calculate_classical_shadow`.\n",
        "        observable (qml.Observable): Single PennyLane observable consisting of single Pauli\n",
        "            operators e.g. qml.PauliX(0) @ qml.PauliY(1).\n",
        "        k (int): number of splits in the median of means estimator.\n",
        "\n",
        "    Returns:\n",
        "        Scalar corresponding to the estimate of the observable.\n",
        "    \"\"\"\n",
        "    shadow_size, num_qubits = shadow[0].shape\n",
        "\n",
        "    # convert Pennylane observables to indices\n",
        "    map_name_to_int = {\"PauliX\": 0, \"PauliY\": 1, \"PauliZ\": 2}\n",
        "    if isinstance(observable, (qml.PauliX, qml.PauliY, qml.PauliZ)):\n",
        "        target_obs, target_locs = np.array(\n",
        "            [map_name_to_int[observable.name]]\n",
        "        ), np.array([observable.wires[0]])\n",
        "    else:\n",
        "        target_obs, target_locs = np.array(\n",
        "            [map_name_to_int[o.name] for o in observable.operands]\n",
        "        ), np.array([o.wires[0] for o in observable.operands])\n",
        "\n",
        "    # classical values\n",
        "    b_lists, obs_lists = shadow\n",
        "    means = []\n",
        "\n",
        "    # loop over the splits of the shadow:\n",
        "    for i in range(0, shadow_size, shadow_size // k):\n",
        "\n",
        "        # assign the splits temporarily\n",
        "        b_lists_k, obs_lists_k = (\n",
        "            b_lists[i: i + shadow_size // k],\n",
        "            obs_lists[i: i + shadow_size // k],\n",
        "        )\n",
        "\n",
        "        # find the exact matches for the observable of interest at the specified locations\n",
        "        indices = np.all(obs_lists_k[:, target_locs] == target_obs, axis=1)\n",
        "\n",
        "        # catch the edge case where there is no match in the chunk\n",
        "        if sum(indices) > 0:\n",
        "            # take the product and sum\n",
        "            product = np.prod(b_lists_k[indices][:, target_locs], axis=1)\n",
        "            means.append(np.sum(product) / sum(indices))\n",
        "        else:\n",
        "            means.append(0)\n",
        "\n",
        "    return np.median(means)"
      ]
    },
    {
      "cell_type": "markdown",
      "metadata": {},
      "source": [
        "Next, we can define a function that calculates the number of samples\n",
        "required to get an error $\\epsilon$ on our estimator for a given set of\n",
        "observables.\n"
      ]
    },
    {
      "cell_type": "code",
      "execution_count": null,
      "metadata": {
        "collapsed": false
      },
      "outputs": [],
      "source": [
        "def shadow_bound(error, observables, failure_rate=0.01):\n",
        "    \"\"\"\n",
        "    Calculate the shadow bound for the Pauli measurement scheme.\n",
        "\n",
        "    Implements Eq. (S13) from https://arxiv.org/pdf/2002.08953.pdf\n",
        "\n",
        "    Args:\n",
        "        error (float): The error on the estimator.\n",
        "        observables (list) : List of matrices corresponding to the observables we intend to\n",
        "            measure.\n",
        "        failure_rate (float): Rate of failure for the bound to hold.\n",
        "\n",
        "    Returns:\n",
        "        An integer that gives the number of samples required to satisfy the shadow bound and\n",
        "        the chunk size required attaining the specified failure rate.\n",
        "    \"\"\"\n",
        "    M = len(observables)\n",
        "    K = 2 * np.log(2 * M / failure_rate)\n",
        "    shadow_norm = (\n",
        "        lambda op: np.linalg.norm(\n",
        "            op - np.trace(op) / 2 ** int(np.log2(op.shape[0])), ord=np.inf\n",
        "        )\n",
        "        ** 2\n",
        "    )\n",
        "    N = 34 * max(shadow_norm(o) for o in observables) / error ** 2\n",
        "    return int(np.ceil(N * K)), int(K)"
      ]
    },
    {
      "cell_type": "markdown",
      "metadata": {},
      "source": [
        "Example: Estimating a simple set of observables\n",
        "===============================================\n",
        "\n",
        "Here, we give an example for estimating multiple observables on a\n",
        "10-qubit circuit. We first create a simple circuit\n"
      ]
    },
    {
      "cell_type": "code",
      "execution_count": null,
      "metadata": {
        "collapsed": false
      },
      "outputs": [],
      "source": [
        "num_qubits = 10\n",
        "dev = qml.device(\"lightning.qubit\", wires=num_qubits, shots=1)\n",
        "\n",
        "\n",
        "def circuit_base(params, **kwargs):\n",
        "    observables = kwargs.pop(\"observable\")\n",
        "    for w in range(num_qubits):\n",
        "        qml.Hadamard(wires=w)\n",
        "        qml.RY(params[w], wires=w)\n",
        "    for w in dev.wires[:-1]:\n",
        "        qml.CNOT(wires=[w, w + 1])\n",
        "    for w in dev.wires:\n",
        "        qml.RZ(params[w + num_qubits], wires=w)\n",
        "    return [qml.expval(o) for o in observables]\n",
        "\n",
        "\n",
        "circuit = qml.QNode(circuit_base, dev)\n",
        "\n",
        "params = np.random.randn(2 * num_qubits)"
      ]
    },
    {
      "cell_type": "markdown",
      "metadata": {},
      "source": [
        "Next, we define our set of observables\n",
        "\n",
        "$$O = \\sum_{i=0}^{n-1} X_i X_{i+1} + Y_i Y_{i+1} + Z_i Z_{i+1}.$$\n"
      ]
    },
    {
      "cell_type": "code",
      "execution_count": null,
      "metadata": {
        "collapsed": false
      },
      "outputs": [],
      "source": [
        "list_of_observables = (\n",
        "        [qml.PauliX(i) @ qml.PauliX(i + 1) for i in range(num_qubits - 1)]\n",
        "        + [qml.PauliY(i) @ qml.PauliY(i + 1) for i in range(num_qubits - 1)]\n",
        "        + [qml.PauliZ(i) @ qml.PauliZ(i + 1) for i in range(num_qubits - 1)]\n",
        ")"
      ]
    },
    {
      "cell_type": "markdown",
      "metadata": {},
      "source": [
        "With the `shadow_bound` function, we calculate how many shadows we need\n",
        "to ensure that the absolute error of all individual terms in $O$\n",
        "satisfies\n",
        "\n",
        "$$|\\langle{O_i}\\rangle_{shadow} - \\langle{O_i}\\rangle_{exact}| \\leq \\epsilon$$\n",
        "\n",
        "for all $1\\leq i \\leq M$.\n"
      ]
    },
    {
      "cell_type": "code",
      "execution_count": null,
      "metadata": {
        "collapsed": false
      },
      "outputs": [],
      "source": [
        "shadow_size_bound, k = shadow_bound(\n",
        "    error=2e-1, observables=[qml.matrix(o) for o in list_of_observables]\n",
        ")\n",
        "shadow_size_bound"
      ]
    },
    {
      "cell_type": "markdown",
      "metadata": {},
      "source": [
        "We verify the bound by considering a grid of errors $\\epsilon_i$ and\n",
        "checking that\n",
        "$|\\langle{O_i}\\rangle_{shadow} - \\langle{O_i}\\rangle_{exact}|$ stays\n",
        "below this value for the shadow size calculated in `shadow_bound`.\n",
        "First, we get the classical shadow estimate.\n"
      ]
    },
    {
      "cell_type": "code",
      "execution_count": null,
      "metadata": {
        "collapsed": false
      },
      "outputs": [],
      "source": [
        "# create a grid of errors\n",
        "epsilon_grid = [1 - 0.1 * x for x in range(9)]\n",
        "shadow_sizes = []\n",
        "estimates = []\n",
        "\n",
        "for error in epsilon_grid:\n",
        "    # get the number of samples needed so that the absolute error < epsilon.\n",
        "    shadow_size_bound, k = shadow_bound(\n",
        "        error=error, observables=[qml.matrix(o) for o in list_of_observables]\n",
        "    )\n",
        "    shadow_sizes.append(shadow_size_bound)\n",
        "    print(f\"{shadow_size_bound} samples required \")\n",
        "    # calculate a shadow of the appropriate size\n",
        "    shadow = calculate_classical_shadow(circuit, params, shadow_size_bound, num_qubits)\n",
        "\n",
        "    # estimate all the observables in O\n",
        "    estimates.append([estimate_shadow_obervable(shadow, o, k=k) for o in list_of_observables])"
      ]
    },
    {
      "cell_type": "markdown",
      "metadata": {},
      "source": [
        "Then, we calculate the ground truth by changing the device backend.\n"
      ]
    },
    {
      "cell_type": "code",
      "execution_count": null,
      "metadata": {
        "collapsed": false
      },
      "outputs": [],
      "source": [
        "dev_exact = qml.device(\"lightning.qubit\", wires=num_qubits)\n",
        "# change the simulator to be the exact one.\n",
        "circuit = qml.QNode(circuit_base, dev_exact)\n",
        "\n",
        "expval_exact = [\n",
        "    circuit(params, observable=[o]) for o in list_of_observables\n",
        "]"
      ]
    },
    {
      "cell_type": "markdown",
      "metadata": {},
      "source": [
        "Finally, we plot the errors\n",
        "$|\\langle{O_i}\\rangle_{shadow} - \\langle{O_i}\\rangle_{exact}|$ for all\n",
        "individual terms in $O$. We expect that these errors are always smaller\n",
        "than $\\epsilon$.\n"
      ]
    },
    {
      "cell_type": "code",
      "execution_count": null,
      "metadata": {
        "collapsed": false
      },
      "outputs": [],
      "source": [
        "for j, error in enumerate(epsilon_grid):\n",
        "    plt.scatter(\n",
        "        [shadow_sizes[j] for _ in estimates[j]],\n",
        "        [np.abs(obs - estimates[j][i]) for i, obs in enumerate(expval_exact)],\n",
        "        marker=\".\",\n",
        "    )\n",
        "plt.plot(\n",
        "    shadow_sizes,\n",
        "    [e for e in epsilon_grid],\n",
        "    linestyle=\"--\",\n",
        "    color=\"gray\",\n",
        "    label=rf\"$\\epsilon$\",\n",
        "    marker=\".\",\n",
        ")\n",
        "plt.xlabel(r\"$N$ (Shadow size) \")\n",
        "plt.ylabel(r\"$|\\langle O_i \\rangle_{exact} - \\langle O_i \\rangle_{shadow}|$\")\n",
        "plt.legend()\n",
        "plt.show()"
      ]
    },
    {
      "cell_type": "markdown",
      "metadata": {},
      "source": [
        "The points in the plot indicate the individual errors for all $O_i$ at a\n",
        "given shadow size. The dashed line represents the error threshold that\n",
        "these points must stay under to satisfy the bound. As expected, the\n",
        "bound is satisfied for all $O_i$ and the errors decrease with the size\n",
        "of the shadow.\n",
        "\n",
        "To conclude, we have shown that classical shadows can be used to\n",
        "reconstruct quantum states and estimate expectation values of\n",
        "observables. This is but the tip of the iceberg of what is possible with\n",
        "this technique. In the original work, the authors estimate fidelities,\n",
        "calculate entanglement witnesses, and even find a way to approximate the\n",
        "von Neumann entropy. These applications illustrate the potential power\n",
        "of classical shadows for the characterization of quantum systems.\n"
      ]
    },
    {
      "cell_type": "markdown",
      "metadata": {},
      "source": [
        "References\n",
        "==========\n",
        "\n",
        "About the authors\n",
        "=================\n"
      ]
    }
  ],
  "metadata": {
    "kernelspec": {
      "display_name": "Python 3",
      "language": "python",
      "name": "python3"
    },
    "language_info": {
      "codemirror_mode": {
        "name": "ipython",
        "version": 3
      },
      "file_extension": ".py",
      "mimetype": "text/x-python",
      "name": "python",
      "nbconvert_exporter": "python",
      "pygments_lexer": "ipython3",
      "version": "3.12.3"
    }
  },
  "nbformat": 4,
  "nbformat_minor": 0
}
