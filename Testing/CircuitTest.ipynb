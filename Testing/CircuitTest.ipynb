{
 "cells": [
  {
   "cell_type": "code",
   "execution_count": 14,
   "metadata": {},
   "outputs": [],
   "source": [
    "import numpy as np\n",
    "\n",
    "from qiskit import QuantumCircuit, ClassicalRegister, QuantumRegister\n",
    "from qiskit.circuit.library import *\n",
    "from qiskit.primitives import StatevectorSampler, Estimator\n",
    "from qiskit.quantum_info import DensityMatrix\n",
    "from qiskit.transpiler.preset_passmanagers import generate_preset_pass_manager\n",
    "from qiskit.quantum_info import *"
   ]
  },
  {
   "cell_type": "code",
   "execution_count": 30,
   "metadata": {},
   "outputs": [],
   "source": [
    "sampler = StatevectorSampler()\n",
    "\n",
    "estimator = Estimator(options = {'shots': 1000})"
   ]
  },
  {
   "cell_type": "code",
   "execution_count": 43,
   "metadata": {},
   "outputs": [
    {
     "data": {
      "text/html": [
       "<pre style=\"word-wrap: normal;white-space: pre;background: #fff0;line-height: 1.1;font-family: &quot;Courier New&quot;,Courier,monospace\">     ┌───┐      ░ \n",
       "q_0: ┤ H ├──■───░─\n",
       "     └───┘┌─┴─┐ ░ \n",
       "q_1: ─────┤ X ├─░─\n",
       "          └───┘ ░ </pre>"
      ],
      "text/plain": [
       "     ┌───┐      ░ \n",
       "q_0: ┤ H ├──■───░─\n",
       "     └───┘┌─┴─┐ ░ \n",
       "q_1: ─────┤ X ├─░─\n",
       "          └───┘ ░ "
      ]
     },
     "execution_count": 43,
     "metadata": {},
     "output_type": "execute_result"
    }
   ],
   "source": [
    "# Define quantum circuit with 2 qubits\n",
    "circuit = QuantumCircuit(2)\n",
    "circuit.h(0)\n",
    "circuit.cx(0, 1)\n",
    "\n",
    "circuit.barrier()\n",
    "\n",
    "#circuit.h(0)\n",
    "#circuit.sdg(0)\n",
    "\n",
    "\n",
    "\n",
    "#circuit.measure_all()\n",
    "circuit.draw()"
   ]
  },
  {
   "cell_type": "code",
   "execution_count": 17,
   "metadata": {},
   "outputs": [
    {
     "name": "stdout",
     "output_type": "stream",
     "text": [
      "The number of bitstrings is: 1024\n",
      "The counts are: {'00': 263, '11': 239, '01': 284, '10': 238}\n"
     ]
    }
   ],
   "source": [
    "# Transpile circuit\n",
    "pm = generate_preset_pass_manager(optimization_level=1)\n",
    "isa_circuit = pm.run(circuit)\n",
    "# Run using V2 sampler\n",
    "result = sampler.run([isa_circuit]).result()\n",
    "# Access result data for PUB 0\n",
    "data_pub = result[0].data\n",
    "# Access bitstring for the classical register \"meas\"\n",
    "bitstrings = data_pub.meas.get_bitstrings()\n",
    "print(f\"The number of bitstrings is: {len(bitstrings)}\")\n",
    "# Get counts for the classical register \"meas\"\n",
    "counts = data_pub.meas.get_counts()\n",
    "print(f\"The counts are: {counts}\")"
   ]
  },
  {
   "cell_type": "code",
   "execution_count": 52,
   "metadata": {},
   "outputs": [
    {
     "name": "stdout",
     "output_type": "stream",
     "text": [
      "The results are: EstimatorResult(values=array([1.]), metadata=[{'variance': 1.1102230246251565e-16, 'shots': 1000}])\n"
     ]
    }
   ],
   "source": [
    "observable = Pauli('II')\n",
    "\n",
    "results = estimator.run(circuits = [circuit], observables = [observable]).result()\n",
    "\n",
    "print(f\"The results are: {results}\")"
   ]
  }
 ],
 "metadata": {
  "kernelspec": {
   "display_name": "Python 3",
   "language": "python",
   "name": "python3"
  },
  "language_info": {
   "codemirror_mode": {
    "name": "ipython",
    "version": 3
   },
   "file_extension": ".py",
   "mimetype": "text/x-python",
   "name": "python",
   "nbconvert_exporter": "python",
   "pygments_lexer": "ipython3",
   "version": "3.12.3"
  }
 },
 "nbformat": 4,
 "nbformat_minor": 2
}
