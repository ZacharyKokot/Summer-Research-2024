{
 "cells": [
  {
   "cell_type": "code",
   "execution_count": 1,
   "metadata": {},
   "outputs": [],
   "source": [
    "import numpy as np"
   ]
  },
  {
   "cell_type": "code",
   "execution_count": 2,
   "metadata": {},
   "outputs": [],
   "source": [
    "b1 = np.matrix([[1,0],[0,0]]) # |0><0|\n",
    "b2 = np.matrix([[0,0],[0,1]]) # |1><1|\n",
    "\n",
    "H = np.matrix([[1,1],[1,-1]]) * (1/np.sqrt(2)) # Hadamard matrix\n",
    "S = np.matrix([[1,0],[0,1j]]) # Phase matrix\n",
    "\n",
    "I = np.matrix([[1,0],[0,1]]) # Identity matrix\n",
    "X = np.matrix([[0,1],[1,0]]) # Pauli-X matrix\n",
    "Y = np.matrix([[0,-1j],[1j,0]]) # Pauli-Y matrix\n",
    "Z = np.matrix([[1,0],[0,-1]]) # Pauli-Z matrix\n",
    "\n",
    "measure_X = H\n",
    "measure_Y = H @ S\n",
    "measure_Z = I"
   ]
  },
  {
   "cell_type": "code",
   "execution_count": 9,
   "metadata": {},
   "outputs": [
    {
     "name": "stdout",
     "output_type": "stream",
     "text": [
      "2.999999999999999\n",
      "2.999999999999999\n",
      "(2.999999999999999+0j)\n",
      "(2.999999999999999+0j)\n",
      "3\n",
      "3\n"
     ]
    }
   ],
   "source": [
    "print(3* np.trace(I @ (measure_X.H @ b1 @ measure_X)))\n",
    "print(3* np.trace(I @ (measure_X.H @ b2 @ measure_X)))\n",
    "print(3* np.trace(I @ (measure_Y.H @ b1 @ measure_Y)))\n",
    "print(3* np.trace(I @ (measure_Y.H @ b2 @ measure_Y)))\n",
    "print(3* np.trace(I @ (measure_Z.H @ b1 @ measure_Z)))\n",
    "print(3* np.trace(I @ (measure_Z.H @ b2 @ measure_Z)))"
   ]
  },
  {
   "cell_type": "code",
   "execution_count": 19,
   "metadata": {},
   "outputs": [
    {
     "name": "stdout",
     "output_type": "stream",
     "text": [
      "[[ 1.00000000e+00 -2.23711432e-17]\n",
      " [ 2.23711432e-17 -1.00000000e+00]]\n"
     ]
    }
   ],
   "source": [
    "print(measure_X @ X @ measure_X.H)"
   ]
  },
  {
   "cell_type": "code",
   "execution_count": 4,
   "metadata": {},
   "outputs": [
    {
     "name": "stdout",
     "output_type": "stream",
     "text": [
      "[[ 1  0  0  0]\n",
      " [ 0 -1  0  0]\n",
      " [ 0  0 -1  0]\n",
      " [ 0  0  0  1]]\n"
     ]
    }
   ],
   "source": [
    "print(np.kron(Z, Z))"
   ]
  },
  {
   "cell_type": "code",
   "execution_count": 5,
   "metadata": {},
   "outputs": [
    {
     "name": "stdout",
     "output_type": "stream",
     "text": [
      "[[0.5+0.j  0. +0.5j]\n",
      " [0. -0.5j 0.5+0.j ]]\n",
      "[[0.5 0.5]\n",
      " [0.5 0.5]]\n",
      "[[1 0]\n",
      " [0 0]]\n"
     ]
    }
   ],
   "source": [
    "print(I @ (measure_Y.H @ b1 @ measure_Y))\n",
    "print(I @ (measure_X.H @ b1 @ measure_X))\n",
    "print(I @ (measure_Z.H @ b1 @ measure_Z))"
   ]
  },
  {
   "cell_type": "code",
   "execution_count": 6,
   "metadata": {},
   "outputs": [
    {
     "name": "stdout",
     "output_type": "stream",
     "text": [
      "0.9999999999999998\n",
      "0.9999999999999998\n",
      "0j\n",
      "0.0\n",
      "\n",
      "\n",
      "0.9999999999999998\n",
      "-0.9999999999999998\n",
      "0j\n",
      "0.0\n",
      "\n",
      "\n",
      "(0.9999999999999998+0j)\n",
      "0j\n",
      "(-0.9999999999999998+0j)\n",
      "0j\n",
      "\n",
      "\n",
      "(0.9999999999999998+0j)\n",
      "0j\n",
      "(0.9999999999999998+0j)\n",
      "0j\n",
      "\n",
      "\n",
      "1\n",
      "0\n",
      "0j\n",
      "1\n",
      "\n",
      "\n",
      "1\n",
      "0\n",
      "0j\n",
      "-1\n",
      "\n",
      "\n"
     ]
    }
   ],
   "source": [
    "# print(\"X-basis states:\\n\")\n",
    "# print(measure_X.H @ b1 @ measure_X)\n",
    "# print(measure_X.H @ b2 @ measure_X)\n",
    "\n",
    "# print(\"Y-basis states:\\n\")\n",
    "# print(measure_Y.H @ b1 @ measure_Y)\n",
    "# print(measure_Y.H @ b2 @ measure_Y)\n",
    "\n",
    "# print(\"Z-basis states:\\n\")\n",
    "# print(measure_Z.H @ b1 @ measure_Z)\n",
    "# print(measure_Z.H @ b2 @ measure_Z)\n",
    "\n",
    "print(np.trace(I @ (measure_X.H @ b1 @ measure_X)))\n",
    "print(np.trace(X @ (measure_X.H @ b1 @ measure_X)))\n",
    "print(np.trace(Y @ (measure_X.H @ b1 @ measure_X)))\n",
    "print(np.trace(Z @ (measure_X.H @ b1 @ measure_X)))\n",
    "print(\"\\n\")\n",
    "\n",
    "print(np.trace(I @ (measure_X.H @ b2 @ measure_X)))\n",
    "print(np.trace(X @ (measure_X.H @ b2 @ measure_X)))\n",
    "print(np.trace(Y @ (measure_X.H @ b2 @ measure_X)))\n",
    "print(np.trace(Z @ (measure_X.H @ b2 @ measure_X)))\n",
    "print(\"\\n\")\n",
    "\n",
    "print(np.trace(I @ (measure_Y.H @ b1 @ measure_Y)))\n",
    "print(np.trace(X @ (measure_Y.H @ b1 @ measure_Y)))\n",
    "print(np.trace(Y @ (measure_Y.H @ b1 @ measure_Y)))\n",
    "print(np.trace(Z @ (measure_Y.H @ b1 @ measure_Y)))\n",
    "print(\"\\n\")\n",
    "\n",
    "print(np.trace(I @ (measure_Y.H @ b2 @ measure_Y)))\n",
    "print(np.trace(X @ (measure_Y.H @ b2 @ measure_Y)))\n",
    "print(np.trace(Y @ (measure_Y.H @ b2 @ measure_Y)))\n",
    "print(np.trace(Z @ (measure_Y.H @ b2 @ measure_Y)))\n",
    "print(\"\\n\")\n",
    "\n",
    "print(np.trace(I @ (measure_Z.H @ b1 @ measure_Z)))\n",
    "print(np.trace(X @ (measure_Z.H @ b1 @ measure_Z)))\n",
    "print(np.trace(Y @ (measure_Z.H @ b1 @ measure_Z)))\n",
    "print(np.trace(Z @ (measure_Z.H @ b1 @ measure_Z)))\n",
    "print(\"\\n\")\n",
    "\n",
    "print(np.trace(I @ (measure_Z.H @ b2 @ measure_Z)))\n",
    "print(np.trace(X @ (measure_Z.H @ b2 @ measure_Z)))\n",
    "print(np.trace(Y @ (measure_Z.H @ b2 @ measure_Z)))\n",
    "print(np.trace(Z @ (measure_Z.H @ b2 @ measure_Z)))\n",
    "print(\"\\n\")"
   ]
  },
  {
   "cell_type": "code",
   "execution_count": 7,
   "metadata": {},
   "outputs": [
    {
     "name": "stdout",
     "output_type": "stream",
     "text": [
      "0j\n"
     ]
    }
   ],
   "source": [
    "ghz = [[0.5,0,0,0,0,0,0,0.5],\n",
    "       [0,0,0,0,0,0,0,0],\n",
    "       [0,0,0,0,0,0,0,0],\n",
    "       [0,0,0,0,0,0,0,0],\n",
    "       [0,0,0,0,0,0,0,0],\n",
    "       [0,0,0,0,0,0,0,0],\n",
    "       [0,0,0,0,0,0,0,0],\n",
    "       [0.5,0,0,0,0,0,0,0.5]]\n",
    "\n",
    "print(np.trace(np.kron(Y, (np.kron(Y, Y))) @ np.matrix(ghz)))"
   ]
  }
 ],
 "metadata": {
  "kernelspec": {
   "display_name": "Python 3",
   "language": "python",
   "name": "python3"
  },
  "language_info": {
   "codemirror_mode": {
    "name": "ipython",
    "version": 3
   },
   "file_extension": ".py",
   "mimetype": "text/x-python",
   "name": "python",
   "nbconvert_exporter": "python",
   "pygments_lexer": "ipython3",
   "version": "3.12.3"
  }
 },
 "nbformat": 4,
 "nbformat_minor": 2
}
