{
 "cells": [
  {
   "cell_type": "code",
   "execution_count": 9,
   "metadata": {},
   "outputs": [],
   "source": [
    "import numpy as np"
   ]
  },
  {
   "cell_type": "code",
   "execution_count": 10,
   "metadata": {},
   "outputs": [
    {
     "name": "stdout",
     "output_type": "stream",
     "text": [
      "X-basis states:\n",
      "\n",
      "[[0.5 0.5]\n",
      " [0.5 0.5]]\n",
      "[[ 0.5 -0.5]\n",
      " [-0.5  0.5]]\n",
      "Y-basis states:\n",
      "\n",
      "[[ 0.5+0.j   0. +0.5j]\n",
      " [ 0. +0.5j -0.5+0.j ]]\n",
      "[[ 0.5+0.j   0. -0.5j]\n",
      " [ 0. -0.5j -0.5+0.j ]]\n",
      "Z-basis states:\n",
      "\n",
      "[[1 0]\n",
      " [0 0]]\n",
      "[[0 0]\n",
      " [0 1]]\n"
     ]
    },
    {
     "data": {
      "text/plain": [
       "0j"
      ]
     },
     "execution_count": 10,
     "metadata": {},
     "output_type": "execute_result"
    }
   ],
   "source": [
    "b1 = np.matrix([[1,0],[0,0]]) # |0><0|\n",
    "b2 = np.matrix([[0,0],[0,1]]) # |1><1|\n",
    "\n",
    "H = np.matrix([[1,1],[1,-1]]) * (1/np.sqrt(2)) # Hadamard matrix\n",
    "S = np.matrix([[1,0],[0,1j]]) # Phase matrix\n",
    "\n",
    "I = np.matrix([[1,0],[0,1]]) # Identity matrix\n",
    "X = np.matrix([[0,1],[1,0]]) # Pauli-X matrix\n",
    "Y = np.matrix([[0,-1j],[1j,0]]) # Pauli-Y matrix\n",
    "Z = np.matrix([[1,0],[0,-1]]) # Pauli-Z matrix\n",
    "\n",
    "measure_X = H\n",
    "measure_Y = H @ S\n",
    "measure_Z = I\n",
    "\n",
    "print(\"X-basis states:\\n\")\n",
    "print(measure_X.T @ b1 @ measure_X)\n",
    "print(measure_X.T @ b2 @ measure_X)\n",
    "\n",
    "print(\"Y-basis states:\\n\")\n",
    "print(measure_Y.T @ b1 @ measure_Y)\n",
    "print(measure_Y.T @ b2 @ measure_Y)\n",
    "\n",
    "print(\"Z-basis states:\\n\")\n",
    "print(measure_Z.T @ b1 @ measure_Z)\n",
    "print(measure_Z.T @ b2 @ measure_Z)\n",
    "\n",
    "np.trace(Y @ (measure_Z.T @ b1 @ measure_Z))"
   ]
  }
 ],
 "metadata": {
  "kernelspec": {
   "display_name": "Python 3",
   "language": "python",
   "name": "python3"
  },
  "language_info": {
   "codemirror_mode": {
    "name": "ipython",
    "version": 3
   },
   "file_extension": ".py",
   "mimetype": "text/x-python",
   "name": "python",
   "nbconvert_exporter": "python",
   "pygments_lexer": "ipython3",
   "version": "3.12.4"
  }
 },
 "nbformat": 4,
 "nbformat_minor": 2
}
