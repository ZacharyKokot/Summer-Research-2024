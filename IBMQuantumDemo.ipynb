{
 "cells": [
  {
   "cell_type": "markdown",
   "metadata": {},
   "source": [
    "***\n",
    "#### Importing necessary libraries"
   ]
  },
  {
   "cell_type": "code",
   "execution_count": null,
   "metadata": {},
   "outputs": [],
   "source": [
    "from qiskit import QuantumCircuit, transpile\n",
    "from qiskit.transpiler.preset_passmanagers import generate_preset_pass_manager\n",
    "from qiskit.providers.fake_provider import GenericBackendV2\n",
    "from qiskit.visualization import plot_histogram\n",
    "from qiskit.quantum_info import SparsePauliOp\n",
    "\n",
    "from qiskit_ibm_runtime import QiskitRuntimeService\n",
    "from qiskit_ibm_runtime import EstimatorV2 as Estimator\n",
    "\n",
    "from matplotlib import pyplot as plt"
   ]
  },
  {
   "cell_type": "markdown",
   "metadata": {},
   "source": [
    "> Note: You must run this cell before running any other cells in this notebook.\n",
    "***"
   ]
  },
  {
   "cell_type": "markdown",
   "metadata": {},
   "source": [
    "# IBM Quantum Demo\n",
    "***\n",
    "In this notebook I will go through the process of using the IBM Quantum Platform using Qiskit. \n",
    "\n",
    "> Note: This guide was created July 2024 and it is possible the IBM Quantum Platform API specification has changed since then."
   ]
  },
  {
   "cell_type": "markdown",
   "metadata": {},
   "source": [
    "## Obtaining an API Token\n",
    "It is possible for anyone to obtain an API token for the IBM Quantum Platform. Follow the steps below to do so:\n",
    "1. Go to [IBM Quantum](https://www.ibm.com/quantum) and click *Sign in to Platform* in the top right.\n",
    "2. Under the prompt *New to IBM Quantum?* click the link *Create an IBMid*.\n",
    "3. Follow the steps to create an IBMid.\n",
    "4. Once you have obtained an IBMid you will be able to sign into IBM Quantum Platform.\n",
    "5. Your API token can be found on the top right of your dashboard."
   ]
  },
  {
   "cell_type": "markdown",
   "metadata": {},
   "source": [
    "## Adding Your API Token\n",
    "To use the IBM Quantum Platform API you must first get your API token and added it to the project. For security I have excluded my API token from the contents of this Git repository but will walk you though adding yours here.\n",
    "1. On the dashboard of the IBM Quantum Platform you will find your API token in the top right.\n",
    "2. In the directory of this notebook create a text file named *API_KEYS.txt*.\n",
    "3. Copy the token and paste it in the [API_KEYS.txt](API_KEYS.txt) file with \"IBM_QUANTUM = \" preceding it.\n",
    "4. The contents of this file should look like \"IBM_QUANTUM = YOUR_TOKEN_HERE\" with your token in place of \"YOUR_TOKEN_HERE\".\n",
    "5. Save and close the file.  \n",
    "6. Run the code cell below to add your API token to the project."
   ]
  },
  {
   "cell_type": "code",
   "execution_count": null,
   "metadata": {},
   "outputs": [],
   "source": [
    "keys = open('API_KEYS.txt', 'r').read().splitlines()\n",
    "for key in keys:\n",
    "    if key.startswith('IBM_QUANTUM'):\n",
    "        try:\n",
    "            IBM_QUANTUM_API_KEY = key.split(' = ')[1]\n",
    "        except:\n",
    "            raise ValueError('API_KEYS.txt file is not formatted correctly.')\n",
    "        break\n",
    "\n",
    "# Create a Qiskit Runtime service for the IBM Quantum provider\n",
    "service = QiskitRuntimeService(channel = \"ibm_quantum\" , token = IBM_QUANTUM_API_KEY)"
   ]
  },
  {
   "cell_type": "markdown",
   "metadata": {},
   "source": [
    "## Demo 1\n",
    "This basic piece of code will perform a collection of 2 qubit computational measurements on a circuit which prepares a Bell state."
   ]
  },
  {
   "cell_type": "markdown",
   "metadata": {},
   "source": [
    "### Create a basic circuit"
   ]
  },
  {
   "cell_type": "code",
   "execution_count": null,
   "metadata": {},
   "outputs": [],
   "source": [
    "# Create a quantum circuit that prepares a Bell state.\n",
    "base_qc = QuantumCircuit(2)\n",
    "base_qc.h(0)\n",
    "base_qc.cx(0, 1)\n",
    "\n",
    "# Copy the circuit and add measurements to the circuit.\n",
    "qc = base_qc.copy()\n",
    "qc.measure_all()\n",
    "\n",
    "# Draw the circuit.\n",
    "qc.draw('mpl')"
   ]
  },
  {
   "cell_type": "markdown",
   "metadata": {},
   "source": [
    "### Test the circuit with a fake backend"
   ]
  },
  {
   "cell_type": "code",
   "execution_count": null,
   "metadata": {},
   "outputs": [],
   "source": [
    "# Generate a 2 qubit simulated backend.\n",
    "backend = GenericBackendV2(num_qubits = 2)\n",
    "\n",
    "# Transpile the circuit for the backend.\n",
    "transpiled_qc = transpile(qc, backend)\n",
    "transpiled_qc.draw('mpl')"
   ]
  },
  {
   "cell_type": "code",
   "execution_count": null,
   "metadata": {},
   "outputs": [],
   "source": [
    "# Run the transpiled circuit using the simulated noisy backend.\n",
    "job = backend.run(transpiled_qc)\n",
    "counts = job.result().get_counts()\n",
    "plot_histogram(counts)"
   ]
  },
  {
   "cell_type": "markdown",
   "metadata": {},
   "source": [
    "We expect to equally measure the outcomes 00 and 11 for a Bell state. Due to simulated noise there are some occurrences of the 01 and 10 outcomes. If the measurement outcomes are roughly equal counts 00 and 11 we can be fairly confident the circuit is working as expected."
   ]
  },
  {
   "cell_type": "markdown",
   "metadata": {},
   "source": [
    "### Run the circuit on an IBM Quantum Device\n",
    "The below cells perform the necessary steps to run the circuit on an IBM Quantum Device. After running these cells you should see a job submitted in the IBM Quantum Platform interface and can allow the job to complete or cancel the job from there."
   ]
  },
  {
   "cell_type": "code",
   "execution_count": null,
   "metadata": {},
   "outputs": [],
   "source": [
    "# Get the least busy backend for the Qiskit provider.\n",
    "backend = service.least_busy(simulator = False, operational = True)\n",
    "\n",
    "# Transpile the circuit using for the backend.\n",
    "transpiled_qc = transpile(qc, backend)\n",
    "transpiled_qc.draw('mpl', idle_wires = False)"
   ]
  },
  {
   "cell_type": "code",
   "execution_count": null,
   "metadata": {},
   "outputs": [],
   "source": [
    "# Run the circuit on the real IBM Quantum backend.\n",
    "job = backend.run(transpiled_qc)\n",
    "\n",
    "# Use the job ID to retrieve your job data later\n",
    "print(f\">>> Job ID: {job.job_id()}\")"
   ]
  },
  {
   "cell_type": "code",
   "execution_count": null,
   "metadata": {},
   "outputs": [],
   "source": [
    "counts = job.result().get_counts()\n",
    "plot_histogram(counts)"
   ]
  },
  {
   "cell_type": "markdown",
   "metadata": {},
   "source": [
    "## Demo 2\n",
    "This basic piece of code will compute the expectation values for a collection of 2 qubits observables on a Bell state."
   ]
  },
  {
   "cell_type": "markdown",
   "metadata": {},
   "source": [
    "### Create a basic circuit"
   ]
  },
  {
   "cell_type": "code",
   "execution_count": null,
   "metadata": {},
   "outputs": [],
   "source": [
    "# Copy the base circuit from before we added measurements.\n",
    "qc = base_qc.copy()\n",
    "\n",
    "qc.draw('mpl')"
   ]
  },
  {
   "cell_type": "markdown",
   "metadata": {},
   "source": [
    "### Test the circuit with a fake backend"
   ]
  },
  {
   "cell_type": "code",
   "execution_count": null,
   "metadata": {},
   "outputs": [],
   "source": [
    "# Generate a 2 qubit simulated backend.\n",
    "backend = GenericBackendV2(num_qubits = 2)\n",
    "\n",
    "# Transpile the circuit using the backend.\n",
    "transpiled_qc = transpile(qc, backend)\n",
    "transpiled_qc.draw('mpl')"
   ]
  },
  {
   "cell_type": "code",
   "execution_count": null,
   "metadata": {},
   "outputs": [],
   "source": [
    "# Set up six different observables.\n",
    "observables_labels = [\"IZ\", \"IX\", \"ZI\", \"XI\", \"ZZ\", \"XX\"]\n",
    "observables = [SparsePauliOp(label) for label in observables_labels]"
   ]
  },
  {
   "cell_type": "code",
   "execution_count": null,
   "metadata": {},
   "outputs": [],
   "source": [
    "# Run the transpiled estimating the expectation values of the observables.\n",
    "estimator = Estimator(mode = backend) \n",
    "estimator.options.resilience_level = 1\n",
    "estimator.options.default_shots = 5000\n",
    "\n",
    "mapped_observables = [observable.apply_layout(transpiled_qc.layout) for observable in observables]\n",
    "\n",
    "job = estimator.run([(transpiled_qc, mapped_observables)])"
   ]
  },
  {
   "cell_type": "code",
   "execution_count": null,
   "metadata": {},
   "outputs": [],
   "source": [
    "job_result = job.result()\n",
    "\n",
    "pub_result = job.result()[0]"
   ]
  },
  {
   "cell_type": "code",
   "execution_count": null,
   "metadata": {},
   "outputs": [],
   "source": [
    "# Plot the results.\n",
    "\n",
    "# Getting the data from the result.\n",
    "values = pub_result.data.evs\n",
    "\n",
    "errors = pub_result.data.stds\n",
    "\n",
    "# Plotting the graph.\n",
    "plt.scatter(observables_labels, values, color='purple', s = 100)\n",
    "plt.ylabel('Expectation value')\n",
    "plt.xlabel('Observable')\n",
    "plt.title('Expectation values of observables')\n",
    "plt.grid()\n",
    "plt.show()\n"
   ]
  },
  {
   "cell_type": "markdown",
   "metadata": {},
   "source": [
    "For a Bell State we expect the individual X and Z expectation values be 0 and the correlations, XX and ZZ, be 1. If these are the results that appear in the plots then we can be fairly confident the circuit is working as expect so we can run it on a IBM Quantum device."
   ]
  },
  {
   "cell_type": "markdown",
   "metadata": {},
   "source": [
    "### Run the circuit on an IBM Quantum Device\n",
    "The below cells perform the necessary steps to run the circuit on an IBM Quantum Device. After running these cells you should see a job submitted in the IBM Quantum Platform interface and can allow the job to complete or cancel the job from there."
   ]
  },
  {
   "cell_type": "code",
   "execution_count": null,
   "metadata": {},
   "outputs": [],
   "source": [
    "# Get the least busy backend for the Qiskit provider.\n",
    "backend = service.least_busy(simulator = False, operational = True)\n",
    "\n",
    "# Transpile the circuit using for the backend.\n",
    "transpiled_qc = transpile(qc, backend)\n",
    "transpiled_qc.draw('mpl', idle_wires = False)"
   ]
  },
  {
   "cell_type": "code",
   "execution_count": null,
   "metadata": {},
   "outputs": [],
   "source": [
    "# Run the transpiled estimating the expectation values of the observables.\n",
    "estimator = Estimator(mode = backend) \n",
    "estimator.options.resilience_level = 1\n",
    "estimator.options.default_shots = 5000\n",
    "\n",
    "mapped_observables = [observable.apply_layout(transpiled_qc.layout) for observable in observables]\n",
    "\n",
    "job = estimator.run([(transpiled_qc, mapped_observables)])"
   ]
  },
  {
   "cell_type": "code",
   "execution_count": null,
   "metadata": {},
   "outputs": [],
   "source": [
    "job_result = job.result()\n",
    "\n",
    "pub_result = job.result()[0]"
   ]
  },
  {
   "cell_type": "code",
   "execution_count": null,
   "metadata": {},
   "outputs": [],
   "source": [
    "# Plot the results.\n",
    "\n",
    "# Getting the data from the result.\n",
    "values = pub_result.data.evs\n",
    "\n",
    "errors = pub_result.data.stds\n",
    "\n",
    "# Plotting the graph.\n",
    "plt.scatter(observables_labels, values, color='purple', s = 100)\n",
    "plt.ylabel('Expectation value')\n",
    "plt.xlabel('Observable')\n",
    "plt.title('Expectation values of observables')\n",
    "plt.grid()\n",
    "plt.show()\n"
   ]
  }
 ],
 "metadata": {
  "kernelspec": {
   "display_name": "Python 3",
   "language": "python",
   "name": "python3"
  },
  "language_info": {
   "codemirror_mode": {
    "name": "ipython",
    "version": 3
   },
   "file_extension": ".py",
   "mimetype": "text/x-python",
   "name": "python",
   "nbconvert_exporter": "python",
   "pygments_lexer": "ipython3",
   "version": "3.12.3"
  }
 },
 "nbformat": 4,
 "nbformat_minor": 2
}
