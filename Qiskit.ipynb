{
 "cells": [
  {
   "cell_type": "markdown",
   "metadata": {},
   "source": [
    "# Learning the Basics of QisKit"
   ]
  },
  {
   "cell_type": "markdown",
   "metadata": {},
   "source": [
    "### Making Quantum Circuits"
   ]
  },
  {
   "cell_type": "code",
   "execution_count": 2,
   "metadata": {},
   "outputs": [
    {
     "data": {
      "text/html": [
       "<pre style=\"word-wrap: normal;white-space: pre;background: #fff0;line-height: 1.1;font-family: &quot;Courier New&quot;,Courier,monospace\">   ┌───┐\n",
       "q: ┤ X ├\n",
       "   └───┘</pre>"
      ],
      "text/plain": [
       "   ┌───┐\n",
       "q: ┤ X ├\n",
       "   └───┘"
      ]
     },
     "execution_count": 2,
     "metadata": {},
     "output_type": "execute_result"
    }
   ],
   "source": [
    "from qiskit import QuantumCircuit\n",
    "\n",
    "# Create a quantum circuit containing a single qubit\n",
    "qc = QuantumCircuit(1)\n",
    "\n",
    "# Add a x gate to the single qubit\n",
    "qc.x(0)\n",
    "\n",
    "# Draw the circuit in ascii(most efficent)\n",
    "qc.draw(\"text\")"
   ]
  },
  {
   "cell_type": "markdown",
   "metadata": {},
   "source": [
    "### Arbitrary Unitary\n",
    "In this case I make an arbitrary unitary which results in a rotation of a state about an axis $n$, by angle $\\theta$, with phase factor $e^{i\\alpha}$."
   ]
  },
  {
   "cell_type": "markdown",
   "metadata": {},
   "source": [
    "Notes:\\\n",
    "Qubits are initilized to $\\ket{0}$.\\\n",
    "Unitaries on single qubits can be realized as rotations about an axis on a state on the bloch sphere."
   ]
  },
  {
   "cell_type": "code",
   "execution_count": 3,
   "metadata": {},
   "outputs": [
    {
     "data": {
      "text/html": [
       "<pre style=\"word-wrap: normal;white-space: pre;background: #fff0;line-height: 1.1;font-family: &quot;Courier New&quot;,Courier,monospace\">              ┌─────────┐┌─┐\n",
       "           q: ┤ My Gate ├┤M├\n",
       "              └─────────┘└╥┘\n",
       "measurment: 1/════════════╩═\n",
       "                          0 </pre>"
      ],
      "text/plain": [
       "              ┌─────────┐┌─┐\n",
       "           q: ┤ My Gate ├┤M├\n",
       "              └─────────┘└╥┘\n",
       "measurment: 1/════════════╩═\n",
       "                          0 "
      ]
     },
     "execution_count": 3,
     "metadata": {},
     "output_type": "execute_result"
    }
   ],
   "source": [
    "import numpy as np\n",
    "\n",
    "from qiskit import QuantumCircuit, ClassicalRegister, QuantumRegister\n",
    "from qiskit.circuit.library import *\n",
    "from qiskit.quantum_info import Statevector\n",
    "from qiskit.visualization import plot_bloch_multivector\n",
    "\n",
    "# An arbitrary single qubit unitary operator can be written in the form U = exp(ia)R_n(o).\n",
    "\n",
    "def U (n, o, a): # n: Rotation axis; o: Angle of rotation; a: Phase.\n",
    "\n",
    "    return np.exp(a*1j)*Rn(n, o)\n",
    "\n",
    "def Rn (n, o): # n: Rotation axis; o: Angle of rotation.\n",
    "\n",
    "    # Identity matrix\n",
    "    I = np.array([[1,0],\n",
    "                  [0,1]])\n",
    "    \n",
    "    # X-Pauli matrix\n",
    "    X = np.array([[0,1],\n",
    "                  [1,0]])\n",
    "    \n",
    "    # Y-Pauli matrix\n",
    "    Y = np.array([[0,-1j],\n",
    "                  [1j,0]])\n",
    "    \n",
    "    # Z-Pauli matrix\n",
    "    Z = np.array([[1,0],\n",
    "                  [0,-1]])\n",
    "\n",
    "    return (np.cos(o/2)*I)-(np.sin(o/2)*(n[0]*X + n[1]*Y + n[2]*Z))*1j\n",
    "\n",
    "n = np.array([1, 0, 0]) # Rotation axis\n",
    "o = np.pi # Angle of rotation\n",
    "a = np.pi # Phase\n",
    "\n",
    "# Instantiate quantum and classical registers each of 1 bit.\n",
    "qr = QuantumRegister (1, 'q')\n",
    "cr = ClassicalRegister(1, 'measurment')\n",
    "\n",
    "# Instantiate a quantum circuit of 1 qubit and 1 cbit.\n",
    "qc = QuantumCircuit(qr, cr)\n",
    "qc.append (                                 # Add a new gate to the circuit.\n",
    "    UnitaryGate(U(n, np.pi/2, 0), \"My Gate\"), # Gate to be added.\n",
    "    [0]                                     # Qubit(s) on which it is acting.\n",
    ")\n",
    "qc.measure(0,0)\n",
    "\n",
    "# Draw the quantum circuit.\n",
    "qc.draw(output = \"text\")"
   ]
  },
  {
   "cell_type": "markdown",
   "metadata": {},
   "source": [
    "See if I can plot the statevector of a single qubit"
   ]
  },
  {
   "cell_type": "code",
   "execution_count": 4,
   "metadata": {},
   "outputs": [],
   "source": [
    "# Store the state vectors of the qubits and plot them on the Bloch sphere.\n",
    "#psi = Statevector(qc.qubits)\n",
    "#plot_bloch_multivector(psi)"
   ]
  },
  {
   "cell_type": "markdown",
   "metadata": {},
   "source": [
    "### Measurments?"
   ]
  },
  {
   "cell_type": "code",
   "execution_count": 5,
   "metadata": {},
   "outputs": [
    {
     "name": "stdout",
     "output_type": "stream",
     "text": [
      "The counts are: {'0': 1}\n"
     ]
    }
   ],
   "source": [
    "from qiskit.primitives import StatevectorSampler\n",
    " \n",
    "sampler = StatevectorSampler(default_shots = 1) # Record a single sample of the circuit.\n",
    "result = sampler.run([qc]).result()[0] # Run the sampler on the quantum circuit and store the result.\n",
    "\n",
    "data = result.data # Get the data from the result of running the circuit.\n",
    "\n",
    "\n",
    "# String to class parameter???\n",
    "counts = data.measurment.get_counts()\n",
    "print(f\"The counts are: {counts}\")\n"
   ]
  },
  {
   "cell_type": "markdown",
   "metadata": {},
   "source": [
    "### Performing Full State Tomography with Maximum Likelihood Estimation\n",
    "I chose Maximum Likelihood Estimation as it gaurentees a valid density matrix (need to check why) unlike other methods like linear inversion.\\\n",
    "Sudo-code from: https://wiki.veriqloud.fr/index.php?title=Full_Quantum_state_tomography_with_Maximum_Likelihood_Estimation "
   ]
  },
  {
   "cell_type": "code",
   "execution_count": 6,
   "metadata": {},
   "outputs": [
    {
     "data": {
      "text/plain": [
       "<qiskit.circuit.instructionset.InstructionSet at 0x22846ec92d0>"
      ]
     },
     "execution_count": 6,
     "metadata": {},
     "output_type": "execute_result"
    }
   ],
   "source": [
    "import numpy as np\n",
    "\n",
    "from qiskit import QuantumCircuit, ClassicalRegister, QuantumRegister\n",
    "from qiskit.circuit.library import *\n",
    "from qiskit.quantum_info import Statevector\n",
    "from qiskit.primitives import StatevectorSampler\n",
    "\n",
    "# Pick a measurment basis. For a single qubit pure state it is sufficient\n",
    "# to measure in the x, y, and z basis.\n",
    "\n",
    "# Measurments in qiskit are taken in the computational basis.\n",
    "# Therefore to measure in a basis other than the z we must rotate the state\n",
    "# to project the x and y components into the computational basis.\n",
    "\n",
    "# I will thus represent my basis as circuits which rotate the state so\n",
    "# measurents in the z/computational basis corrospond to a measurment in the \n",
    "# target basis prior to rotation.\n",
    "\n",
    "sampler = StatevectorSampler(default_shots = 1) # Instatiate a sampler that samples a single shot of the circuit.\n",
    "\n",
    "xMeasure = QuantumCircuit(1,1)\n",
    "xMeasure.append(HGate(), [0])\n",
    "xMeasure.measure(0,0)\n",
    "\n",
    "yMeasure = QuantumCircuit(1,1)\n",
    "yMeasure.append(SdgGate(), [0])\n",
    "yMeasure.append(HGate(), [0])\n",
    "yMeasure.measure(0,0)\n",
    "\n",
    "zMeasure = QuantumCircuit(1,1)\n",
    "zMeasure.measure(0,0)\n",
    "\n",
    "basis = [xMeasure, yMeasure, zMeasure]\n",
    "\n",
    "# Circuit preparing a single qubit state. (Just apply the hadamard for now)\n",
    "qc = QuantumCircuit(1,1)\n",
    "qc.append(HGate(), [0])\n"
   ]
  },
  {
   "cell_type": "markdown",
   "metadata": {},
   "source": [
    "Implementation of the algorithm."
   ]
  },
  {
   "cell_type": "code",
   "execution_count": 7,
   "metadata": {},
   "outputs": [
    {
     "name": "stdout",
     "output_type": "stream",
     "text": [
      "1.0000000000000007\n",
      "-0.20000000000000004\n",
      "0.020000000000000004\n"
     ]
    }
   ],
   "source": [
    "n = 100 # Number of samples (single shots)\n",
    "\n",
    "for i in basis:\n",
    "    mj = 0\n",
    "    for j in range(n):\n",
    "        \n",
    "\n",
    "        result = sampler.run([qc.compose(i)]).result()[0] # Run the sampler on the quantum circuit and store the result.\n",
    "        data = result.data\n",
    "        counts = data.c.get_counts()\n",
    "        if \"1\" in counts:\n",
    "            mij = -1 \n",
    "        else:\n",
    "            mij = 1\n",
    "        \n",
    "        mj += mij/n\n",
    "    print(mj)"
   ]
  },
  {
   "cell_type": "code",
   "execution_count": null,
   "metadata": {},
   "outputs": [],
   "source": [
    "from scipy import optimize\n",
    "\n",
    "def lhf(ts): # Likelihood function\n",
    "    for i in ts:\n",
    "        "
   ]
  }
 ],
 "metadata": {
  "kernelspec": {
   "display_name": "Environments",
   "language": "python",
   "name": "python3"
  },
  "language_info": {
   "codemirror_mode": {
    "name": "ipython",
    "version": 3
   },
   "file_extension": ".py",
   "mimetype": "text/x-python",
   "name": "python",
   "nbconvert_exporter": "python",
   "pygments_lexer": "ipython3",
   "version": "3.12.3"
  }
 },
 "nbformat": 4,
 "nbformat_minor": 2
}
