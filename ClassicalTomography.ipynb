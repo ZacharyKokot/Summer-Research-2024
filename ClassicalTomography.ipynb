{
 "cells": [
  {
   "cell_type": "markdown",
   "metadata": {},
   "source": [
    "For Reference (randon transform): https://backend.orbit.dtu.dk/ws/portalfiles/portal/5529668/Binder1.pdf\n",
    "\n",
    "For Reference (code theory): https://homepages.inf.ed.ac.uk/rbf/CVonline/LOCAL_COPIES/AV0405/HAYDEN/Slice_Reconstruction.html"
   ]
  },
  {
   "cell_type": "code",
   "execution_count": null,
   "metadata": {},
   "outputs": [],
   "source": []
  }
 ],
 "metadata": {
  "language_info": {
   "name": "python"
  }
 },
 "nbformat": 4,
 "nbformat_minor": 2
}
