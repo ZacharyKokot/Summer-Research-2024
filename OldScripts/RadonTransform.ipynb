{
 "cells": [
  {
   "cell_type": "markdown",
   "metadata": {},
   "source": [
    "# Radon Transform\n",
    "In classical tomography the projections gathered from a sample represent a Radon transform of the mass density function.\\"
   ]
  },
  {
   "cell_type": "markdown",
   "metadata": {},
   "source": [
    "Module Imports"
   ]
  },
  {
   "cell_type": "code",
   "execution_count": 215,
   "metadata": {},
   "outputs": [],
   "source": [
    "import numpy as np\n",
    "from PIL import Image"
   ]
  },
  {
   "cell_type": "markdown",
   "metadata": {},
   "source": [
    "Implementation:"
   ]
  },
  {
   "cell_type": "code",
   "execution_count": 225,
   "metadata": {},
   "outputs": [],
   "source": [
    "# Function for comuputing the Radon transform. Takes an image representing a density function in 2d space and an integer defining the number of angles to make measurements.\n",
    "# Returns the result in the form of a sinograph.\n",
    "def RadonTransform(fileName, samples):\n",
    "\n",
    "    sinograph = [[]]\n",
    "\n",
    "    # Opens image and converts to greyscale throwing out the alpha channel.\n",
    "    # This will represent a 2d density function.\n",
    "    img = Image.open(fileName).convert('L') \n",
    "\n",
    "    # Scales the image so it takes values from 0-1 with 0 being transparent and 1 being opaque.\n",
    "    img = Image.eval(img, (lambda x: x/256))\n",
    "\n",
    "    # Make the image square and of even dimensions\n",
    "    if (img.width != img.height):\n",
    "        if (img.width < img.height):\n",
    "            img = img.crop([0, 0, img.height, img.height])\n",
    "        else:\n",
    "            img = img.rop([0, 0, img.width, img.width])\n",
    "\n",
    "    if (img.width % 2 != 0):\n",
    "        img = img.crop([0, 0, img.width + 1, img.width + 1])\n",
    "\n",
    "    # Generate the sinograph\n",
    "    for i, theta in enumerate(np.arange(0, 180, 180/samples)):\n",
    "        imgPrime = img.rotate(theta)\n",
    "        for x in range(img.width):\n",
    "            sum = 0\n",
    "            for y in range(img.height):\n",
    "                sum += imgPrime.getpixel((x,y))\n",
    "\n",
    "            sinograph[i].append(sum)\n",
    "\n",
    "        sinograph.append([])\n",
    "\n",
    "    return(sinograph)\n",
    "\n",
    "\n",
    "def InvRadonTransform(sinograph):\n",
    "    img = [[]]\n",
    "    for y in range(0,256):\n",
    "        for x in range(0, 256):\n",
    "            sum = 0\n",
    "            for t in range(0, 180):\n",
    "                if int(x*np.cos(t*(2*np.pi/360)) + y*np.sin(t*(2*np.pi/360))) <= 256:\n",
    "                    sum += sinograph[int(x*np.cos(t*(2*np.pi/360)) + y*np.sin(t*(2*np.pi/360)))][t]\n",
    "            img[y].append(int(sum/128))\n",
    "\n",
    "        img.append([]) \n",
    "\n",
    "    return(img)\n",
    "\n"
   ]
  },
  {
   "cell_type": "markdown",
   "metadata": {},
   "source": [
    "A test image"
   ]
  },
  {
   "cell_type": "code",
   "execution_count": 217,
   "metadata": {},
   "outputs": [
    {
     "data": {
      "image/jpeg": "[encoded data removed]",
      "image/png": "[encoded data removed]",
      "text/plain": [
       "<PIL.Image.Image image mode=L size=300x300>"
      ]
     },
     "metadata": {},
     "output_type": "display_data"
    }
   ],
   "source": [
    "with Image.open(\"box.png\").convert('L') as img: # Opens image and converts to greyscale throwing out alpha channel.\n",
    "    pxl = img.load() # Loads image so pixels can be accessed.\n",
    "\n",
    "display(img) # Display the opened image."
   ]
  },
  {
   "cell_type": "markdown",
   "metadata": {},
   "source": [
    "Its Radon transform. A sinograph which simulates the measurements which would be recovered during a tomographic scan."
   ]
  },
  {
   "cell_type": "code",
   "execution_count": 218,
   "metadata": {},
   "outputs": [],
   "source": [
    "result = RadonTransform(\"box.png\", 360)\n",
    "result.pop()\n",
    "img2 = Image.fromarray(np.array(result))\n",
    "#img2 = Image.eval(img2, lambda x: 5*x)\n",
    "img2.show()\n",
    "#display(img2)"
   ]
  },
  {
   "cell_type": "markdown",
   "metadata": {},
   "source": [
    "Its inverse Radon transform"
   ]
  },
  {
   "cell_type": "code",
   "execution_count": 226,
   "metadata": {},
   "outputs": [],
   "source": [
    "result2 = InvRadonTransform(result)"
   ]
  },
  {
   "cell_type": "code",
   "execution_count": 227,
   "metadata": {},
   "outputs": [],
   "source": [
    "result2.pop()\n",
    "\n",
    "img3 = Image.fromarray(np.array(result2))\n",
    "img3.show()"
   ]
  },
  {
   "cell_type": "code",
   "execution_count": 221,
   "metadata": {},
   "outputs": [],
   "source": [
    "import numpy as np\n",
    "from PIL import Image\n",
    "\n",
    "# Bresenham's line algorithm for approximating a line between two points on a discete grid.\n",
    "# Psudo-code can be found at https://en.wikipedia.org/wiki/Bresenham%27s_line_algorithm.\n",
    "def BresenhamLine(x0, y0, x1, y1):\n",
    "    points = []\n",
    "\n",
    "    dx = x1 - x0\n",
    "    dy = y1 - y0\n",
    "    yi = 1\n",
    "\n",
    "    if dy < 0:\n",
    "        yi = -1\n",
    "        dy = -dy\n",
    "    \n",
    "    D = (2*dy) - dx\n",
    "    y = y0\n",
    "\n",
    "    for x in range(x0, x1+1):\n",
    "\n",
    "        points.append((x,y))\n",
    "\n",
    "        if D > 0:\n",
    "            y += yi\n",
    "            D += (2*(dy-dx))\n",
    "        else:\n",
    "            D += 2*dy\n",
    "\n",
    "    return points\n",
    "\n",
    "def radonTransform(fileName, samples):\n",
    "    \n",
    "    with Image.open(fileName).convert('L') as img: # Opens image and converts to greyscale throwing out alpha channel.\n",
    "        pxl = img.load() # Loads image so pixels can be accessed.\n",
    "\n",
    "    height = img.height\n",
    "    width = img.width\n",
    "    thetas =  np.linspace(0.0, 2.0*3.14, samples, False)\n",
    "\n",
    "    sinograph = np.zeros((np.size(thetas), max(height,width)))\n",
    "\n",
    "    for i, theta in enumerate(thetas):\n",
    "        for j, s in enumerate(range(max(height, width))):\n",
    "\n",
    "            sum = 0\n",
    "            for z in range(max(height, width)):\n",
    "                x = int(z*np.sin(theta) + s*np.cos(theta))\n",
    "                y = int(-z*np.cos(theta) + s*np.sin(theta))\n",
    "                \n",
    "                try:\n",
    "                    sum += pxl[x, y]\n",
    "                except IndexError:\n",
    "                    sum += 0\n",
    "\n",
    "        sinograph[i, j] = sum\n",
    "\n",
    "    return(sinograph)\n",
    "\n",
    "def invRadonTransform(fileName):\n",
    "\n",
    "    img = Image.open(fileName)\n",
    "    height = img.height\n",
    "    width = img.width"
   ]
  }
 ],
 "metadata": {
  "kernelspec": {
   "display_name": "Python 3",
   "language": "python",
   "name": "python3"
  },
  "language_info": {
   "codemirror_mode": {
    "name": "ipython",
    "version": 3
   },
   "file_extension": ".py",
   "mimetype": "text/x-python",
   "name": "python",
   "nbconvert_exporter": "python",
   "pygments_lexer": "ipython3",
   "version": "3.12.3"
  }
 },
 "nbformat": 4,
 "nbformat_minor": 2
}
