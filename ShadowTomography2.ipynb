{
 "cells": [
  {
   "cell_type": "markdown",
   "metadata": {},
   "source": [
    "# Shadow Tomography\n",
    "The following code was developed in accordance to the structure outline in the paper [Predicting Many Properties of a Quantum System from Very Few Measurements](https://arxiv.org/abs/2002.08953). In addition the [PennyLane demo](https://pennylane.ai/qml/demos/tutorial_classical_shadows/#huang2020) on classical shadows help inform some of the choices of structure and scripts based on their examples are clear marked as such."
   ]
  },
  {
   "cell_type": "markdown",
   "metadata": {},
   "source": [
    "Necessary Libraries:"
   ]
  },
  {
   "cell_type": "code",
   "execution_count": 89,
   "metadata": {},
   "outputs": [],
   "source": [
    "import numpy as np\n",
    "\n",
    "from qiskit import QuantumCircuit, ClassicalRegister, QuantumRegister\n",
    "from qiskit.circuit.library import *\n",
    "from qiskit.primitives import StatevectorSampler"
   ]
  },
  {
   "cell_type": "markdown",
   "metadata": {},
   "source": [
    "Generating the classical shadow. The following scripts are based on qiskit circuits."
   ]
  },
  {
   "cell_type": "code",
   "execution_count": 90,
   "metadata": {},
   "outputs": [],
   "source": [
    "def generate_classical_shadow(circuit, shadow_size, num_qubits):\n",
    "\n",
    "    # Generate the measurment scheme. This is the random Pauli measurements that will be done on the qubits after each shot of the circuit.\n",
    "    measurement_scheme = np.random.randint(0, 3, (shadow_size, num_qubits), dtype=int)\n",
    "\n",
    "    # Create a matrix to store the results of the measurements.\n",
    "    measurements = np.zeros((shadow_size, num_qubits))\n",
    "\n",
    "    # Create a sampler to simulate the quantum circuit on a single shot.\n",
    "    sampler = StatevectorSampler(default_shots=1)\n",
    "\n",
    "    # \n",
    "    for i in range(shadow_size):\n",
    "\n",
    "        # Apply the measurement scheme to the qubits\n",
    "        qc = circuit.copy()\n",
    "\n",
    "        for j in range(num_qubits):\n",
    "            if measurement_scheme[i][j] == 0:\n",
    "                qc.h(j)\n",
    "            elif measurement_scheme[i][j] == 1:\n",
    "                qc.h(j)\n",
    "                qc.sdg(j)\n",
    "\n",
    "        qc.measure_all()\n",
    "\n",
    "        # Run the sampler on the quantum circuit and store the result.\n",
    "        result = sampler.run([qc]).result()[0]\n",
    "\n",
    "        # Store the bitstrings representing the measured basis states. Because the sampler is configered to run the circuit once, there is only one result.\n",
    "        counts = result.data.meas.get_counts()   \n",
    "\n",
    "        # Get the single bitstring.\n",
    "        states = list(list(counts.keys())[0])\n",
    "        # The bit string is ordered with qubit n on the left and qubit 0 on the right. We want to reverse this order.\n",
    "        states.reverse()\n",
    "\n",
    "        # Store the results of the measurements.\n",
    "        for j in range(num_qubits):\n",
    "            measurements[i][j] = 0 if states[j] == '0' else 1\n",
    "\n",
    "    return measurements, measurement_scheme"
   ]
  },
  {
   "cell_type": "code",
   "execution_count": 91,
   "metadata": {},
   "outputs": [],
   "source": [
    "def reconstruct_state(shadow):\n",
    "\n",
    "    # Unpack the shadow.\n",
    "    measurements, measurement_scheme = shadow\n",
    "\n",
    "    # Get the shadow size.\n",
    "    shadow_size = measurements.shape[0]\n",
    "    # Get the number of qubits.\n",
    "    num_qubits = measurements.shape[1]\n",
    "\n",
    "    # Computational basis states.\n",
    "    zero_state = np.matrix([[1,0],[0,0]], dtype=complex)\n",
    "    one_state = np.matrix([[0,0],[0,1]], dtype=complex)\n",
    "\n",
    "    # Local qubit unitaries. \n",
    "    phase_z = np.matrix([[1,0],[0,-1j]], dtype=complex)\n",
    "    hadamard = np.matrix([[1,1],[1,-1]], dtype=complex)/np.sqrt(2)\n",
    "    identity = np.matrix([[1,0],[0,1]], dtype=complex)\n",
    "\n",
    "    # Rotations to measure each of the paulis.\n",
    "    X = hadamard\n",
    "    Y = hadamard @ phase_z\n",
    "    Z = identity\n",
    "\n",
    "    # Tomographically complete set of unitaries. (The pauli basis is tomographically complete.) \n",
    "    unitary_ensemble = [X, Y, Z]\n",
    "\n",
    "    # Array to store the estimated density matrix.\n",
    "    rho_estimated = np.zeros((2**num_qubits, 2**num_qubits), dtype=complex)\n",
    "\n",
    "    for i in range(shadow_size):\n",
    "\n",
    "        # Array to store the density matrix at each snapshot.\n",
    "        rho_snapshot = [1]\n",
    "\n",
    "        for j in range(num_qubits):\n",
    "\n",
    "            # Implementation of formula S44 from the preskill paper.\n",
    "            U = unitary_ensemble[measurement_scheme[i][j]]\n",
    "            if measurements[i][j] == 0:\n",
    "                b_state = zero_state\n",
    "            else:\n",
    "                b_state = one_state\n",
    "\n",
    "            rho_local = 3 * (U.H @ b_state @ U) - identity\n",
    "\n",
    "            rho_snapshot = np.kron(rho_snapshot, rho_local)\n",
    "\n",
    "        # Average all the inverted basis states to get an approximation of the density matrix.\n",
    "\n",
    "        rho_estimated += rho_snapshot\n",
    "\n",
    "    return rho_estimated/shadow_size"
   ]
  },
  {
   "cell_type": "code",
   "execution_count": 92,
   "metadata": {},
   "outputs": [
    {
     "data": {
      "image/png": "[encoded data removed]",
      "text/plain": [
       "<Figure size 370.906x200.667 with 1 Axes>"
      ]
     },
     "execution_count": 92,
     "metadata": {},
     "output_type": "execute_result"
    }
   ],
   "source": [
    "num_qubits = 2\n",
    "trivial_2_qubit_state = [0, 0, 1, 0]\n",
    "\n",
    "# Instantiate a quantum register with two qubits.\n",
    "trivial_2_qubit_qr = QuantumRegister(num_qubits, 'q')\n",
    "\n",
    "# Create a quantum circuit and add the prepare_state function acting on qubits 0 and 1.\n",
    "trivial_2_qubit_qc = QuantumCircuit(trivial_2_qubit_qr)\n",
    "trivial_2_qubit_qc.prepare_state(state = [1,0], qubits=0)\n",
    "trivial_2_qubit_qc.prepare_state(state = [0,1], qubits=1)\n",
    "\n",
    "# Draw the circuit in mpl (matplotlib).\n",
    "trivial_2_qubit_qc.draw('mpl')\n",
    "\n",
    "#Note: Qiskit is little endian so a 3 qubit tensor product is ordered as |q2> |q1> |q0>. Therefore preparing qubit 0 in state 0 and qubit 1 in state 1 give the tensor product state |10> = |1> |0>.\n"
   ]
  },
  {
   "cell_type": "code",
   "execution_count": 93,
   "metadata": {},
   "outputs": [
    {
     "name": "stdout",
     "output_type": "stream",
     "text": [
      "[[ 0.07+0.j    0.01+0.01j  0.01+0.01j -0.06+0.01j]\n",
      " [ 0.01-0.01j  0.94+0.j   -0.  -0.05j -0.03-0.j  ]\n",
      " [ 0.01-0.01j -0.  +0.05j -0.02+0.j   -0.  +0.j  ]\n",
      " [-0.06-0.01j -0.03+0.j   -0.  -0.j    0.01+0.j  ]]\n",
      "[[0 0 0 0]\n",
      " [0 0 0 0]\n",
      " [0 0 1 0]\n",
      " [0 0 0 0]]\n"
     ]
    }
   ],
   "source": [
    "shadow = generate_classical_shadow(trivial_2_qubit_qc, 1000, 2)\n",
    "\n",
    "rho_estimated = reconstruct_state(shadow)\n",
    "print(np.round(rho_estimated, decimals = 2))\n",
    "\n",
    "phi = np.matrix(trivial_2_qubit_state).T\n",
    "\n",
    "rho_expected = phi @ phi.H\n",
    "print(rho_expected)\n",
    "\n",
    "#print(operator_distance(rho_estimated, rho_expected))\n",
    "\n",
    "# (25/06/2024) Note the swapped entries. Between the rho_estimated and rho_expected. The 0.97 in the rho_estimaed should be where the 1 is in the rho_expected. Fixed this by changing the order of the tensor product in the end of the reconstruct_from_shadow function (Changed this back as I think it causes other issues. It is not the root of the problem.).\n",
    "\n",
    "# (26/06/2024) Large off-diagonal entries. Where are these coming from??? FIXED"
   ]
  },
  {
   "cell_type": "code",
   "execution_count": 94,
   "metadata": {},
   "outputs": [
    {
     "data": {
      "image/png": "[encoded data removed]",
      "text/plain": [
       "<Figure size 287.294x200.667 with 1 Axes>"
      ]
     },
     "execution_count": 94,
     "metadata": {},
     "output_type": "execute_result"
    }
   ],
   "source": [
    "num_qubits = 2\n",
    "bell_state = [1/np.sqrt(2), 0, 0, 1/np.sqrt(2)]\n",
    "\n",
    "# Instantiate a quantum register with two qubits.\n",
    "bell_state_qr = QuantumRegister (num_qubits, 'q')\n",
    "\n",
    "# Create a quantum circuit with a hadamard gate acting on qubit 0\n",
    "# and a CNOT gate with control qubit 0 and target qubit 1. This will prepare a bell state.\n",
    "bell_state_qc = QuantumCircuit(bell_state_qr)\n",
    "bell_state_qc.h(0)\n",
    "bell_state_qc.cx(0, 1)\n",
    "\n",
    "# Draw the ciruit in mpl (matplotlib).\n",
    "bell_state_qc.draw(\"mpl\")"
   ]
  },
  {
   "cell_type": "code",
   "execution_count": 95,
   "metadata": {},
   "outputs": [
    {
     "name": "stdout",
     "output_type": "stream",
     "text": [
      "[[ 0.45+0.j    0.01-0.j   -0.02-0.j    0.03-0.53j]\n",
      " [ 0.01+0.j    0.04+0.j    0.47+0.02j  0.04+0.01j]\n",
      " [-0.02+0.j    0.47-0.02j  0.04+0.j    0.04+0.02j]\n",
      " [ 0.03+0.53j  0.04-0.01j  0.04-0.02j  0.47+0.j  ]]\n",
      "[[0.5 0.  0.  0.5]\n",
      " [0.  0.  0.  0. ]\n",
      " [0.  0.  0.  0. ]\n",
      " [0.5 0.  0.  0.5]]\n"
     ]
    }
   ],
   "source": [
    "shadow = generate_classical_shadow(bell_state_qc, 1000, 2)\n",
    "\n",
    "rho_estimated = reconstruct_state(shadow)\n",
    "print(np.round(rho_estimated, decimals = 2))\n",
    "\n",
    "phi = np.matrix(bell_state).T\n",
    "\n",
    "rho_expected = phi @ phi.H\n",
    "print(rho_expected)\n",
    "\n",
    "#print(operator_distance(rho_estimated, rho_expected))\n",
    "\n",
    "# (28/06/2024) I think it is closer... The 0.5 on the anti-diagonal are there but in the wrong spot. Not sure exactly what is going on here."
   ]
  }
 ],
 "metadata": {
  "kernelspec": {
   "display_name": "Python 3",
   "language": "python",
   "name": "python3"
  },
  "language_info": {
   "codemirror_mode": {
    "name": "ipython",
    "version": 3
   },
   "file_extension": ".py",
   "mimetype": "text/x-python",
   "name": "python",
   "nbconvert_exporter": "python",
   "pygments_lexer": "ipython3",
   "version": "3.12.3"
  }
 },
 "nbformat": 4,
 "nbformat_minor": 2
}
