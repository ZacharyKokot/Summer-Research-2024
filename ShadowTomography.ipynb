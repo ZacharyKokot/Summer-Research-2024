{
 "cells": [
  {
   "cell_type": "markdown",
   "metadata": {},
   "source": [
    "# A Comparision Between Complete State Tomography and Shadow Tomography"
   ]
  },
  {
   "cell_type": "markdown",
   "metadata": {},
   "source": [
    "## What is Complete State Tomography?"
   ]
  },
  {
   "cell_type": "markdown",
   "metadata": {},
   "source": [
    "### Overview"
   ]
  },
  {
   "cell_type": "markdown",
   "metadata": {},
   "source": [
    "The aim of complete state tomography is to reconstruct a target quantum state through a series of projective measurements. *Mention Born's rule, destruction of a state due to measurement, and the curse of dimensionality.*"
   ]
  },
  {
   "cell_type": "markdown",
   "metadata": {},
   "source": [
    "### Theory"
   ]
  },
  {
   "cell_type": "markdown",
   "metadata": {},
   "source": [
    "For single-qubit states the general expression for their density matrices can be written uniquely as:\n",
    "$$\\hat{\\rho} = \\frac{1}{2} \\sum_{i=0}^{3} S_i \\hat{\\sigma}_i. \\tag{1}$$\n",
    "Where $\\hat{\\sigma}_i$ are the Pauli matrices (Including the 2x2 identity matrix as $\\hat{\\sigma}_0$) and $S_i$ are the values given by:\n",
    "$$S_i = Tr\\{\\hat{\\sigma}_i\\hat{\\rho}\\}. \\tag{2}$$\n",
    "It is also useful to note that, \n",
    "1. For all pure states: $\\sum_{i=1}^{3} S_i^2 = 1$.\n",
    "2. For mixed states: $\\sum_{i=1}^{3} S_i^2 < 1$.\n",
    "3. For the completely mixed state:  $\\sum_{i=1}^{3} S_i^2 = 0$.\n",
    "4. Due to the normalization condition for quantum states it is always the case that: $S_0^2 = 1$.\n",
    "\n",
    "The above contents are from pages 4 and 5 of [Quantum State Tomography](#references). Proofs of (1) and (2) to be added in the future."
   ]
  },
  {
   "cell_type": "markdown",
   "metadata": {},
   "source": [
    "For a quantum state represented by density matrix $\\hat{\\rho}$ the expectation value for an observable $\\hat{\\Omega}$ is given by:\n",
    "$$\\langle \\hat{\\Omega} \\rangle = \\sum_{i} p_i \\bra{i} \\hat{\\Omega} \\ket{i} = Tr \\{ \\hat{\\Omega} \\hat{\\rho} \\}. \\tag{3}$$\n",
    "Thus, using (1) and (3), we can represent the density matrix for a single-qubit state as:\n",
    "$$\\hat{\\rho} = \\frac{1}{2} \\sum_{i=0}^{3} \\langle \\hat{\\sigma}_i \\rangle \\hat{\\sigma}_i. \\tag{4}$$"
   ]
  },
  {
   "cell_type": "markdown",
   "metadata": {},
   "source": [
    "For multiple-qubit states the general expression for their density matrices can be written as:\n",
    "$$ \\hat{\\rho} = \\frac{1}{2^n} \\sum_{i_1,i_2,\\dots,i_n = 0}^{3} S_{i_1,i_2,\\dots,i_n} \\hat{\\sigma_{i_1}} \\otimes \\hat{\\sigma_{i_2}} \\otimes \\dots \\hat{\\sigma_{i_n}}. \\tag{5}$$\n",
    "Where $\\hat{\\sigma}_i$ are still the Pauli matrices (Including the 2x2 identity matrix as $\\hat{\\sigma}_0$) and $S_{i_1,i_2,\\dots,i_n}$ are the values given by:\n",
    "$$ S_{i_1,i_2,\\dots,i_n} = Tr\\{ \\hat{\\sigma}_{i_1,i_2,\\dots,i_n} \\hat{\\rho} \\} = Tr\\{ (\\hat{\\sigma_{i_1}} \\otimes \\hat{\\sigma_{i_2}} \\otimes \\dots \\hat{\\sigma_{i_n}}) \\hat{\\rho} \\} \\tag{6}$$\n",
    "\n",
    "The above contents are from page 11 of [Quantum State Tomography](#references)."
   ]
  },
  {
   "cell_type": "markdown",
   "metadata": {},
   "source": [
    "> Note: Above we only considered the orthogonal measurement bases of the pauli matrices. We are not constrained to orthogonal measurement bases and can instead use any set of linearly independent projective measurements (see pages 5 and 6 of [Quantum State Tomography](#references) for the single-qubit case and pages 11 and 12 of [Quantum State Tomography](#references) for the multiple-qubit case.)."
   ]
  },
  {
   "cell_type": "markdown",
   "metadata": {},
   "source": [
    "### Examples"
   ]
  },
  {
   "cell_type": "markdown",
   "metadata": {},
   "source": [
    "## What is Shadow Tomography?"
   ]
  },
  {
   "cell_type": "markdown",
   "metadata": {},
   "source": [
    "### Theory"
   ]
  },
  {
   "cell_type": "markdown",
   "metadata": {},
   "source": [
    "## The Method of Classical Shadows"
   ]
  },
  {
   "cell_type": "markdown",
   "metadata": {},
   "source": [
    "## The Single Qubit Case"
   ]
  },
  {
   "cell_type": "markdown",
   "metadata": {},
   "source": [
    "## The Two Qubit Case"
   ]
  },
  {
   "cell_type": "markdown",
   "metadata": {},
   "source": [
    "## The Three Qubit Case"
   ]
  },
  {
   "cell_type": "markdown",
   "metadata": {},
   "source": [
    "## References\n",
    "1. [Predicting Many Properties of a Quantum System from Very Few Measurements](https://arxiv.org/pdf/2002.08953)\n",
    "2. [Quantum State Tomography](https://research.physics.illinois.edu/QI/Photonics/tomography-files/tomo_chapter_2004.pdf)\n",
    "3. [PennyLane Classical Shadows Demo](https://pennylane.ai/qml/demos/tutorial_classical_shadows/#huang2020)"
   ]
  }
 ],
 "metadata": {
  "language_info": {
   "name": "python"
  }
 },
 "nbformat": 4,
 "nbformat_minor": 2
}
