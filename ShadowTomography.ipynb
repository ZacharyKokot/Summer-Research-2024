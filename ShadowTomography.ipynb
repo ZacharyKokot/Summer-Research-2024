{
 "cells": [
  {
   "cell_type": "markdown",
   "metadata": {},
   "source": [
    "# A Comparision Between Complete State Tomography and Shadow Tomography"
   ]
  },
  {
   "cell_type": "markdown",
   "metadata": {},
   "source": [
    "## What is Complete State Tomography?"
   ]
  },
  {
   "cell_type": "markdown",
   "metadata": {},
   "source": [
    "### Overview"
   ]
  },
  {
   "cell_type": "markdown",
   "metadata": {},
   "source": [
    "The aim of complete state tomography is to reconstruct a target quantum state through a series of projective measurements. *Mention Born's rule, destruction of a state due to measurement, and the curse of dimensionality.*"
   ]
  },
  {
   "cell_type": "markdown",
   "metadata": {},
   "source": [
    "### Theory"
   ]
  },
  {
   "cell_type": "markdown",
   "metadata": {},
   "source": [
    "For single-qubit states the general expression for their density matrices can be written uniquely as:\n",
    "$$\\hat{\\rho} = \\frac{1}{2} \\sum_{i=0}^{3} S_i \\hat{\\sigma}_i. \\tag{1}$$\n",
    "Where $\\hat{\\sigma}_i$ are the Pauli matrices (Including the 2x2 identity matrix as $\\hat{\\sigma}_0$) and $S_i$ are the values given by:\n",
    "$$S_i = Tr\\{\\hat{\\sigma}_i\\hat{\\rho}\\}. \\tag{2}$$\n",
    "It is also useful to note that, \n",
    "1. For all pure states: $\\sum_{i=1}^{3} S_i^2 = 1$.\n",
    "2. For mixed states: $\\sum_{i=1}^{3} S_i^2 < 1$.\n",
    "3. For the completely mixed state:  $\\sum_{i=1}^{3} S_i^2 = 0$.\n",
    "4. Due to the normalization condition for quantum states it is always the case that: $S_0^2 = 1$.\n",
    "\n",
    "The above contents are from pages 4 and 5 of [Quantum State Tomography](#references). Proofs of (1) and (2) to be added in the future."
   ]
  },
  {
   "cell_type": "markdown",
   "metadata": {},
   "source": [
    "For a quantum state represented by density matrix $\\hat{\\rho}$ the expectation value for an observable $\\hat{\\Omega}$ is given by:\n",
    "$$\\langle \\hat{\\Omega} \\rangle = \\sum_{i} p_i \\bra{i} \\hat{\\Omega} \\ket{i} = Tr \\{ \\hat{\\Omega} \\hat{\\rho} \\}. \\tag{3}$$\n",
    "Thus, using (1) and (3), we can represent the density matrix for a single-qubit state as:\n",
    "$$\\hat{\\rho} = \\frac{1}{2} \\sum_{i=0}^{3} \\langle \\hat{\\sigma}_i \\rangle \\hat{\\sigma}_i. \\tag{4}$$"
   ]
  },
  {
   "cell_type": "markdown",
   "metadata": {},
   "source": [
    "For multiple-qubit states the general expression for their density matrices can be written as:\n",
    "$$ \\hat{\\rho} = \\frac{1}{2^n} \\sum_{i_1,i_2,\\dots,i_n = 0}^{3} S_{i_1,i_2,\\dots,i_n} \\hat{\\sigma_{i_1}} \\otimes \\hat{\\sigma_{i_2}} \\otimes \\dots \\hat{\\sigma_{i_n}}. \\tag{5}$$\n",
    "Where $\\hat{\\sigma}_i$ are still the Pauli matrices (Including the 2x2 identity matrix as $\\hat{\\sigma}_0$) and $S_{i_1,i_2,\\dots,i_n}$ are the values given by:\n",
    "$$ S_{i_1,i_2,\\dots,i_n} = Tr\\{ \\hat{\\sigma}_{i_1,i_2,\\dots,i_n} \\hat{\\rho} \\} = Tr\\{ (\\hat{\\sigma_{i_1}} \\otimes \\hat{\\sigma_{i_2}} \\otimes \\dots \\hat{\\sigma_{i_n}}) \\hat{\\rho} \\} \\tag{6}$$\n",
    "\n",
    "The above contents are from page 11 of [Quantum State Tomography](#references)."
   ]
  },
  {
   "cell_type": "markdown",
   "metadata": {},
   "source": [
    "> Note: Above we only considered the orthogonal measurement bases of the pauli matrices. We are not constrained to orthogonal measurement bases and can instead use any set of linearly independent projective measurements (see pages 5 and 6 of [Quantum State Tomography](#references) for the single-qubit case and pages 11 and 12 of [Quantum State Tomography](#references) for the multiple-qubit case.)."
   ]
  },
  {
   "cell_type": "markdown",
   "metadata": {},
   "source": [
    "### The \"Algorithm\""
   ]
  },
  {
   "cell_type": "markdown",
   "metadata": {},
   "source": [
    "#### Importing necessary libraries"
   ]
  },
  {
   "cell_type": "code",
   "execution_count": 506,
   "metadata": {},
   "outputs": [],
   "source": [
    "import numpy as np\n",
    "import itertools\n",
    "\n",
    "from qiskit import QuantumCircuit, ClassicalRegister, QuantumRegister\n",
    "from qiskit.circuit import Clbit\n",
    "from qiskit.circuit.library import *\n",
    "from qiskit.primitives import StatevectorSampler, Estimator\n",
    "from qiskit.quantum_info import DensityMatrix"
   ]
  },
  {
   "cell_type": "markdown",
   "metadata": {},
   "source": [
    "#### Function for generating an approximation of the $\\rho$ prepared by the input circuit using complete state tomography as describe in [Quantum State Tomography](#references)"
   ]
  },
  {
   "cell_type": "code",
   "execution_count": 507,
   "metadata": {},
   "outputs": [],
   "source": [
    "def complete_state_tomography(circuit, samples, num_qubits):\n",
    "    \"\"\"\n",
    "    Perform complete state tomography on a state prepared by a quantum circuit.\n",
    "\n",
    "    Args:\n",
    "        circuit (QuantumCircuit): The quantum circuit that prepares the state.\n",
    "        samples (int): The number of samples to use in the tomography.\n",
    "        num_qubits (int): The number of qubits in the circuit.\n",
    "\n",
    "    Returns:\n",
    "        np.ndarray: The density matrix of the state.\n",
    "    \"\"\"\n",
    "\n",
    "    # The Pauli matrices.\n",
    "    I = [[1,0],[0,1]]\n",
    "    X = [[0,1],[1,0]]\n",
    "    Y = [[0,-1j],[1j,0]]\n",
    "    Z = [[1,0],[0,-1]]\n",
    "\n",
    "    # Create a matrix to store the density matrix.\n",
    "    rho = np.zeros((2**num_qubits, 2**num_qubits), dtype=complex)\n",
    "\n",
    "    # Generate the measurement scheme using the cartesian product.\n",
    "    measurement_scheme = itertools.product([0,1,2,3], repeat=num_qubits)\n",
    "\n",
    "    for m in measurement_scheme:\n",
    "        print(m)\n",
    "\n",
    "    # An array to store the measurement results.\n",
    "    results = np.zeros(4**num_qubits)\n",
    "\n",
    "    # Create a sampler to simulate the quantum circuit on a single shot.\n",
    "    sampler = StatevectorSampler(default_shots=samples)\n",
    "\n",
    "    # Perform the measurements.\n",
    "    for n, measurement in enumerate(measurement_scheme):\n",
    "        # The identity measurement is a special case that always has a coefficient of 1 (due to normalization).\n",
    "        if(measurement == len(measurement) * (0,)):\n",
    "            results[n] = 1\n",
    "            continue\n",
    "\n",
    "        meas_circuit = circuit.copy()\n",
    "        cr = ClassicalRegister(size = (num_qubits - measurement.count(0)), name = 'c')\n",
    "        meas_circuit.add_register(cr)\n",
    "        cbit_count = 0\n",
    "        for m, i in enumerate(measurement):\n",
    "            match i:\n",
    "                case 0:\n",
    "                    continue\n",
    "                case 1:\n",
    "                    meas_circuit.h(m)\n",
    "                    meas_circuit.measure(m, cbit_count)\n",
    "                    cbit_count += 1\n",
    "                case 2:\n",
    "                    meas_circuit.h(m)\n",
    "                    meas_circuit.sdg(m)\n",
    "                    meas_circuit.measure(m, cbit_count)\n",
    "                    cbit_count += 1\n",
    "                case 3:\n",
    "                    meas_circuit.measure(m, cbit_count)\n",
    "                    cbit_count += 1\n",
    "        \n",
    "        # Run the sampler on the quantum circuit and store the result.\n",
    "        result = sampler.run([meas_circuit]).result()[0]\n",
    "\n",
    "        # Store the bitstrings representing the measured basis states.\n",
    "        counts = result.data.c.get_counts()   \n",
    "\n",
    "        # Calculate the expectation value of the measurement.\n",
    "        for key, value in counts.items():\n",
    "            if (key == len(key) * '0'):\n",
    "                results[n] = value/samples\n",
    "                break\n",
    "            else:\n",
    "                results[n] = 0\n",
    "        \n",
    "        # Calculate the density matrix.\n",
    "        for i, measurement in enumerate(measurement_scheme):\n",
    "            o = [1]\n",
    "            for j in measurement:\n",
    "                match j:\n",
    "                    case 0:\n",
    "                        o = np.kron(o, I)\n",
    "                    case 1:\n",
    "                        o = np.kron(o, X)\n",
    "                    case 2:\n",
    "                        o = np.kron(o, Y)\n",
    "                    case 3:\n",
    "                        o = np.kron(o, Z)\n",
    "            rho += results[i] * o\n",
    "\n",
    "    return rho/2**num_qubits"
   ]
  },
  {
   "cell_type": "markdown",
   "metadata": {},
   "source": [
    "### Examples"
   ]
  },
  {
   "cell_type": "markdown",
   "metadata": {},
   "source": [
    "#### With a Bell state"
   ]
  },
  {
   "cell_type": "code",
   "execution_count": 508,
   "metadata": {},
   "outputs": [
    {
     "data": {
      "image/png": "[encoded data removed]",
      "text/plain": [
       "<Figure size 287.294x200.667 with 1 Axes>"
      ]
     },
     "execution_count": 508,
     "metadata": {},
     "output_type": "execute_result"
    }
   ],
   "source": [
    "num_qubits = 2\n",
    "bell_state = [1/np.sqrt(2), 0, 0, 1/np.sqrt(2)]\n",
    "\n",
    "# Instantiate a quantum register with two qubits.\n",
    "bell_state_qr = QuantumRegister (num_qubits, 'q')\n",
    "\n",
    "# Create a quantum circuit with a hadamard gate acting on qubit 0\n",
    "# and a CNOT gate with control qubit 0 and target qubit 1. This will prepare a bell state.\n",
    "bell_state_qc = QuantumCircuit(bell_state_qr)\n",
    "bell_state_qc.h(0)\n",
    "bell_state_qc.cx(0, 1)\n",
    "\n",
    "# Draw the ciruit in mpl (matplotlib).\n",
    "bell_state_qc.draw(\"mpl\")"
   ]
  },
  {
   "cell_type": "code",
   "execution_count": 510,
   "metadata": {},
   "outputs": [
    {
     "name": "stdout",
     "output_type": "stream",
     "text": [
      "DensityMatrix([[0.5+0.j, 0. +0.j, 0. +0.j, 0.5+0.j],\n",
      "               [0. +0.j, 0. +0.j, 0. +0.j, 0. +0.j],\n",
      "               [0. +0.j, 0. +0.j, 0. +0.j, 0. +0.j],\n",
      "               [0.5+0.j, 0. +0.j, 0. +0.j, 0.5+0.j]],\n",
      "              dims=(2, 2))\n",
      "(0, 0)\n",
      "(0, 1)\n",
      "(0, 2)\n",
      "(0, 3)\n",
      "(1, 0)\n",
      "(1, 1)\n",
      "(1, 2)\n",
      "(1, 3)\n",
      "(2, 0)\n",
      "(2, 1)\n",
      "(2, 2)\n",
      "(2, 3)\n",
      "(3, 0)\n",
      "(3, 1)\n",
      "(3, 2)\n",
      "(3, 3)\n",
      "[[0.+0.j 0.+0.j 0.+0.j 0.+0.j]\n",
      " [0.+0.j 0.+0.j 0.+0.j 0.+0.j]\n",
      " [0.+0.j 0.+0.j 0.+0.j 0.+0.j]\n",
      " [0.+0.j 0.+0.j 0.+0.j 0.+0.j]]\n"
     ]
    }
   ],
   "source": [
    "rho_true = DensityMatrix.from_instruction(bell_state_qc)\n",
    "print(rho_true)\n",
    "\n",
    "rho_tomo = complete_state_tomography(bell_state_qc, 1000, num_qubits)\n",
    "print(rho_tomo)"
   ]
  },
  {
   "cell_type": "markdown",
   "metadata": {},
   "source": [
    "## What is Shadow Tomography?"
   ]
  },
  {
   "cell_type": "markdown",
   "metadata": {},
   "source": [
    "### Theory"
   ]
  },
  {
   "cell_type": "markdown",
   "metadata": {},
   "source": [
    "## The Method of Classical Shadows"
   ]
  },
  {
   "cell_type": "markdown",
   "metadata": {},
   "source": [
    "## The Single Qubit Case"
   ]
  },
  {
   "cell_type": "markdown",
   "metadata": {},
   "source": [
    "## The Two Qubit Case"
   ]
  },
  {
   "cell_type": "markdown",
   "metadata": {},
   "source": [
    "## The Three Qubit Case"
   ]
  },
  {
   "cell_type": "markdown",
   "metadata": {},
   "source": [
    "## References\n",
    "1. [Predicting Many Properties of a Quantum System from Very Few Measurements](https://arxiv.org/pdf/2002.08953)\n",
    "2. [Quantum State Tomography](https://research.physics.illinois.edu/QI/Photonics/tomography-files/tomo_chapter_2004.pdf)\n",
    "3. [PennyLane Classical Shadows Demo](https://pennylane.ai/qml/demos/tutorial_classical_shadows/#huang2020)"
   ]
  }
 ],
 "metadata": {
  "language_info": {
   "name": "python"
  }
 },
 "nbformat": 4,
 "nbformat_minor": 2
}
