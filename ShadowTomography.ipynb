{
 "cells": [
  {
   "cell_type": "markdown",
   "metadata": {},
   "source": [
    "# A Comparision Between Complete State Tomography and Shadow Tomography\n",
    "***\n",
    "## Complete State Tomography\n",
    "\n",
    "### Overview\n",
    "\n",
    "The aim of complete state tomography is to reconstruct a target quantum state through a series of projective measurements. In the classical setting where are a great deal of information can be learned from observing a state once and the object can be observed multiple times without risk of the previous measurement significantly perturbing to state effecting future measurement. In the quantum setting an a single measurement yields probabilistic outcomes (Born's rule) while after this measurement the previous state has effectively been destroyed and sent to the resulting measured state. Additionally, the number of parameters required to describe a quantum system scales exponentially in the size of the system. This means that the already large amount of measurements (and therefore copies of a state) required to approximate a single parameter must be repeated for each additional parameter which scales exponentially. Never the less, once the monuments task of measurement and reconstruction has been completed you are left with a good approximation of the prepared state and can now use it to estimate any property you wish. \n",
    "\n",
    "### Theory\n",
    "\n",
    "For single-qubit states the general expression for their density matrices can be written uniquely as:\n",
    "$$\\hat{\\rho} = \\frac{1}{2} \\sum_{i=0}^{3} S_i \\hat{\\sigma}_i. \\tag{1}$$\n",
    "Where $\\hat{\\sigma}_i$ are the Pauli matrices (Including the 2x2 identity matrix as $\\hat{\\sigma}_0$) and $S_i$ are the values given by:\n",
    "$$S_i = Tr\\{\\hat{\\sigma}_i\\hat{\\rho}\\}. \\tag{2}$$\n",
    "It is also useful to note that, \n",
    "1. For all pure states: $\\sum_{i=1}^{3} S_i^2 = 1$.\n",
    "2. For mixed states: $\\sum_{i=1}^{3} S_i^2 < 1$.\n",
    "3. For the completely mixed state:  $\\sum_{i=1}^{3} S_i^2 = 0$.\n",
    "4. Due to the normalization condition for quantum states it is always the case that: $S_0^2 = 1$.\n",
    "\n",
    "Equations (1) and (2) are from pages 4 and 5 of [Quantum State Tomography](#references). Proofs of (1) and (2) to be added in the future.\n",
    "\n",
    "For a quantum state represented by density matrix $\\hat{\\rho}$ the expectation value for an observable $\\hat{\\Omega}$ is given by:\n",
    "$$\\langle \\hat{\\Omega} \\rangle = \\sum_{i} p_i \\bra{i} \\hat{\\Omega} \\ket{i} = Tr \\{ \\hat{\\Omega} \\hat{\\rho} \\}. \\tag{3}$$\n",
    "Thus, using (1) and (3), we can represent the density matrix for a single-qubit state as:\n",
    "$$\\hat{\\rho} = \\frac{1}{2} \\sum_{i=0}^{3} \\langle \\hat{\\sigma}_i \\rangle \\hat{\\sigma}_i. \\tag{4}$$\n",
    "\n",
    "For multiple-qubit states the general expression for their density matrices can be written as:\n",
    "$$ \\hat{\\rho} = \\frac{1}{2^n} \\sum_{i_1,i_2,\\dots,i_n = 0}^{3} S_{i_1,i_2,\\dots,i_n} \\hat{\\sigma}_{i_1} \\otimes \\hat{\\sigma}_{i_2} \\otimes \\dots \\hat{\\sigma}_{i_n}. \\tag{5}$$\n",
    "Where $\\hat{\\sigma}_i$ are still the Pauli matrices (Including the 2x2 identity matrix as $\\hat{\\sigma}_0$) and $S_{i_1,i_2,\\dots,i_n}$ are the values given by:\n",
    "$$ S_{i_1,i_2,\\dots,i_n} = Tr\\{ \\hat{\\sigma}_{i_1,i_2,\\dots,i_n} \\hat{\\rho} \\} = Tr\\{ (\\hat{\\sigma}_{i_1} \\otimes \\hat{\\sigma}_{i_2} \\otimes \\dots \\hat{\\sigma}_{i_n}) \\hat{\\rho} \\} \\tag{6}$$\n",
    "\n",
    "Equations (5) and (6) are from page 11 of [Quantum State Tomography](#references).\n",
    "\n",
    "Similarly, using (5) and (6), we can represent the density matrix for an n-qubit state as:\n",
    "$$ \\hat{\\rho} = \\frac{1}{2^n} \\sum_{i_1,i_2,\\dots,i_n = 0}^{3} \\langle \\hat{\\sigma}_{i_1,i_2,\\dots,i_n} \\rangle \\hat{\\sigma}_{i_1} \\otimes \\hat{\\sigma}_{i_2} \\otimes \\dots \\hat{\\sigma}_{i_n}. \\tag{7}$$\n",
    "\n",
    "> Note: Above we only considered the orthogonal measurement bases of the pauli matrices. We are not constrained to orthogonal measurement bases and can instead use any set of linearly independent projective measurements (see pages 5 and 6 of [Quantum State Tomography](#references) for the single-qubit case and pages 11 and 12 of [Quantum State Tomography](#references) for the multiple-qubit case.)."
   ]
  },
  {
   "cell_type": "markdown",
   "metadata": {},
   "source": [
    "### The \"Algorithm\""
   ]
  },
  {
   "cell_type": "markdown",
   "metadata": {},
   "source": [
    "#### Importing necessary libraries"
   ]
  },
  {
   "cell_type": "code",
   "execution_count": 267,
   "metadata": {},
   "outputs": [],
   "source": [
    "import numpy as np\n",
    "import itertools\n",
    "\n",
    "from qiskit import QuantumCircuit, ClassicalRegister, QuantumRegister\n",
    "from qiskit.circuit import Clbit\n",
    "from qiskit.circuit.library import *\n",
    "from qiskit.primitives import StatevectorSampler, Estimator\n",
    "from qiskit.quantum_info import DensityMatrix"
   ]
  },
  {
   "cell_type": "markdown",
   "metadata": {},
   "source": [
    "#### Function for generating an approximation of the $\\rho$ prepared by the input circuit using complete state tomography as describe in [Quantum State Tomography](#references)"
   ]
  },
  {
   "cell_type": "code",
   "execution_count": 268,
   "metadata": {},
   "outputs": [],
   "source": [
    "def complete_state_tomography(circuit, samples):\n",
    "    \"\"\"\n",
    "    Perform complete state tomography on a state prepared by a quantum circuit. \n",
    "    \n",
    "    Args:\n",
    "        circuit (QuantumCircuit): The quantum circuit that prepares the state.\n",
    "        samples (int): The number of samples to use in the tomography.\n",
    "\n",
    "    Returns:\n",
    "        np.ndarray: The density matrix of the state.\n",
    "    \"\"\"\n",
    "\n",
    "    # The Pauli matrices.\n",
    "    I = [[1,0],[0,1]]\n",
    "    X = [[0,1],[1,0]]\n",
    "    Y = [[0,-1j],[1j,0]]\n",
    "    Z = [[1,0],[0,-1]]\n",
    "\n",
    "    # Get the number of qubits in the circuit.\n",
    "    num_qubits = circuit.num_qubits\n",
    "\n",
    "    # Create a matrix to store the density matrix.\n",
    "    rho = np.zeros((2**num_qubits, 2**num_qubits), dtype=complex)\n",
    "\n",
    "    # Generate the measurement scheme using the cartesian product.\n",
    "    measurement_schemes = []\n",
    "\n",
    "    for measurement in (itertools.product(['I','X','Y','Z'], repeat=num_qubits)):\n",
    "        measurement_schemes.append(measurement)\n",
    "\n",
    "    # An array to store the measurement results.\n",
    "    results = np.zeros(4**num_qubits)\n",
    "\n",
    "    # Create a estimator to simulate the quantum circuit a \"samples\" amount of shots.\n",
    "    sampler = StatevectorSampler(default_shots = samples)\n",
    "\n",
    "    # Perform the measurements. This generates the S coefficients in equation (6) above.\n",
    "    for i, measurement in enumerate(measurement_schemes):\n",
    "\n",
    "        # Apply the measurement scheme to the qubits\n",
    "        qc = QuantumCircuit.copy(circuit)\n",
    "\n",
    "        for j in range(num_qubits):\n",
    "            if measurement_schemes[i][j] == 'X':\n",
    "                qc.h(j)\n",
    "            elif measurement_schemes[i][j] == 'Y':\n",
    "                qc.s(j)\n",
    "                qc.h(j)\n",
    "            else:\n",
    "                continue\n",
    "\n",
    "        qc.measure_all()\n",
    "\n",
    "        # Run the sampler on the quantum circuit and store the result.\n",
    "        result = sampler.run([qc]).result()[0]\n",
    "\n",
    "        # Store the bit-strings representing the measured basis states.\n",
    "        counts = result.data.meas.get_counts()  \n",
    "\n",
    "        # Calculate the expectation value of the measurement.\n",
    "        expectation = 0\n",
    "        for key in counts.keys():\n",
    "            sign = 1\n",
    "            for j in range(num_qubits):\n",
    "                if (key[::-1])[j] == '1' and measurement_schemes[i][j] != 'I':\n",
    "                    sign *= -1\n",
    "                    \n",
    "            expectation += sign*counts[key]\n",
    "        \n",
    "        results[i] = expectation/samples\n",
    "        \n",
    "    # Calculate the density matrix. This is just an implementation of equation (5) above.\n",
    "    for i, measurement in enumerate(measurement_schemes):\n",
    "\n",
    "        o = [1]\n",
    "        for j in measurement:\n",
    "            match j:\n",
    "                case 'I':\n",
    "                    o = np.kron(o, I)\n",
    "                case 'X':\n",
    "                    o = np.kron(o, X)\n",
    "                case 'Y':\n",
    "                    o = np.kron(o, Y)\n",
    "                case 'Z':\n",
    "                    o = np.kron(o, Z)\n",
    "        rho += results[i] * o\n",
    "\n",
    "    return rho/2**num_qubits"
   ]
  },
  {
   "cell_type": "markdown",
   "metadata": {},
   "source": [
    "Using the function ``operator_distance`` we can determine how \"close\" the reconstructed state is to the true state."
   ]
  },
  {
   "cell_type": "code",
   "execution_count": 269,
   "metadata": {},
   "outputs": [],
   "source": [
    "def operator_distance(A, B):\n",
    "    \"\"\"\n",
    "    Calculate the distance between two operators using the Frobenius norm.\n",
    "\n",
    "    Args:\n",
    "        A (np.array): The first operator.\n",
    "        B (np.array): The second operator.\n",
    "\n",
    "    Returns:\n",
    "        float: The distance between the two operators.\n",
    "    \"\"\"\n",
    "\n",
    "    return np.linalg.norm((A - B), ord = 'fro')"
   ]
  },
  {
   "cell_type": "markdown",
   "metadata": {},
   "source": [
    "### Examples"
   ]
  },
  {
   "cell_type": "markdown",
   "metadata": {},
   "source": [
    "#### With an arbitrary single qubit state"
   ]
  },
  {
   "cell_type": "code",
   "execution_count": 270,
   "metadata": {},
   "outputs": [
    {
     "data": {
      "image/png": "[encoded data removed]",
      "text/plain": [
       "<Figure size 352.675x117.056 with 1 Axes>"
      ]
     },
     "execution_count": 270,
     "metadata": {},
     "output_type": "execute_result"
    }
   ],
   "source": [
    "# Instantiate a quantum register for a single qubit.\n",
    "single_qubit_qr = QuantumRegister(1, 'q')\n",
    "\n",
    "# Coefficients for the arbitrary state.\n",
    "a = 1\n",
    "b = 0\n",
    "\n",
    "# Create a quantum circuit which prepares the single qubit state into an arbitrary state based on coefficients a and b.\n",
    "single_qubit_qc = QuantumCircuit(single_qubit_qr)\n",
    "single_qubit_qc.prepare_state(state = [a/(np.sqrt(a**2 + b**2)), b/(np.sqrt(a**2 + b**2))], qubits = [0])\n",
    "\n",
    "# Draw the circuit in mpl (matplotlib).\n",
    "single_qubit_qc.draw('mpl')"
   ]
  },
  {
   "cell_type": "code",
   "execution_count": 271,
   "metadata": {},
   "outputs": [
    {
     "name": "stdout",
     "output_type": "stream",
     "text": [
      "True density matrix:\n",
      "[[1.+0.j 0.+0.j]\n",
      " [0.+0.j 0.+0.j]]\n",
      "\n",
      "Density matrix from tomography:\n",
      "[[1.  +0.j 0.04+0.j]\n",
      " [0.04-0.j 0.  +0.j]]\n",
      "\n",
      "Distance between the true and tomography density matrices:\n",
      "0.0538\n",
      "\n",
      "Total copies of the state used:\n",
      "4000\n"
     ]
    }
   ],
   "source": [
    "rho_true = DensityMatrix.from_instruction(single_qubit_qc)\n",
    "print(\"True density matrix:\")\n",
    "print(rho_true.data)\n",
    "\n",
    "shots = 1000\n",
    "rho_tomo = complete_state_tomography(single_qubit_qc, shots)\n",
    "print(\"\\nDensity matrix from tomography:\")\n",
    "print(np.round(rho_tomo, 2))\n",
    "\n",
    "print(\"\\nDistance between the true and tomography density matrices:\")\n",
    "print(np.round(operator_distance(rho_true.data, rho_tomo), 4))\n",
    "\n",
    "print(\"\\nTotal copies of the state used:\")\n",
    "print(4**single_qubit_qr.size * shots)"
   ]
  },
  {
   "cell_type": "markdown",
   "metadata": {},
   "source": [
    "#### With a Bell state"
   ]
  },
  {
   "cell_type": "code",
   "execution_count": 272,
   "metadata": {},
   "outputs": [
    {
     "data": {
      "image/png": "[encoded data removed]",
      "text/plain": [
       "<Figure size 287.294x200.667 with 1 Axes>"
      ]
     },
     "execution_count": 272,
     "metadata": {},
     "output_type": "execute_result"
    }
   ],
   "source": [
    "# Instantiate a quantum register with two qubits.\n",
    "bell_state_qr = QuantumRegister (2, 'q')\n",
    "\n",
    "# Create a quantum circuit with a hadamard gate acting on qubit 0\n",
    "# and a CNOT gate with control qubit 0 and target qubit 1. This will prepare a bell state.\n",
    "bell_state_qc = QuantumCircuit(bell_state_qr)\n",
    "bell_state_qc.h(0)\n",
    "bell_state_qc.cx(0, 1)\n",
    "\n",
    "# Draw the ciruit in mpl (matplotlib).\n",
    "bell_state_qc.draw(\"mpl\")"
   ]
  },
  {
   "cell_type": "code",
   "execution_count": 273,
   "metadata": {},
   "outputs": [
    {
     "name": "stdout",
     "output_type": "stream",
     "text": [
      "True density matrix:\n",
      "[[0.5+0.j 0. +0.j 0. +0.j 0.5+0.j]\n",
      " [0. +0.j 0. +0.j 0. +0.j 0. +0.j]\n",
      " [0. +0.j 0. +0.j 0. +0.j 0. +0.j]\n",
      " [0.5+0.j 0. +0.j 0. +0.j 0.5+0.j]]\n",
      "\n",
      "Density matrix from tomography:\n",
      "[[ 0.5 +0.j    0.  -0.03j  0.  -0.01j  0.5 -0.j  ]\n",
      " [ 0.  +0.03j -0.01+0.j    0.  -0.j    0.  -0.01j]\n",
      " [ 0.  +0.01j  0.  +0.j    0.01+0.j    0.01+0.01j]\n",
      " [ 0.5 +0.j    0.  +0.01j  0.01-0.01j  0.5 +0.j  ]]\n",
      "\n",
      "Distance between the true and tomography density matrices:\n",
      "0.0525\n",
      "\n",
      "Total copies of the state used:\n",
      "16000\n"
     ]
    }
   ],
   "source": [
    "rho_true = DensityMatrix.from_instruction(bell_state_qc)\n",
    "print(\"True density matrix:\")\n",
    "print(rho_true.data)\n",
    "\n",
    "shots = 1000\n",
    "rho_tomo = complete_state_tomography(bell_state_qc, shots)\n",
    "print(\"\\nDensity matrix from tomography:\")\n",
    "print(np.round(rho_tomo, 2))\n",
    "\n",
    "print(\"\\nDistance between the true and tomography density matrices:\")\n",
    "print(np.round(operator_distance(rho_true.data, rho_tomo), 4))\n",
    "\n",
    "print(\"\\nTotal copies of the state used:\")\n",
    "print(4**bell_state_qr.size * shots)"
   ]
  },
  {
   "cell_type": "markdown",
   "metadata": {},
   "source": [
    "#### With a GHZ state"
   ]
  },
  {
   "cell_type": "code",
   "execution_count": 274,
   "metadata": {},
   "outputs": [
    {
     "data": {
      "image/png": "[encoded data removed]",
      "text/plain": [
       "<Figure size 371.107x284.278 with 1 Axes>"
      ]
     },
     "execution_count": 274,
     "metadata": {},
     "output_type": "execute_result"
    }
   ],
   "source": [
    "# Instantiate a quantum register with three qubits.\n",
    "ghz_state_qr = QuantumRegister (3, 'q')\n",
    "\n",
    "# Create a quantum circuit with a hadamard gate acting on qubit 0,\n",
    "# a CNOT gate with control qubit 0 and target qubit 1,\n",
    "# and a CNOT gate with control qubit 1 and target qubit 2. This will prepare a GHZ state.\n",
    "ghz_state_qc = QuantumCircuit(ghz_state_qr)\n",
    "ghz_state_qc.h(0)\n",
    "ghz_state_qc.cx(0, 1)\n",
    "ghz_state_qc.cx(1, 2)\n",
    "\n",
    "# Draw the ciruit in mpl (matplotlib).\n",
    "ghz_state_qc.draw(\"mpl\")"
   ]
  },
  {
   "cell_type": "code",
   "execution_count": 275,
   "metadata": {},
   "outputs": [
    {
     "name": "stdout",
     "output_type": "stream",
     "text": [
      "True density matrix:\n",
      "[[0.5+0.j 0. +0.j 0. +0.j 0. +0.j 0. +0.j 0. +0.j 0. +0.j 0.5+0.j]\n",
      " [0. +0.j 0. +0.j 0. +0.j 0. +0.j 0. +0.j 0. +0.j 0. +0.j 0. +0.j]\n",
      " [0. +0.j 0. +0.j 0. +0.j 0. +0.j 0. +0.j 0. +0.j 0. +0.j 0. +0.j]\n",
      " [0. +0.j 0. +0.j 0. +0.j 0. +0.j 0. +0.j 0. +0.j 0. +0.j 0. +0.j]\n",
      " [0. +0.j 0. +0.j 0. +0.j 0. +0.j 0. +0.j 0. +0.j 0. +0.j 0. +0.j]\n",
      " [0. +0.j 0. +0.j 0. +0.j 0. +0.j 0. +0.j 0. +0.j 0. +0.j 0. +0.j]\n",
      " [0. +0.j 0. +0.j 0. +0.j 0. +0.j 0. +0.j 0. +0.j 0. +0.j 0. +0.j]\n",
      " [0.5+0.j 0. +0.j 0. +0.j 0. +0.j 0. +0.j 0. +0.j 0. +0.j 0.5+0.j]]\n",
      "\n",
      "Density matrix from tomography:\n",
      "[[ 0.51+0.j    0.01-0.01j  0.01+0.01j -0.01-0.01j  0.  -0.j    0.02-0.02j\n",
      "   0.01-0.01j  0.5 -0.j  ]\n",
      " [ 0.01+0.01j  0.01+0.j    0.01-0.02j  0.01-0.01j -0.01+0.j    0.01-0.j\n",
      "   0.  +0.01j -0.01+0.01j]\n",
      " [ 0.01-0.01j  0.01+0.02j -0.01+0.j   -0.02-0.01j -0.  +0.j    0.  +0.j\n",
      "   0.  -0.01j  0.  -0.02j]\n",
      " [-0.01+0.01j  0.01+0.01j -0.02+0.01j -0.01+0.j    0.  +0.01j -0.  +0.01j\n",
      "   0.01-0.j   -0.01+0.j  ]\n",
      " [ 0.  +0.j   -0.01-0.j   -0.  -0.j    0.  -0.01j  0.01+0.j   -0.  -0.j\n",
      "  -0.01+0.j    0.01+0.j  ]\n",
      " [ 0.02+0.02j  0.01+0.j    0.  -0.j   -0.  -0.01j -0.  +0.j    0.01+0.j\n",
      "   0.  +0.j   -0.  +0.01j]\n",
      " [ 0.01+0.01j  0.  -0.01j  0.  +0.01j  0.01+0.j   -0.01-0.j    0.  -0.j\n",
      "  -0.01+0.j    0.01-0.01j]\n",
      " [ 0.5 +0.j   -0.01-0.01j  0.  +0.02j -0.01-0.j    0.01-0.j   -0.  -0.01j\n",
      "   0.01+0.01j  0.5 +0.j  ]]\n",
      "\n",
      "Distance between the true and tomography density matrices:\n",
      "0.0863\n",
      "\n",
      "Total copies of the state used:\n",
      "64000\n"
     ]
    }
   ],
   "source": [
    "rho_true = DensityMatrix.from_instruction(ghz_state_qc)\n",
    "print(\"True density matrix:\")\n",
    "print(rho_true.data)\n",
    "\n",
    "shots = 1000\n",
    "rho_tomo = complete_state_tomography(ghz_state_qc, shots)\n",
    "print(\"\\nDensity matrix from tomography:\")\n",
    "print(np.round(rho_tomo, 2))\n",
    "\n",
    "print(\"\\nDistance between the true and tomography density matrices:\")\n",
    "print(np.round(operator_distance(rho_true.data, rho_tomo), 4))\n",
    "\n",
    "print(\"\\nTotal copies of the state used:\")\n",
    "print(4**ghz_state_qr.size * shots)"
   ]
  },
  {
   "cell_type": "markdown",
   "metadata": {},
   "source": [
    "***\n",
    "## Shadow Tomography"
   ]
  },
  {
   "cell_type": "markdown",
   "metadata": {},
   "source": [
    "### Overview"
   ]
  },
  {
   "cell_type": "markdown",
   "metadata": {},
   "source": [
    "For many situations a complete description of a quantum state is not of interest but rather the expectation values of some set of observables. In a paper titled *Shadow Tomography of Quantum States* Scott Aaronson introduces the idea that a complete description of a state is not required to accurately estimate some subset of all target observables on the state. Then in a paper titled *Predicting Many Properties of a Quantum System from Very Few Measurements* Huang, Kueng, and Preskill develop and prove the efficiency of the method of classical shadows."
   ]
  },
  {
   "cell_type": "markdown",
   "metadata": {},
   "source": [
    "### Theory"
   ]
  },
  {
   "cell_type": "markdown",
   "metadata": {},
   "source": [
    "## The Method of Classical Shadows"
   ]
  },
  {
   "cell_type": "markdown",
   "metadata": {},
   "source": [
    "### Generating the Shadow"
   ]
  },
  {
   "cell_type": "markdown",
   "metadata": {},
   "source": [
    "#### Importing necessary libraries"
   ]
  },
  {
   "cell_type": "code",
   "execution_count": 301,
   "metadata": {},
   "outputs": [],
   "source": [
    "import numpy as np\n",
    "import matplotlib.pyplot as plt\n",
    "import re\n",
    "import itertools\n",
    "\n",
    "from qiskit import QuantumCircuit, ClassicalRegister, QuantumRegister\n",
    "from qiskit.circuit import Clbit\n",
    "from qiskit.circuit.library import *\n",
    "from qiskit.primitives import StatevectorSampler, Estimator\n",
    "from qiskit.quantum_info import DensityMatrix"
   ]
  },
  {
   "cell_type": "markdown",
   "metadata": {},
   "source": [
    "#### Function for generating the classical shadow"
   ]
  },
  {
   "cell_type": "code",
   "execution_count": 277,
   "metadata": {},
   "outputs": [],
   "source": [
    "def generate_classical_shadow(circuit, shadow_size):\n",
    "    \"\"\"\n",
    "    Adapted from https://pennylane.ai/qml/demos/tutorial_classical_shadows/.\n",
    "    Given a quantum circuit, this function creates a collection of bit-strings generated by random single-qubit Pauli measurements and records the associated random pauli measurement.\n",
    "\n",
    "    Args:\n",
    "        circuit (QuantumCircuit): The quantum circuit which resulting state we wish to estimate.\n",
    "        shadow_size (int): The number of random Pauli measurements to be taken.\n",
    "        num_qubits (int): The number of qubits in the circuit.\n",
    "\n",
    "    Returns:\n",
    "        np.ndarray: A matrix of shape (shadow_size, num_qubits) where each row is a bit-string representing the result of a random Pauli measurement on the qubits.\n",
    "        np.ndarray: A matrix of shape (shadow_size, num_qubits) where each row is a sequence of integers representing the Pauli measurement scheme used to generate the corresponding bit-string in the first matrix.\n",
    "    \"\"\"\n",
    "\n",
    "    # Get the number of qubits in the circuit.\n",
    "    num_qubits = circuit.num_qubits\n",
    "\n",
    "    # Generate the measurement scheme. This is the random Pauli measurements that will be done on the qubits after each shot of the circuit.\n",
    "    measurement_schemes = np.random.randint(0, 3, size = (shadow_size, num_qubits))\n",
    "\n",
    "    # Create a matrix to store the results of the measurements.\n",
    "    measurements = np.zeros(shape = (shadow_size, num_qubits))\n",
    "\n",
    "    # Create a sampler to simulate the quantum circuit on a single shot.\n",
    "    sampler = StatevectorSampler(default_shots=1)\n",
    "\n",
    "    # \n",
    "    for i in range(shadow_size):\n",
    "\n",
    "        # Apply the measurement scheme to the qubits\n",
    "        qc = QuantumCircuit.copy(circuit)\n",
    "\n",
    "        for j in range(num_qubits):\n",
    "            if measurement_schemes[i][j] == 0:\n",
    "                qc.h(j)\n",
    "            elif measurement_schemes[i][j] == 1:\n",
    "                qc.s(j)\n",
    "                qc.h(j)\n",
    "            else:\n",
    "                continue\n",
    "\n",
    "        qc.measure_all()\n",
    "\n",
    "        # Run the sampler on the quantum circuit and store the result.\n",
    "        result = sampler.run([qc]).result()[0]\n",
    "\n",
    "        # A change\n",
    "\n",
    "        # Store the bit-strings representing the measured basis states. Because the sampler is configured to run the circuit once, there is only one result.\n",
    "        counts = result.data.meas.get_counts()   \n",
    "\n",
    "        # Get the single bit-string.\n",
    "        states = list(list(counts.keys())[0])\n",
    "        # The bit string is ordered with qubit n on the left and qubit 0 on the right. We want to reverse this order.\n",
    "        states.reverse()\n",
    "\n",
    "        # Store the results of the measurements as the eigen values of the observable.\n",
    "        for j in range(num_qubits):\n",
    "            measurements[i][j] = 1 if states[j] == '0' else -1\n",
    "\n",
    "    return measurements, measurement_schemes"
   ]
  },
  {
   "cell_type": "markdown",
   "metadata": {},
   "source": [
    "> Note: In my implementation of the classical shadow protocol I use a measurement procedure consisting of random single-qubit (local) Clifford circuits (which are equivalent to measuring a random Pauli observable). I chose this procedure due its ease of implementation but other procedures offer different benefits, some of which are disused in [Predicting Many Properties of a Quantum System from Very Few Measurements](#references)."
   ]
  },
  {
   "cell_type": "markdown",
   "metadata": {},
   "source": [
    "#### Function for reconstructing the states density matrix from the classical shadow\n",
    "\n",
    "This is not the intended use of the classical shadow protocol and is additionally not the goal of shadow tomography. However, it serves as a useful test of the functionality of the generation of classical shadows."
   ]
  },
  {
   "cell_type": "code",
   "execution_count": 278,
   "metadata": {},
   "outputs": [],
   "source": [
    "def reconstruct_state(shadow):\n",
    "    \"\"\"\n",
    "    Adapted from https://pennylane.ai/qml/demos/tutorial_classical_shadows/\n",
    "    Given a classical shadow, this function reconstructs an approximation of the density matrix of the quantum state.\n",
    "    \n",
    "    Args:\n",
    "        shadow (tuple): A tuple containing the classical shadow generated by the function generate_classical_shadow. The first element is a matrix of shape (shadow_size, num_qubits) where each row is a bit-string representing the result of a random Pauli measurement on the qubits. The second element is a matrix of shape (shadow_size, num_qubits) where each row is a sequence of integers representing the Pauli measurement scheme used to generate the corresponding bit-string in the first matrix.\n",
    "\n",
    "    Returns:\n",
    "        np.array: An approximation of the density matrix of the quantum state.\n",
    "    \"\"\"\n",
    "\n",
    "    # Unpack the shadow.\n",
    "    measurements, measurement_schemes = shadow\n",
    "\n",
    "    # Get the shadow size.\n",
    "    shadow_size = measurements.shape[0]\n",
    "    # Get the number of qubits.\n",
    "    num_qubits = measurements.shape[1]\n",
    "\n",
    "    # Computational basis states.\n",
    "    zero_state = np.matrix([[1,0],[0,0]], dtype=complex)\n",
    "    one_state = np.matrix([[0,0],[0,1]], dtype=complex)\n",
    "\n",
    "    # Local qubit unitaries. \n",
    "    phase_z = np.matrix([[1,0],[0,-1j]], dtype=complex)\n",
    "    hadamard = np.matrix([[1,1],[1,-1]], dtype=complex)/np.sqrt(2)\n",
    "    identity = np.matrix([[1,0],[0,1]], dtype=complex)\n",
    "\n",
    "    # Rotations to measure each of the paulis.\n",
    "    X = hadamard\n",
    "    Y = hadamard @ phase_z\n",
    "    Z = identity\n",
    "\n",
    "    # Tomographically complete set of unitaries. (The pauli basis is tomographically complete.) \n",
    "    unitary_ensemble = [X, Y, Z]\n",
    "\n",
    "    # Array to store the estimated density matrix.\n",
    "    rho_estimated = np.zeros((2**num_qubits, 2**num_qubits), dtype=complex)\n",
    "\n",
    "    for i in range(shadow_size):\n",
    "\n",
    "        # Array to store the density matrix at each snapshot.\n",
    "        rho_snapshot = [1]\n",
    "\n",
    "        for j in range(num_qubits):\n",
    "\n",
    "            # Implementation of formula S44 from the preskill paper.\n",
    "            U = unitary_ensemble[measurement_schemes[i][j]]\n",
    "            if measurements[i][j] == 1:\n",
    "                b_state = zero_state\n",
    "            else:\n",
    "                b_state = one_state\n",
    "\n",
    "            rho_local = 3 * (U.H @ b_state @ U) - identity\n",
    "\n",
    "            rho_snapshot = np.kron(rho_snapshot, rho_local)\n",
    "\n",
    "        # Average all the inverted basis states to get an approximation of the density matrix.\n",
    "        rho_estimated += rho_snapshot/shadow_size\n",
    "\n",
    "    return rho_estimated"
   ]
  },
  {
   "cell_type": "markdown",
   "metadata": {},
   "source": [
    "### Testing the shadow generation with state reconstruction. "
   ]
  },
  {
   "cell_type": "markdown",
   "metadata": {},
   "source": [
    "#### With an arbitrary single qubit state"
   ]
  },
  {
   "cell_type": "code",
   "execution_count": 279,
   "metadata": {},
   "outputs": [
    {
     "data": {
      "image/png": "[encoded data removed]",
      "text/plain": [
       "<Figure size 352.675x117.056 with 1 Axes>"
      ]
     },
     "execution_count": 279,
     "metadata": {},
     "output_type": "execute_result"
    }
   ],
   "source": [
    "# Instantiate a quantum register for a single qubit.\n",
    "single_qubit_qr = QuantumRegister(1, 'q')\n",
    "\n",
    "# Coefficients for the arbitrary state.\n",
    "a = 1\n",
    "b = 1\n",
    "\n",
    "# Create a quantum circuit which prepares the single qubit state into an arbitrary state based on coefficients a and b.\n",
    "single_qubit_qc = QuantumCircuit(single_qubit_qr)\n",
    "single_qubit_qc.prepare_state(state = [a/(np.sqrt(a**2 + b**2)), b/(np.sqrt(a**2 + b**2))], qubits = [0])\n",
    "\n",
    "# Draw the circuit in mpl (matplotlib).\n",
    "single_qubit_qc.draw('mpl')"
   ]
  },
  {
   "cell_type": "code",
   "execution_count": 280,
   "metadata": {},
   "outputs": [
    {
     "name": "stdout",
     "output_type": "stream",
     "text": [
      "True density matrix:\n",
      "[[0.5+0.j 0.5+0.j]\n",
      " [0.5+0.j 0.5+0.j]]\n",
      "\n",
      "Density matrix from shadow tomography:\n",
      "[[0.48+0.j   0.53-0.01j]\n",
      " [0.53+0.01j 0.52+0.j  ]]\n",
      "\n",
      "Distance between the true and shadow tomography density matrices:\n",
      "0.0507\n",
      "\n",
      "Total copies of the state used:\n",
      "1000\n"
     ]
    }
   ],
   "source": [
    "rho_true = DensityMatrix.from_instruction(single_qubit_qc)\n",
    "print(\"True density matrix:\")\n",
    "print(rho_true.data)\n",
    "\n",
    "shadow_size = 1000\n",
    "shadow = generate_classical_shadow(single_qubit_qc, shadow_size)\n",
    "rho_shadow = reconstruct_state(shadow)\n",
    "print(\"\\nDensity matrix from shadow tomography:\")\n",
    "print(np.round(rho_shadow, 2))\n",
    "\n",
    "print(\"\\nDistance between the true and shadow tomography density matrices:\")\n",
    "print(np.round(operator_distance(rho_true.data, rho_shadow), 4))\n",
    "\n",
    "print(\"\\nTotal copies of the state used:\")\n",
    "print(shadow_size)"
   ]
  },
  {
   "cell_type": "markdown",
   "metadata": {},
   "source": [
    "#### With a Bell state"
   ]
  },
  {
   "cell_type": "code",
   "execution_count": 281,
   "metadata": {},
   "outputs": [
    {
     "data": {
      "image/png": "[encoded data removed]",
      "text/plain": [
       "<Figure size 287.294x200.667 with 1 Axes>"
      ]
     },
     "execution_count": 281,
     "metadata": {},
     "output_type": "execute_result"
    }
   ],
   "source": [
    "# Instantiate a quantum register with two qubits.\n",
    "bell_state_qr = QuantumRegister (2, 'q')\n",
    "\n",
    "# Create a quantum circuit with a hadamard gate acting on qubit 0\n",
    "# and a CNOT gate with control qubit 0 and target qubit 1. This will prepare a bell state.\n",
    "bell_state_qc = QuantumCircuit(bell_state_qr)\n",
    "bell_state_qc.h(0)\n",
    "bell_state_qc.cx(0, 1)\n",
    "\n",
    "# Draw the ciruit in mpl (matplotlib).\n",
    "bell_state_qc.draw(\"mpl\")"
   ]
  },
  {
   "cell_type": "code",
   "execution_count": 282,
   "metadata": {},
   "outputs": [
    {
     "name": "stdout",
     "output_type": "stream",
     "text": [
      "True density matrix:\n",
      "[[0.5+0.j 0. +0.j 0. +0.j 0.5+0.j]\n",
      " [0. +0.j 0. +0.j 0. +0.j 0. +0.j]\n",
      " [0. +0.j 0. +0.j 0. +0.j 0. +0.j]\n",
      " [0.5+0.j 0. +0.j 0. +0.j 0.5+0.j]]\n",
      "\n",
      "Density matrix from shadow tomography:\n",
      "[[ 0.45+0.j   -0.02+0.04j -0.03+0.03j  0.54-0.07j]\n",
      " [-0.02-0.04j  0.01+0.j    0.  +0.02j  0.03-0.01j]\n",
      " [-0.03-0.03j  0.  -0.02j  0.01+0.j    0.01-0.04j]\n",
      " [ 0.54+0.07j  0.03+0.01j  0.01+0.04j  0.53+0.j  ]]\n",
      "\n",
      "Distance between the true and shadow tomography density matrices:\n",
      "0.1677\n",
      "\n",
      "Total copies of the state used:\n",
      "1000\n"
     ]
    }
   ],
   "source": [
    "rho_true = DensityMatrix.from_instruction(bell_state_qc)\n",
    "print(\"True density matrix:\")\n",
    "print(rho_true.data)\n",
    "\n",
    "shadow_size = 1000\n",
    "shadow = generate_classical_shadow(bell_state_qc, shadow_size)\n",
    "rho_shadow = reconstruct_state(shadow)\n",
    "print(\"\\nDensity matrix from shadow tomography:\")\n",
    "print(np.round(rho_shadow, 2))\n",
    "\n",
    "print(\"\\nDistance between the true and shadow tomography density matrices:\")\n",
    "print(np.round(operator_distance(rho_true.data, rho_shadow), 4))\n",
    "\n",
    "print(\"\\nTotal copies of the state used:\")\n",
    "print(shadow_size)"
   ]
  },
  {
   "cell_type": "markdown",
   "metadata": {},
   "source": [
    "#### With a GHZ state"
   ]
  },
  {
   "cell_type": "code",
   "execution_count": 283,
   "metadata": {},
   "outputs": [
    {
     "data": {
      "image/png": "[encoded data removed]",
      "text/plain": [
       "<Figure size 371.107x284.278 with 1 Axes>"
      ]
     },
     "execution_count": 283,
     "metadata": {},
     "output_type": "execute_result"
    }
   ],
   "source": [
    "# Instantiate a quantum register with three qubits.\n",
    "ghz_state_qr = QuantumRegister (3, 'q')\n",
    "\n",
    "# Create a quantum circuit with a hadamard gate acting on qubit 0,\n",
    "# a CNOT gate with control qubit 0 and target qubit 1,\n",
    "# and a CNOT gate with control qubit 1 and target qubit 2. This will prepare a GHZ state.\n",
    "ghz_state_qc = QuantumCircuit(ghz_state_qr)\n",
    "ghz_state_qc.h(0)\n",
    "ghz_state_qc.cx(0, 1)\n",
    "ghz_state_qc.cx(1, 2)\n",
    "\n",
    "# Draw the ciruit in mpl (matplotlib).\n",
    "ghz_state_qc.draw(\"mpl\")"
   ]
  },
  {
   "cell_type": "code",
   "execution_count": 284,
   "metadata": {},
   "outputs": [
    {
     "name": "stdout",
     "output_type": "stream",
     "text": [
      "True density matrix:\n",
      "[[0.5+0.j 0. +0.j 0. +0.j 0. +0.j 0. +0.j 0. +0.j 0. +0.j 0.5+0.j]\n",
      " [0. +0.j 0. +0.j 0. +0.j 0. +0.j 0. +0.j 0. +0.j 0. +0.j 0. +0.j]\n",
      " [0. +0.j 0. +0.j 0. +0.j 0. +0.j 0. +0.j 0. +0.j 0. +0.j 0. +0.j]\n",
      " [0. +0.j 0. +0.j 0. +0.j 0. +0.j 0. +0.j 0. +0.j 0. +0.j 0. +0.j]\n",
      " [0. +0.j 0. +0.j 0. +0.j 0. +0.j 0. +0.j 0. +0.j 0. +0.j 0. +0.j]\n",
      " [0. +0.j 0. +0.j 0. +0.j 0. +0.j 0. +0.j 0. +0.j 0. +0.j 0. +0.j]\n",
      " [0. +0.j 0. +0.j 0. +0.j 0. +0.j 0. +0.j 0. +0.j 0. +0.j 0. +0.j]\n",
      " [0.5+0.j 0. +0.j 0. +0.j 0. +0.j 0. +0.j 0. +0.j 0. +0.j 0.5+0.j]]\n",
      "\n",
      "Density matrix from shadow tomography:\n",
      "[[ 0.52+0.j    0.01+0.03j  0.  -0.02j -0.02+0.j   -0.03+0.05j  0.01-0.02j\n",
      "  -0.05-0.03j  0.47-0.02j]\n",
      " [ 0.01-0.03j -0.  +0.j   -0.02+0.01j -0.  +0.02j -0.  -0.02j -0.01-0.03j\n",
      "  -0.06+0.03j  0.03-0.01j]\n",
      " [ 0.  +0.02j -0.02-0.01j  0.03+0.j    0.03+0.02j  0.04+0.05j -0.08+0.03j\n",
      "   0.  -0.03j -0.01+0.j  ]\n",
      " [-0.02-0.j   -0.  -0.02j  0.03-0.02j  0.01+0.j    0.01-0.06j -0.01-0.07j\n",
      "   0.01-0.04j  0.05+0.03j]\n",
      " [-0.03-0.05j -0.  +0.02j  0.04-0.05j  0.01+0.06j -0.02+0.j   -0.01+0.01j\n",
      "   0.01+0.01j  0.05-0.03j]\n",
      " [ 0.01+0.02j -0.01+0.03j -0.08-0.03j -0.01+0.07j -0.01-0.01j  0.01+0.j\n",
      "  -0.01-0.07j -0.02+0.01j]\n",
      " [-0.05+0.03j -0.06-0.03j  0.  +0.03j  0.01+0.04j  0.01-0.01j -0.01+0.07j\n",
      "  -0.02+0.j   -0.04+0.01j]\n",
      " [ 0.47+0.02j  0.03+0.01j -0.01-0.j    0.05-0.03j  0.05+0.03j -0.02-0.01j\n",
      "  -0.04-0.01j  0.46+0.j  ]]\n",
      "\n",
      "Distance between the true and shadow tomography density matrices:\n",
      "0.34\n",
      "\n",
      "Total copies of the state used:\n",
      "1000\n"
     ]
    }
   ],
   "source": [
    "rho_true = DensityMatrix.from_instruction(ghz_state_qc)\n",
    "print(\"True density matrix:\")\n",
    "print(rho_true.data)\n",
    "\n",
    "shadow_size = 1000\n",
    "shadow = generate_classical_shadow(ghz_state_qc, shadow_size)\n",
    "rho_shadow = reconstruct_state(shadow)\n",
    "print(\"\\nDensity matrix from shadow tomography:\")\n",
    "print(np.round(rho_shadow, 2))\n",
    "\n",
    "print(\"\\nDistance between the true and shadow tomography density matrices:\")\n",
    "print(np.round(operator_distance(rho_true.data, rho_shadow), 4))\n",
    "\n",
    "print(\"\\nTotal copies of the state used:\")\n",
    "print(shadow_size)"
   ]
  },
  {
   "cell_type": "markdown",
   "metadata": {},
   "source": [
    "### Using Classical Shadows to Estimate Observables"
   ]
  },
  {
   "cell_type": "markdown",
   "metadata": {},
   "source": [
    "#### Function for estimating an arbitrary observable using a classical shadow"
   ]
  },
  {
   "cell_type": "code",
   "execution_count": 285,
   "metadata": {},
   "outputs": [],
   "source": [
    "def estimate_observable(shadow, observable, k = 10):\n",
    "    \"\"\"\n",
    "    Adapted from https://pennylane.ai/qml/demos/tutorial_classical_shadows/ and the original paper by Preskill.\n",
    "\n",
    "    Given a classical shadow, a Pauli observable and value k, this function estimates the expectation value of the observable using median of means on k estimators.s\n",
    "\n",
    "    Args:\n",
    "        shadow (np.array): The classical shadow generated by the function generate_classical_shadow. The first element is a matrix of shape (shadow_size, num_qubits) where each row is a bit-string representing the result of a random Pauli measurement on the qubits. The second element is a matrix of shape (shadow_size, num_qubits) where each row is a sequence of integers representing the Pauli measurement scheme used to generate the corresponding bit-string in the first matrix.\n",
    "        observable (np.array): The Pauli observable to estimate the expectation value of. In matrix form.\n",
    "        k (int): The number of subsets to split the shadow into. The number of estimators. By default this is set to 10.\n",
    "\n",
    "    Returns:\n",
    "        float: The estimated expectation value of the observable.\n",
    "    \"\"\"\n",
    "\n",
    "    # Unpack the shadow.\n",
    "    measurements, measurement_schemes = shadow\n",
    "\n",
    "    # Get the number of qubits.\n",
    "    num_qubits = measurements.shape[1]\n",
    "\n",
    "    if observable.shape[0] != 2**num_qubits or observable.shape[1] != 2**num_qubits:\n",
    "        raise ValueError(\"The observable matrix must be of shape (2**num_qubits, 2**num_qubits).\")\n",
    "\n",
    "    # Split the shadow into k subsets.\n",
    "    measurements_splits = np.array_split(measurements, k)\n",
    "    measurement_schemes_splits = np.array_split(measurement_schemes, k)\n",
    "    shadows = list(zip(measurements_splits, measurement_schemes_splits))\n",
    "\n",
    "    # Array to store the estimated expectation values from each estimator.\n",
    "    means = np.zeros(k, dtype=complex)\n",
    "\n",
    "    # Iterate over the number of estimators. Calculate the expectation value of the observable for each estimator and store the result in the means array.\n",
    "    for s, i in enumerate(shadows):\n",
    "        means[s] = np.trace(observable @ reconstruct_state(i))\n",
    "            \n",
    "    # Return the median of the means.\n",
    "    return np.median(means)"
   ]
  },
  {
   "cell_type": "markdown",
   "metadata": {},
   "source": [
    "#### Function for estimating a Pauli observable using a classical shadow"
   ]
  },
  {
   "cell_type": "markdown",
   "metadata": {},
   "source": [
    "*Talk about how this can be done faster than estimating an arbitrary observable*"
   ]
  },
  {
   "cell_type": "code",
   "execution_count": 286,
   "metadata": {},
   "outputs": [],
   "source": [
    "def estimate_pauli_observable(shadow, observable, k = 10):\n",
    "    \"\"\"\n",
    "    Adapted from https://pennylane.ai/qml/demos/tutorial_classical_shadows/ and the original paper by Preskill.\n",
    "\n",
    "    Given a classical shadow, a Pauli observable and value k, this function estimates the expectation value of the observable using median of means on k estimators.s\n",
    "\n",
    "    Args:\n",
    "        shadow (np.array): The classical shadow generated by the function generate_classical_shadow. The first element is a matrix of shape (shadow_size, num_qubits) where each row is a bit-string representing the result of a random Pauli measurement on the qubits. The second element is a matrix of shape (shadow_size, num_qubits) where each row is a sequence of integers representing the Pauli measurement scheme used to generate the corresponding bit-string in the first matrix.\n",
    "        observable (string): The observable to be estimated. In the form of a string representing the Pauli operator. For example, 'XX' represents the tensor product of two Pauli-X operators.\n",
    "        k (int): The number of subsets to split the shadow into. The number of estimators. By default this is set to 10.\n",
    "\n",
    "    Returns:\n",
    "        float: The estimated expectation value of the observable.\n",
    "    \"\"\"\n",
    "\n",
    "    # Unpack the shadow.\n",
    "    measurements, measurement_schemes = shadow\n",
    "\n",
    "    # Get the shadow size.\n",
    "    shadow_size = measurements.shape[0]\n",
    "    # Get the number of qubits.\n",
    "    num_qubits = measurements.shape[1]\n",
    "\n",
    "    # Check if the observable and the number of qubits in the shadow match. That is, the observable is a tensor product of Pauli operators acting on the same number of qubits as the shadow.\n",
    "    if len(observable) != num_qubits:\n",
    "        raise ValueError(\"The observable and the number of qubits in the shadow do not match.\")\n",
    "\n",
    "    # Edit the observable to do pattern matching with the measurement string. Replacing 'I' with the single character wild card '.'.\n",
    "    observable = observable.replace('I', '.')\n",
    "\n",
    "    # Split the shadow into k subsets.\n",
    "    measurements_splits = np.array_split(measurements, k)\n",
    "    measurement_schemes_splits = np.array_split(measurement_schemes, k)\n",
    "    shadows = list(zip(measurements_splits, measurement_schemes_splits))\n",
    "\n",
    "    # Array to store the estimated expectation values from each estimator.\n",
    "    means = np.zeros(k)\n",
    "\n",
    "    # Iterate over the number of estimators. Calculate the expectation value of the observable for each estimator and store the result in the means array.\n",
    "    for s, shadow in enumerate(shadows):\n",
    "        \n",
    "        # Unpack the shadow k.\n",
    "        measurements_k, measurement_schemes_k = shadow\n",
    "\n",
    "        # Count the number of matches between the observable and the measurement schemes.\n",
    "        match_indices = []\n",
    "        for i, measurement_scheme_k in enumerate(measurement_schemes_k):\n",
    "\n",
    "            # Convert the measurement scheme to a string to compare with the observable.\n",
    "            measurement_scheme_string = \"\"\n",
    "            for j in measurement_scheme_k:\n",
    "                match j:\n",
    "                    case 0:\n",
    "                        measurement_scheme_string += 'X'\n",
    "                    case 1:\n",
    "                        measurement_scheme_string += 'Y'\n",
    "                    case 2:\n",
    "                        measurement_scheme_string += 'Z'\n",
    "\n",
    "            # Check if the measurement scheme matches the observable.\n",
    "            if re.match(observable, measurement_scheme_string):\n",
    "                match_indices.append(i)\n",
    "\n",
    "        # Catch the case that there are no matches.\n",
    "        if len(match_indices) > 0:\n",
    "            # Sum over the matches.\n",
    "            sum = 0\n",
    "            for match in match_indices:\n",
    "                # Calculate the sign of the expectation for the single shot measurement.\n",
    "                sign = 1\n",
    "                for k, measurement_k in enumerate(measurements_k[match]):\n",
    "                    if observable[k] in ['X', 'Z']:\n",
    "                        sign *= measurement_k\n",
    "                    elif observable[k] == 'Y':\n",
    "                        sign *= (-1 * measurement_k)\n",
    "\n",
    "                sum += sign*3**(len(list(filter(lambda x: x != '.', observable))))\n",
    "        else:\n",
    "            sum = 0\n",
    "            \n",
    "        # Store the result in the means array.\n",
    "        means[s] = sum/len(measurement_schemes_k)\n",
    "\n",
    "\n",
    "    # Return the median of the means.\n",
    "    return np.median(means)"
   ]
  },
  {
   "cell_type": "markdown",
   "metadata": {},
   "source": [
    "### Testing on some select Pauli observables"
   ]
  },
  {
   "cell_type": "markdown",
   "metadata": {},
   "source": [
    "#### With an arbitrary single qubit state"
   ]
  },
  {
   "cell_type": "code",
   "execution_count": 287,
   "metadata": {},
   "outputs": [
    {
     "data": {
      "image/png": "[encoded data removed]",
      "text/plain": [
       "<Figure size 352.675x117.056 with 1 Axes>"
      ]
     },
     "execution_count": 287,
     "metadata": {},
     "output_type": "execute_result"
    }
   ],
   "source": [
    "# Instantiate a quantum register for a single qubit.\n",
    "single_qubit_qr = QuantumRegister(1, 'q')\n",
    "\n",
    "# Coefficients for the arbitrary state.\n",
    "a = 1\n",
    "b = 0\n",
    "\n",
    "# Create a quantum circuit which prepares the single qubit state into an arbitrary state based on coefficients a and b.\n",
    "single_qubit_qc = QuantumCircuit(single_qubit_qr)\n",
    "single_qubit_qc.prepare_state(state = [a/(np.sqrt(a**2 + b**2)), b/(np.sqrt(a**2 + b**2))], qubits = [0])\n",
    "\n",
    "# Draw the circuit in mpl (matplotlib).\n",
    "single_qubit_qc.draw('mpl')"
   ]
  },
  {
   "cell_type": "code",
   "execution_count": 288,
   "metadata": {},
   "outputs": [
    {
     "name": "stdout",
     "output_type": "stream",
     "text": [
      "True expectation value for the I observable: 1.0\n",
      "Estimated expectation value for the I observable: 1.0\n",
      "Difference between the true and shadow tomography expectation values: 0.0\n",
      "\n",
      "True expectation value for the X observable: 0.0\n",
      "Estimated expectation value for the X observable: 0.021\n",
      "Difference between the true and shadow tomography expectation values: 0.020999999999999998\n",
      "\n",
      "True expectation value for the Y observable: 0.0\n",
      "Estimated expectation value for the Y observable: 0.03\n",
      "Difference between the true and shadow tomography expectation values: 0.03\n",
      "\n",
      "True expectation value for the Z observable: 1.0\n",
      "Estimated expectation value for the Z observable: 0.984\n",
      "Difference between the true and shadow tomography expectation values: 0.016000000000000014\n",
      "\n",
      "Total copies of the state used: 5000\n"
     ]
    }
   ],
   "source": [
    "I = np.matrix([[1,0],[0,1]]) # 2x2 Identity matrix\n",
    "X = np.matrix([[0,1],[1,0]]) # Pauli-X matrix\n",
    "Y = np.matrix([[0,-1j],[1j,0]]) # Pauli-Y matrix\n",
    "Z = np.matrix([[1,0],[0,-1]]) # Pauli-Z matrix\n",
    "\n",
    "observables = [I, X, Y, Z]\n",
    "\n",
    "rho_true = DensityMatrix.from_instruction(single_qubit_qc)\n",
    "\n",
    "shadow_size = 5000\n",
    "shadow = generate_classical_shadow(single_qubit_qc, shadow_size)\n",
    "\n",
    "for i in itertools.product(['I','X','Y','Z'], repeat = single_qubit_qc.num_qubits):\n",
    "    observable_matrix = [1]\n",
    "    for observable in i:\n",
    "        match observable:\n",
    "            case 'I':\n",
    "                observable_matrix = np.kron(observable_matrix, I)\n",
    "            case 'X':\n",
    "                observable_matrix = np.kron(observable_matrix, X)\n",
    "            case 'Y':\n",
    "                observable_matrix = np.kron(observable_matrix, Y)\n",
    "            case 'Z':\n",
    "                observable_matrix = np.kron(observable_matrix, Z)\n",
    "    \n",
    "    true_expectation = np.trace(observable_matrix @ rho_true.data)\n",
    "    print(f\"True expectation value for the {''.join(i)} observable: \" + str(np.round(np.real(true_expectation), decimals = 4)))\n",
    "\n",
    "    estimated_expectation = estimate_pauli_observable(shadow, ''.join(i))\n",
    "    print(f\"Estimated expectation value for the {''.join(i)} observable: \" + str(np.round(np.real(estimated_expectation), decimals = 4)))\n",
    "\n",
    "    print(\"Difference between the true and shadow tomography expectation values: \" + str(np.abs(true_expectation - estimated_expectation)) + \"\\n\")\n",
    "\n",
    "print(\"Total copies of the state used: \" + str(shadow_size))"
   ]
  },
  {
   "cell_type": "markdown",
   "metadata": {},
   "source": [
    "#### With a Bell state"
   ]
  },
  {
   "cell_type": "code",
   "execution_count": 289,
   "metadata": {},
   "outputs": [
    {
     "data": {
      "image/png": "[encoded data removed]",
      "text/plain": [
       "<Figure size 287.294x200.667 with 1 Axes>"
      ]
     },
     "execution_count": 289,
     "metadata": {},
     "output_type": "execute_result"
    }
   ],
   "source": [
    "# Instantiate a quantum register with two qubits.\n",
    "bell_state_qr = QuantumRegister (2, 'q')\n",
    "\n",
    "# Create a quantum circuit with a hadamard gate acting on qubit 0\n",
    "# and a CNOT gate with control qubit 0 and target qubit 1. This will prepare a bell state.\n",
    "bell_state_qc = QuantumCircuit(bell_state_qr)\n",
    "bell_state_qc.h(0)\n",
    "bell_state_qc.cx(0, 1)\n",
    "\n",
    "# Draw the ciruit in mpl (matplotlib).\n",
    "bell_state_qc.draw(\"mpl\")"
   ]
  },
  {
   "cell_type": "code",
   "execution_count": 290,
   "metadata": {},
   "outputs": [
    {
     "name": "stdout",
     "output_type": "stream",
     "text": [
      "True expectation value for the II observable: 1.0\n",
      "Estimated expectation value for the II observable: 1.0\n",
      "Difference between the true and shadow tomography expectation values: 2.220446049250313e-16\n",
      "\n",
      "True expectation value for the IX observable: 0.0\n",
      "Estimated expectation value for the IX observable: -0.027\n",
      "Difference between the true and shadow tomography expectation values: 0.027\n",
      "\n",
      "True expectation value for the IY observable: 0.0\n",
      "Estimated expectation value for the IY observable: 0.045\n",
      "Difference between the true and shadow tomography expectation values: 0.045\n",
      "\n",
      "True expectation value for the IZ observable: 0.0\n",
      "Estimated expectation value for the IZ observable: -0.042\n",
      "Difference between the true and shadow tomography expectation values: 0.041999999999999996\n",
      "\n",
      "True expectation value for the XI observable: 0.0\n",
      "Estimated expectation value for the XI observable: -0.021\n",
      "Difference between the true and shadow tomography expectation values: 0.021\n",
      "\n",
      "True expectation value for the XX observable: 1.0\n",
      "Estimated expectation value for the XX observable: 1.107\n",
      "Difference between the true and shadow tomography expectation values: 0.10700000000000043\n",
      "\n",
      "True expectation value for the XY observable: 0.0\n",
      "Estimated expectation value for the XY observable: 0.09\n",
      "Difference between the true and shadow tomography expectation values: 0.09\n",
      "\n",
      "True expectation value for the XZ observable: 0.0\n",
      "Estimated expectation value for the XZ observable: -0.036\n",
      "Difference between the true and shadow tomography expectation values: 0.036\n",
      "\n",
      "True expectation value for the YI observable: 0.0\n",
      "Estimated expectation value for the YI observable: -0.006\n",
      "Difference between the true and shadow tomography expectation values: 0.006\n",
      "\n",
      "True expectation value for the YX observable: 0.0\n",
      "Estimated expectation value for the YX observable: -0.099\n",
      "Difference between the true and shadow tomography expectation values: 0.099\n",
      "\n",
      "True expectation value for the YY observable: -1.0\n",
      "Estimated expectation value for the YY observable: -0.99\n",
      "Difference between the true and shadow tomography expectation values: 0.009999999999999787\n",
      "\n",
      "True expectation value for the YZ observable: 0.0\n",
      "Estimated expectation value for the YZ observable: 0.0\n",
      "Difference between the true and shadow tomography expectation values: 0.0\n",
      "\n",
      "True expectation value for the ZI observable: 0.0\n",
      "Estimated expectation value for the ZI observable: 0.024\n",
      "Difference between the true and shadow tomography expectation values: 0.024\n",
      "\n",
      "True expectation value for the ZX observable: 0.0\n",
      "Estimated expectation value for the ZX observable: -0.072\n",
      "Difference between the true and shadow tomography expectation values: 0.072\n",
      "\n",
      "True expectation value for the ZY observable: 0.0\n",
      "Estimated expectation value for the ZY observable: 0.018\n",
      "Difference between the true and shadow tomography expectation values: 0.018000000000000002\n",
      "\n",
      "True expectation value for the ZZ observable: 1.0\n",
      "Estimated expectation value for the ZZ observable: 0.882\n",
      "Difference between the true and shadow tomography expectation values: 0.11799999999999977\n",
      "\n",
      "Total copies of the state used: 5000\n"
     ]
    }
   ],
   "source": [
    "I = np.matrix([[1,0],[0,1]]) # 2x2 Identity matrix\n",
    "X = np.matrix([[0,1],[1,0]]) # Pauli-X matrix\n",
    "Y = np.matrix([[0,-1j],[1j,0]]) # Pauli-Y matrix\n",
    "Z = np.matrix([[1,0],[0,-1]]) # Pauli-Z matrix\n",
    "\n",
    "observables = [I, X, Y, Z]\n",
    "\n",
    "rho_true = DensityMatrix.from_instruction(bell_state_qc)\n",
    "\n",
    "shadow_size = 5000\n",
    "shadow = generate_classical_shadow(bell_state_qc, shadow_size)\n",
    "\n",
    "for i in itertools.product(['I','X','Y','Z'], repeat = bell_state_qc.num_qubits):\n",
    "    observable_matrix = [1]\n",
    "    for observable in i:\n",
    "        match observable:\n",
    "            case 'I':\n",
    "                observable_matrix = np.kron(observable_matrix, I)\n",
    "            case 'X':\n",
    "                observable_matrix = np.kron(observable_matrix, X)\n",
    "            case 'Y':\n",
    "                observable_matrix = np.kron(observable_matrix, Y)\n",
    "            case 'Z':\n",
    "                observable_matrix = np.kron(observable_matrix, Z)\n",
    "    \n",
    "    true_expectation = np.trace(observable_matrix @ rho_true.data)\n",
    "    print(f\"True expectation value for the {''.join(i)} observable: \" + str(np.round(np.real(true_expectation), decimals = 4)))\n",
    "\n",
    "    estimated_expectation = estimate_pauli_observable(shadow, ''.join(i))\n",
    "    print(f\"Estimated expectation value for the {''.join(i)} observable: \" + str(np.round(np.real(estimated_expectation), decimals = 4)))\n",
    "\n",
    "    print(\"Difference between the true and shadow tomography expectation values: \" + str(np.abs(true_expectation - estimated_expectation)) + \"\\n\")\n",
    "\n",
    "print(\"Total copies of the state used: \" + str(shadow_size))"
   ]
  },
  {
   "cell_type": "markdown",
   "metadata": {},
   "source": [
    "#### With a GHZ state"
   ]
  },
  {
   "cell_type": "code",
   "execution_count": 291,
   "metadata": {},
   "outputs": [
    {
     "data": {
      "image/png": "[encoded data removed]",
      "text/plain": [
       "<Figure size 371.107x284.278 with 1 Axes>"
      ]
     },
     "execution_count": 291,
     "metadata": {},
     "output_type": "execute_result"
    }
   ],
   "source": [
    "# Instantiate a quantum register with three qubits.\n",
    "ghz_state_qr = QuantumRegister (3, 'q')\n",
    "\n",
    "# Create a quantum circuit with a hadamard gate acting on qubit 0,\n",
    "# a CNOT gate with control qubit 0 and target qubit 1,\n",
    "# and a CNOT gate with control qubit 1 and target qubit 2. This will prepare a GHZ state.\n",
    "ghz_state_qc = QuantumCircuit(ghz_state_qr)\n",
    "ghz_state_qc.h(0)\n",
    "ghz_state_qc.cx(0, 1)\n",
    "ghz_state_qc.cx(1, 2)\n",
    "\n",
    "# Draw the ciruit in mpl (matplotlib).\n",
    "ghz_state_qc.draw(\"mpl\")"
   ]
  },
  {
   "cell_type": "code",
   "execution_count": 292,
   "metadata": {},
   "outputs": [
    {
     "name": "stdout",
     "output_type": "stream",
     "text": [
      "True expectation value for the III observable: 1.0\n",
      "Estimated expectation value for the III observable: 1.0\n",
      "Difference between the true and shadow tomography expectation values: 2.220446049250313e-16\n",
      "\n",
      "True expectation value for the IIX observable: 0.0\n",
      "Estimated expectation value for the IIX observable: -0.027\n",
      "Difference between the true and shadow tomography expectation values: 0.027\n",
      "\n",
      "True expectation value for the IIY observable: 0.0\n",
      "Estimated expectation value for the IIY observable: -0.024\n",
      "Difference between the true and shadow tomography expectation values: 0.024\n",
      "\n",
      "True expectation value for the IIZ observable: 0.0\n",
      "Estimated expectation value for the IIZ observable: -0.021\n",
      "Difference between the true and shadow tomography expectation values: 0.020999999999999998\n",
      "\n",
      "True expectation value for the IXI observable: 0.0\n",
      "Estimated expectation value for the IXI observable: 0.009\n",
      "Difference between the true and shadow tomography expectation values: 0.009000000000000001\n",
      "\n",
      "True expectation value for the IXX observable: 0.0\n",
      "Estimated expectation value for the IXX observable: -0.009\n",
      "Difference between the true and shadow tomography expectation values: 0.009\n",
      "\n",
      "True expectation value for the IXY observable: 0.0\n",
      "Estimated expectation value for the IXY observable: -0.081\n",
      "Difference between the true and shadow tomography expectation values: 0.08099999999999999\n",
      "\n",
      "True expectation value for the IXZ observable: 0.0\n",
      "Estimated expectation value for the IXZ observable: -0.018\n",
      "Difference between the true and shadow tomography expectation values: 0.018\n",
      "\n",
      "True expectation value for the IYI observable: 0.0\n",
      "Estimated expectation value for the IYI observable: 0.0\n",
      "Difference between the true and shadow tomography expectation values: 0.0\n",
      "\n",
      "True expectation value for the IYX observable: 0.0\n",
      "Estimated expectation value for the IYX observable: -0.009\n",
      "Difference between the true and shadow tomography expectation values: 0.009\n",
      "\n",
      "True expectation value for the IYY observable: 0.0\n",
      "Estimated expectation value for the IYY observable: 0.054\n",
      "Difference between the true and shadow tomography expectation values: 0.054\n",
      "\n",
      "True expectation value for the IYZ observable: 0.0\n",
      "Estimated expectation value for the IYZ observable: 0.09\n",
      "Difference between the true and shadow tomography expectation values: 0.09\n",
      "\n",
      "True expectation value for the IZI observable: 0.0\n",
      "Estimated expectation value for the IZI observable: 0.03\n",
      "Difference between the true and shadow tomography expectation values: 0.03\n",
      "\n",
      "True expectation value for the IZX observable: 0.0\n",
      "Estimated expectation value for the IZX observable: 0.072\n",
      "Difference between the true and shadow tomography expectation values: 0.072\n",
      "\n",
      "True expectation value for the IZY observable: 0.0\n",
      "Estimated expectation value for the IZY observable: 0.027\n",
      "Difference between the true and shadow tomography expectation values: 0.026999999999999996\n",
      "\n",
      "True expectation value for the IZZ observable: 1.0\n",
      "Estimated expectation value for the IZZ observable: 0.909\n",
      "Difference between the true and shadow tomography expectation values: 0.09099999999999975\n",
      "\n",
      "True expectation value for the XII observable: 0.0\n",
      "Estimated expectation value for the XII observable: 0.0\n",
      "Difference between the true and shadow tomography expectation values: 0.0\n",
      "\n",
      "True expectation value for the XIX observable: 0.0\n",
      "Estimated expectation value for the XIX observable: 0.027\n",
      "Difference between the true and shadow tomography expectation values: 0.027\n",
      "\n",
      "True expectation value for the XIY observable: 0.0\n",
      "Estimated expectation value for the XIY observable: 0.009\n",
      "Difference between the true and shadow tomography expectation values: 0.009\n",
      "\n",
      "True expectation value for the XIZ observable: 0.0\n",
      "Estimated expectation value for the XIZ observable: -0.009\n",
      "Difference between the true and shadow tomography expectation values: 0.009\n",
      "\n",
      "True expectation value for the XXI observable: 0.0\n",
      "Estimated expectation value for the XXI observable: -0.09\n",
      "Difference between the true and shadow tomography expectation values: 0.09\n",
      "\n",
      "True expectation value for the XXX observable: 1.0\n",
      "Estimated expectation value for the XXX observable: 1.026\n",
      "Difference between the true and shadow tomography expectation values: 0.026000000000000245\n",
      "\n",
      "True expectation value for the XXY observable: 0.0\n",
      "Estimated expectation value for the XXY observable: 0.027\n",
      "Difference between the true and shadow tomography expectation values: 0.027\n",
      "\n",
      "True expectation value for the XXZ observable: 0.0\n",
      "Estimated expectation value for the XXZ observable: 0.0\n",
      "Difference between the true and shadow tomography expectation values: 0.0\n",
      "\n",
      "True expectation value for the XYI observable: 0.0\n",
      "Estimated expectation value for the XYI observable: -0.009\n",
      "Difference between the true and shadow tomography expectation values: 0.009\n",
      "\n",
      "True expectation value for the XYX observable: 0.0\n",
      "Estimated expectation value for the XYX observable: -0.027\n",
      "Difference between the true and shadow tomography expectation values: 0.027\n",
      "\n",
      "True expectation value for the XYY observable: -1.0\n",
      "Estimated expectation value for the XYY observable: -1.053\n",
      "Difference between the true and shadow tomography expectation values: 0.05300000000000016\n",
      "\n",
      "True expectation value for the XYZ observable: 0.0\n",
      "Estimated expectation value for the XYZ observable: -0.081\n",
      "Difference between the true and shadow tomography expectation values: 0.081\n",
      "\n",
      "True expectation value for the XZI observable: 0.0\n",
      "Estimated expectation value for the XZI observable: 0.009\n",
      "Difference between the true and shadow tomography expectation values: 0.009\n",
      "\n",
      "True expectation value for the XZX observable: 0.0\n",
      "Estimated expectation value for the XZX observable: 0.0\n",
      "Difference between the true and shadow tomography expectation values: 0.0\n",
      "\n",
      "True expectation value for the XZY observable: 0.0\n",
      "Estimated expectation value for the XZY observable: -0.081\n",
      "Difference between the true and shadow tomography expectation values: 0.081\n",
      "\n",
      "True expectation value for the XZZ observable: 0.0\n",
      "Estimated expectation value for the XZZ observable: -0.135\n",
      "Difference between the true and shadow tomography expectation values: 0.135\n",
      "\n",
      "True expectation value for the YII observable: 0.0\n",
      "Estimated expectation value for the YII observable: 0.036\n",
      "Difference between the true and shadow tomography expectation values: 0.036\n",
      "\n",
      "True expectation value for the YIX observable: 0.0\n",
      "Estimated expectation value for the YIX observable: 0.009\n",
      "Difference between the true and shadow tomography expectation values: 0.009\n",
      "\n",
      "True expectation value for the YIY observable: 0.0\n",
      "Estimated expectation value for the YIY observable: -0.09\n",
      "Difference between the true and shadow tomography expectation values: 0.09\n",
      "\n",
      "True expectation value for the YIZ observable: 0.0\n",
      "Estimated expectation value for the YIZ observable: -0.054\n",
      "Difference between the true and shadow tomography expectation values: 0.054\n",
      "\n",
      "True expectation value for the YXI observable: 0.0\n",
      "Estimated expectation value for the YXI observable: 0.081\n",
      "Difference between the true and shadow tomography expectation values: 0.081\n",
      "\n",
      "True expectation value for the YXX observable: 0.0\n",
      "Estimated expectation value for the YXX observable: 0.027\n",
      "Difference between the true and shadow tomography expectation values: 0.027\n",
      "\n",
      "True expectation value for the YXY observable: -1.0\n",
      "Estimated expectation value for the YXY observable: -1.08\n",
      "Difference between the true and shadow tomography expectation values: 0.0800000000000003\n",
      "\n",
      "True expectation value for the YXZ observable: 0.0\n",
      "Estimated expectation value for the YXZ observable: -0.027\n",
      "Difference between the true and shadow tomography expectation values: 0.027\n",
      "\n",
      "True expectation value for the YYI observable: 0.0\n",
      "Estimated expectation value for the YYI observable: 0.081\n",
      "Difference between the true and shadow tomography expectation values: 0.08099999999999999\n",
      "\n",
      "True expectation value for the YYX observable: -1.0\n",
      "Estimated expectation value for the YYX observable: -1.242\n",
      "Difference between the true and shadow tomography expectation values: 0.24200000000000021\n",
      "\n",
      "True expectation value for the YYY observable: 0.0\n",
      "Estimated expectation value for the YYY observable: 0.054\n",
      "Difference between the true and shadow tomography expectation values: 0.054\n",
      "\n",
      "True expectation value for the YYZ observable: 0.0\n",
      "Estimated expectation value for the YYZ observable: 0.081\n",
      "Difference between the true and shadow tomography expectation values: 0.081\n",
      "\n",
      "True expectation value for the YZI observable: 0.0\n",
      "Estimated expectation value for the YZI observable: 0.018\n",
      "Difference between the true and shadow tomography expectation values: 0.018\n",
      "\n",
      "True expectation value for the YZX observable: 0.0\n",
      "Estimated expectation value for the YZX observable: 0.0\n",
      "Difference between the true and shadow tomography expectation values: 0.0\n",
      "\n",
      "True expectation value for the YZY observable: 0.0\n",
      "Estimated expectation value for the YZY observable: 0.0\n",
      "Difference between the true and shadow tomography expectation values: 0.0\n",
      "\n",
      "True expectation value for the YZZ observable: 0.0\n",
      "Estimated expectation value for the YZZ observable: 0.027\n",
      "Difference between the true and shadow tomography expectation values: 0.027\n",
      "\n",
      "True expectation value for the ZII observable: 0.0\n",
      "Estimated expectation value for the ZII observable: 0.006\n",
      "Difference between the true and shadow tomography expectation values: 0.006\n",
      "\n",
      "True expectation value for the ZIX observable: 0.0\n",
      "Estimated expectation value for the ZIX observable: 0.0\n",
      "Difference between the true and shadow tomography expectation values: 0.0\n",
      "\n",
      "True expectation value for the ZIY observable: 0.0\n",
      "Estimated expectation value for the ZIY observable: 0.0\n",
      "Difference between the true and shadow tomography expectation values: 0.0\n",
      "\n",
      "True expectation value for the ZIZ observable: 1.0\n",
      "Estimated expectation value for the ZIZ observable: 0.909\n",
      "Difference between the true and shadow tomography expectation values: 0.09099999999999975\n",
      "\n",
      "True expectation value for the ZXI observable: 0.0\n",
      "Estimated expectation value for the ZXI observable: 0.063\n",
      "Difference between the true and shadow tomography expectation values: 0.063\n",
      "\n",
      "True expectation value for the ZXX observable: 0.0\n",
      "Estimated expectation value for the ZXX observable: -0.027\n",
      "Difference between the true and shadow tomography expectation values: 0.027\n",
      "\n",
      "True expectation value for the ZXY observable: 0.0\n",
      "Estimated expectation value for the ZXY observable: -0.027\n",
      "Difference between the true and shadow tomography expectation values: 0.027\n",
      "\n",
      "True expectation value for the ZXZ observable: 0.0\n",
      "Estimated expectation value for the ZXZ observable: 0.0\n",
      "Difference between the true and shadow tomography expectation values: 0.0\n",
      "\n",
      "True expectation value for the ZYI observable: 0.0\n",
      "Estimated expectation value for the ZYI observable: 0.018\n",
      "Difference between the true and shadow tomography expectation values: 0.018\n",
      "\n",
      "True expectation value for the ZYX observable: 0.0\n",
      "Estimated expectation value for the ZYX observable: -0.081\n",
      "Difference between the true and shadow tomography expectation values: 0.081\n",
      "\n",
      "True expectation value for the ZYY observable: 0.0\n",
      "Estimated expectation value for the ZYY observable: -0.054\n",
      "Difference between the true and shadow tomography expectation values: 0.054\n",
      "\n",
      "True expectation value for the ZYZ observable: 0.0\n",
      "Estimated expectation value for the ZYZ observable: -0.108\n",
      "Difference between the true and shadow tomography expectation values: 0.108\n",
      "\n",
      "True expectation value for the ZZI observable: 1.0\n",
      "Estimated expectation value for the ZZI observable: 0.999\n",
      "Difference between the true and shadow tomography expectation values: 0.0009999999999997788\n",
      "\n",
      "True expectation value for the ZZX observable: 0.0\n",
      "Estimated expectation value for the ZZX observable: -0.027\n",
      "Difference between the true and shadow tomography expectation values: 0.027\n",
      "\n",
      "True expectation value for the ZZY observable: 0.0\n",
      "Estimated expectation value for the ZZY observable: -0.027\n",
      "Difference between the true and shadow tomography expectation values: 0.027\n",
      "\n",
      "True expectation value for the ZZZ observable: 0.0\n",
      "Estimated expectation value for the ZZZ observable: 0.054\n",
      "Difference between the true and shadow tomography expectation values: 0.054\n",
      "\n",
      "Total copies of the state used: 5000\n"
     ]
    }
   ],
   "source": [
    "I = np.matrix([[1,0],[0,1]]) # 2x2 Identity matrix\n",
    "X = np.matrix([[0,1],[1,0]]) # Pauli-X matrix\n",
    "Y = np.matrix([[0,-1j],[1j,0]]) # Pauli-Y matrix\n",
    "Z = np.matrix([[1,0],[0,-1]]) # Pauli-Z matrix\n",
    "\n",
    "observables = [I, X, Y, Z]\n",
    "\n",
    "rho_true = DensityMatrix.from_instruction(ghz_state_qc)\n",
    "\n",
    "shadow_size = 5000\n",
    "shadow = generate_classical_shadow(ghz_state_qc, shadow_size)\n",
    "\n",
    "for i in itertools.product(['I','X','Y','Z'], repeat = ghz_state_qc.num_qubits):\n",
    "    observable_matrix = [1]\n",
    "    for observable in i:\n",
    "        match observable:\n",
    "            case 'I':\n",
    "                observable_matrix = np.kron(observable_matrix, I)\n",
    "            case 'X':\n",
    "                observable_matrix = np.kron(observable_matrix, X)\n",
    "            case 'Y':\n",
    "                observable_matrix = np.kron(observable_matrix, Y)\n",
    "            case 'Z':\n",
    "                observable_matrix = np.kron(observable_matrix, Z)\n",
    "    \n",
    "    true_expectation = np.trace(observable_matrix @ rho_true.data)\n",
    "    print(f\"True expectation value for the {''.join(i)} observable: \" + str(np.round(np.real(true_expectation), decimals = 4)))\n",
    "\n",
    "    estimated_expectation = estimate_pauli_observable(shadow, ''.join(i))\n",
    "    print(f\"Estimated expectation value for the {''.join(i)} observable: \" + str(np.round(np.real(estimated_expectation), decimals = 4)))\n",
    "\n",
    "    print(\"Difference between the true and shadow tomography expectation values: \" + str(np.abs(true_expectation - estimated_expectation)) + \"\\n\")\n",
    "\n",
    "print(\"Total copies of the state used: \" + str(shadow_size))"
   ]
  },
  {
   "cell_type": "markdown",
   "metadata": {},
   "source": [
    "***\n",
    "## Performance Comparison"
   ]
  },
  {
   "cell_type": "markdown",
   "metadata": {},
   "source": [
    "The reason shadow tomography is appealing is because it supposedly offers a performance increase over traditional complete state tomography. For the paradigm I chose (random local pauli measurements) the size of the classical shadow required to estimate $M$ observables each with locality $L_i$ scales with:\n",
    "$$ N_{tot} = \\mathcal{O} \\left( \\frac{\\log{(M)}}{\\epsilon^2} \\max_{1 \\leq i \\leq M} 4^{L_i} ||O_i||^2_\\infty \\right) $$\n",
    "Where $ ||O||_\\infty$ is the infinity norm and $\\epsilon$ is the largest additive error we wish to estimate our observables within. More details are given in [Predicting Many Properties of a Quantum System from Very Few Measurements](#references). It is important to indicate that to obtain this scaling the estimation is done by median of means. With $K$ estimators of size $N$:\n",
    "$$ K = 2 \\log{\\left(\\frac{2M}{\\delta}\\right)} \\quad \\text{and} \\quad N \\leq \\frac{34}{\\epsilon^2} \\max_{1 \\leq i \\leq M} 4^{L_i} ||O_i||^2_\\infty $$\n",
    "Where $\\delta$ is the probability of failure of the error bound.\n",
    "\n",
    ">Note: The above is all from [Predicting Many Properties of a Quantum System from Very Few Measurements](#references)."
   ]
  },
  {
   "cell_type": "markdown",
   "metadata": {},
   "source": [
    "#### Function for calculating the infinity matrix norm"
   ]
  },
  {
   "cell_type": "code",
   "execution_count": 293,
   "metadata": {},
   "outputs": [],
   "source": [
    "def mat_inf_norm(A):\n",
    "    \"\"\"\n",
    "    Calculate the infinity norm of a matrix.\n",
    "\n",
    "    Args:\n",
    "        A (np.array): The matrix to calculate the infinity norm of.\n",
    "\n",
    "    Returns:\n",
    "        float: The infinity norm of the matrix.\n",
    "    \"\"\"\n",
    "\n",
    "    return np.linalg.norm(A, ord = np.inf)"
   ]
  },
  {
   "cell_type": "markdown",
   "metadata": {},
   "source": [
    "#### Function for calculating the required shadow size"
   ]
  },
  {
   "cell_type": "code",
   "execution_count": 297,
   "metadata": {},
   "outputs": [],
   "source": [
    "def shadow_bound(error, observables, failure_rate = 0.01):\n",
    "    \"\"\"\n",
    "    Adapted from https://pennylane.ai/qml/demos/tutorial_classical_shadows/ and the original paper by Preskill.\n",
    "    \n",
    "    Given an error bound, a set of observables and a failure rate, this function calculates the number of copies of the state required to achieve the error bound with the given failure rate.\n",
    "\n",
    "    Args:\n",
    "        error (float): The error bound.\n",
    "        observables (list): A list of observables to estimate the expectation values of. Observables are given as strings representing the Pauli operators. For example, 'XX' represents the tensor product of two Pauli-X operators.\n",
    "        failure_rate (float): The failure rate. By default this is set to 0.01.\n",
    "\n",
    "    Returns:\n",
    "        int: The number of copies of the state required to achieve the error bound with the given failure rate.\n",
    "        int: The number of estimators used to estimate the expectation values to achieve the given failure rate.\n",
    "    \"\"\"\n",
    "\n",
    "    # The number of observables.\n",
    "    M = len(observables)\n",
    "\n",
    "    # The number of estimators.\n",
    "    K = 2*np.log(2*M/failure_rate)\n",
    "\n",
    "    # Find the observable that maximizes the right most term in the equation for the size of each estimator.\n",
    "    max_term = 0\n",
    "    for i in observables:\n",
    "\n",
    "        # Generate the matrix representation of the observable.\n",
    "        observable_matrix = [1]\n",
    "        for observable in i:\n",
    "            match observable:\n",
    "                case 'I':\n",
    "                    observable_matrix = np.kron(observable_matrix, I)\n",
    "                case 'X':\n",
    "                    observable_matrix = np.kron(observable_matrix, X)\n",
    "                case 'Y':\n",
    "                    observable_matrix = np.kron(observable_matrix, Y)\n",
    "                case 'Z':\n",
    "                    observable_matrix = np.kron(observable_matrix, Z)\n",
    "\n",
    "        # Number of qubits the observable acts on non-trivially.           \n",
    "        locality = len(i.replace('I', ''))\n",
    "\n",
    "        # Calculate the right most term in the equation for the size of each estimator.\n",
    "        temp = 4**locality * mat_inf_norm(observable_matrix)**2\n",
    "\n",
    "        # Update the maximum term.\n",
    "        if temp > max_term:\n",
    "            max_term = temp\n",
    "\n",
    "    # Calculate the size of each estimator.\n",
    "    N = (34/error**2) * max_term\n",
    "\n",
    "    return int(np.ceil(K * N)), int(K)"
   ]
  },
  {
   "cell_type": "code",
   "execution_count": 299,
   "metadata": {},
   "outputs": [
    {
     "name": "stdout",
     "output_type": "stream",
     "text": [
      "69598595\n",
      "12\n"
     ]
    }
   ],
   "source": [
    "shadow_size, k = shadow_bound(0.01, ['XX', 'YY', 'ZZ'])\n",
    "\n",
    "print(shadow_size)\n",
    "print(k)"
   ]
  },
  {
   "cell_type": "markdown",
   "metadata": {},
   "source": [
    "### The Single Qubit Case"
   ]
  },
  {
   "cell_type": "markdown",
   "metadata": {},
   "source": [
    "### The Two Qubit Case"
   ]
  },
  {
   "cell_type": "markdown",
   "metadata": {},
   "source": [
    "#### With a Bell state"
   ]
  },
  {
   "cell_type": "code",
   "execution_count": null,
   "metadata": {},
   "outputs": [
    {
     "data": {
      "image/png": "[encoded data removed]",
      "text/plain": [
       "<Figure size 287.294x200.667 with 1 Axes>"
      ]
     },
     "metadata": {},
     "output_type": "display_data"
    }
   ],
   "source": [
    "# Instantiate a quantum register with two qubits.\n",
    "bell_state_qr = QuantumRegister (2, 'q')\n",
    "\n",
    "# Create a quantum circuit with a hadamard gate acting on qubit 0\n",
    "# and a CNOT gate with control qubit 0 and target qubit 1. This will prepare a bell state.\n",
    "bell_state_qc = QuantumCircuit(bell_state_qr)\n",
    "bell_state_qc.h(0)\n",
    "bell_state_qc.cx(0, 1)\n",
    "\n",
    "# Draw the ciruit in mpl (matplotlib).\n",
    "bell_state_qc.draw(\"mpl\")"
   ]
  },
  {
   "cell_type": "code",
   "execution_count": 313,
   "metadata": {},
   "outputs": [
    {
     "name": "stdout",
     "output_type": "stream",
     "text": [
      "True expectation value for the XX observable: 1.0\n",
      "Estimated expectation value for the XX observable: 1.053\n",
      "Difference between the true and shadow tomography expectation values: 0.05300000000000016\n",
      "\n",
      "True expectation value for the XY observable: 0.0\n",
      "Estimated expectation value for the XY observable: 0.0\n",
      "Difference between the true and shadow tomography expectation values: 0.0\n",
      "\n",
      "True expectation value for the XZ observable: 0.0\n",
      "Estimated expectation value for the XZ observable: 0.027\n",
      "Difference between the true and shadow tomography expectation values: 0.026999999999999996\n",
      "\n",
      "True expectation value for the YX observable: 0.0\n",
      "Estimated expectation value for the YX observable: -0.081\n",
      "Difference between the true and shadow tomography expectation values: 0.08099999999999999\n",
      "\n",
      "True expectation value for the YY observable: -1.0\n",
      "Estimated expectation value for the YY observable: -0.981\n",
      "Difference between the true and shadow tomography expectation values: 0.018999999999999795\n",
      "\n",
      "True expectation value for the YZ observable: 0.0\n",
      "Estimated expectation value for the YZ observable: -0.081\n",
      "Difference between the true and shadow tomography expectation values: 0.08099999999999999\n",
      "\n",
      "True expectation value for the ZX observable: 0.0\n",
      "Estimated expectation value for the ZX observable: 0.063\n",
      "Difference between the true and shadow tomography expectation values: 0.063\n",
      "\n",
      "True expectation value for the ZY observable: 0.0\n",
      "Estimated expectation value for the ZY observable: -0.018\n",
      "Difference between the true and shadow tomography expectation values: 0.018\n",
      "\n",
      "True expectation value for the ZZ observable: 1.0\n",
      "Estimated expectation value for the ZZ observable: 0.918\n",
      "Difference between the true and shadow tomography expectation values: 0.08199999999999985\n",
      "\n",
      "Total copies of the state used: 5000\n"
     ]
    }
   ],
   "source": [
    "# Single qubit Pauli observables.\n",
    "I = np.matrix([[1,0],[0,1]]) # 2x2 Identity matrix\n",
    "X = np.matrix([[0,1],[1,0]]) # Pauli-X matrix\n",
    "Y = np.matrix([[0,-1j],[1j,0]]) # Pauli-Y matrix\n",
    "Z = np.matrix([[1,0],[0,-1]]) # Pauli-Z matrix\n",
    "\n",
    "observables = [I, X, Y, Z]\n",
    "\n",
    "# Array of maximum errors.\n",
    "target_errors = np.arange(0.2, 0.01, -0.01)\n",
    "#errors = np.zeros(shape = )\n",
    "\n",
    "# Get the true density matrix of the state.\n",
    "rho_true = DensityMatrix.from_instruction(bell_state_qc)\n",
    "\n",
    "for error in target_errors:\n",
    "    # Generate the shadow.\n",
    "    shadow_size, estimator_count = shadow_bound(error, ['XX', 'YY', 'ZZ'])\n",
    "    shadow = generate_classical_shadow(bell_state_qc, shadow_size, estimator_count)\n",
    "\n",
    "    # Calculate the expectation values all possible observables (unless filtered) constructed from tensor products of pauli observables.\n",
    "    for i in itertools.product(['I','X','Y','Z'], repeat = bell_state_qc.num_qubits):\n",
    "\n",
    "        # Filter all the observables that are not two qubit observables.\n",
    "        if((bell_state_qc.num_qubits - ''.join(i).count('I')) != 2):\n",
    "            continue\n",
    "        \n",
    "        # Construct the matrix representation of the observable.\n",
    "        observable_matrix = [1]\n",
    "        for observable in i:\n",
    "            match observable:\n",
    "                case 'I':\n",
    "                    observable_matrix = np.kron(observable_matrix, I)\n",
    "                case 'X':\n",
    "                    observable_matrix = np.kron(observable_matrix, X)\n",
    "                case 'Y':\n",
    "                    observable_matrix = np.kron(observable_matrix, Y)\n",
    "                case 'Z':\n",
    "                    observable_matrix = np.kron(observable_matrix, Z)\n",
    "        \n",
    "        # Calculate the true expectation value of the observable.\n",
    "        true_expectation = np.trace(observable_matrix @ rho_true.data)\n",
    "        print(f\"True expectation value for the {''.join(i)} observable: \" + str(np.round(np.real(true_expectation), decimals = 4)))\n",
    "\n",
    "        # Estimate the expectation value of the observable.\n",
    "        estimated_expectation = estimate_pauli_observable(shadow, ''.join(i))\n",
    "        print(f\"Estimated expectation value for the {''.join(i)} observable: \" + str(np.round(np.real(estimated_expectation), decimals = 4)))\n",
    "\n",
    "        # Print the difference between the true and estimated expectation values.\n",
    "        print(\"Difference between the true and shadow tomography expectation values: \" + str(np.abs(true_expectation - estimated_expectation)) + \"\\n\")\n",
    "        \n",
    "\n",
    "print(\"Total copies of the state used: \" + str(shadow_size))"
   ]
  },
  {
   "cell_type": "code",
   "execution_count": 312,
   "metadata": {},
   "outputs": [
    {
     "data": {
      "image/png": "[encoded data removed]",
      "text/plain": [
       "<Figure size 640x480 with 1 Axes>"
      ]
     },
     "metadata": {},
     "output_type": "display_data"
    }
   ],
   "source": [
    "Ns = []\n",
    "Ks = []\n",
    "for i in target_errors:\n",
    "    N, K = shadow_bound(i, ['XX', 'YY', 'ZZ'])\n",
    "    Ns.append(N)\n",
    "    Ks.append(K)\n",
    "\n",
    "plt.plot(Ns, target_errors)\n",
    "plt.show()"
   ]
  },
  {
   "cell_type": "markdown",
   "metadata": {},
   "source": [
    "### The Three Qubit Case"
   ]
  },
  {
   "cell_type": "markdown",
   "metadata": {},
   "source": [
    "## References\n",
    "1. [Predicting Many Properties of a Quantum System from Very Few Measurements](https://arxiv.org/pdf/2002.08953)\n",
    "2. [Shadow Tomography of Quantum States](https://www.scottaaronson.com/papers/batch.pdf)\n",
    "3. [Quantum State Tomography](https://research.physics.illinois.edu/QI/Photonics/tomography-files/tomo_chapter_2004.pdf)\n",
    "4. [PennyLane Classical Shadows Demo](https://pennylane.ai/qml/demos/tutorial_classical_shadows/#huang2020)\n",
    "5. [Qiskit API Reference](https://docs.quantum.ibm.com/api/qiskit)"
   ]
  }
 ],
 "metadata": {
  "kernelspec": {
   "display_name": "Python 3",
   "language": "python",
   "name": "python3"
  },
  "language_info": {
   "codemirror_mode": {
    "name": "ipython",
    "version": 3
   },
   "file_extension": ".py",
   "mimetype": "text/x-python",
   "name": "python",
   "nbconvert_exporter": "python",
   "pygments_lexer": "ipython3",
   "version": "3.12.3"
  }
 },
 "nbformat": 4,
 "nbformat_minor": 2
}
