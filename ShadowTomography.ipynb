{
 "cells": [
  {
   "cell_type": "markdown",
   "metadata": {},
   "source": [
    "# A Comparision Between Complete State Tomography and Shadow Tomography"
   ]
  },
  {
   "cell_type": "markdown",
   "metadata": {},
   "source": [
    "## Complete State Tomography"
   ]
  },
  {
   "cell_type": "markdown",
   "metadata": {},
   "source": [
    "### Overview"
   ]
  },
  {
   "cell_type": "markdown",
   "metadata": {},
   "source": [
    "The aim of complete state tomography is to reconstruct a target quantum state through a series of projective measurements. *Mention Born's rule, destruction of a state due to measurement, and the curse of dimensionality.*"
   ]
  },
  {
   "cell_type": "markdown",
   "metadata": {},
   "source": [
    "### Theory"
   ]
  },
  {
   "cell_type": "markdown",
   "metadata": {},
   "source": [
    "For single-qubit states the general expression for their density matrices can be written uniquely as:\n",
    "$$\\hat{\\rho} = \\frac{1}{2} \\sum_{i=0}^{3} S_i \\hat{\\sigma}_i. \\tag{1}$$\n",
    "Where $\\hat{\\sigma}_i$ are the Pauli matrices (Including the 2x2 identity matrix as $\\hat{\\sigma}_0$) and $S_i$ are the values given by:\n",
    "$$S_i = Tr\\{\\hat{\\sigma}_i\\hat{\\rho}\\}. \\tag{2}$$\n",
    "It is also useful to note that, \n",
    "1. For all pure states: $\\sum_{i=1}^{3} S_i^2 = 1$.\n",
    "2. For mixed states: $\\sum_{i=1}^{3} S_i^2 < 1$.\n",
    "3. For the completely mixed state:  $\\sum_{i=1}^{3} S_i^2 = 0$.\n",
    "4. Due to the normalization condition for quantum states it is always the case that: $S_0^2 = 1$.\n",
    "\n",
    "The above contents are from pages 4 and 5 of [Quantum State Tomography](#references). Proofs of (1) and (2) to be added in the future."
   ]
  },
  {
   "cell_type": "markdown",
   "metadata": {},
   "source": [
    "For a quantum state represented by density matrix $\\hat{\\rho}$ the expectation value for an observable $\\hat{\\Omega}$ is given by:\n",
    "$$\\langle \\hat{\\Omega} \\rangle = \\sum_{i} p_i \\bra{i} \\hat{\\Omega} \\ket{i} = Tr \\{ \\hat{\\Omega} \\hat{\\rho} \\}. \\tag{3}$$\n",
    "Thus, using (1) and (3), we can represent the density matrix for a single-qubit state as:\n",
    "$$\\hat{\\rho} = \\frac{1}{2} \\sum_{i=0}^{3} \\langle \\hat{\\sigma}_i \\rangle \\hat{\\sigma}_i. \\tag{4}$$"
   ]
  },
  {
   "cell_type": "markdown",
   "metadata": {},
   "source": [
    "For multiple-qubit states the general expression for their density matrices can be written as:\n",
    "$$ \\hat{\\rho} = \\frac{1}{2^n} \\sum_{i_1,i_2,\\dots,i_n = 0}^{3} S_{i_1,i_2,\\dots,i_n} \\hat{\\sigma_{i_1}} \\otimes \\hat{\\sigma_{i_2}} \\otimes \\dots \\hat{\\sigma_{i_n}}. \\tag{5}$$\n",
    "Where $\\hat{\\sigma}_i$ are still the Pauli matrices (Including the 2x2 identity matrix as $\\hat{\\sigma}_0$) and $S_{i_1,i_2,\\dots,i_n}$ are the values given by:\n",
    "$$ S_{i_1,i_2,\\dots,i_n} = Tr\\{ \\hat{\\sigma}_{i_1,i_2,\\dots,i_n} \\hat{\\rho} \\} = Tr\\{ (\\hat{\\sigma_{i_1}} \\otimes \\hat{\\sigma_{i_2}} \\otimes \\dots \\hat{\\sigma_{i_n}}) \\hat{\\rho} \\} \\tag{6}$$\n",
    "\n",
    "The above contents are from page 11 of [Quantum State Tomography](#references)."
   ]
  },
  {
   "cell_type": "markdown",
   "metadata": {},
   "source": [
    "> Note: Above we only considered the orthogonal measurement bases of the pauli matrices. We are not constrained to orthogonal measurement bases and can instead use any set of linearly independent projective measurements (see pages 5 and 6 of [Quantum State Tomography](#references) for the single-qubit case and pages 11 and 12 of [Quantum State Tomography](#references) for the multiple-qubit case.)."
   ]
  },
  {
   "cell_type": "markdown",
   "metadata": {},
   "source": [
    "### The \"Algorithm\""
   ]
  },
  {
   "cell_type": "markdown",
   "metadata": {},
   "source": [
    "#### Importing necessary libraries"
   ]
  },
  {
   "cell_type": "code",
   "execution_count": 3,
   "metadata": {},
   "outputs": [],
   "source": [
    "import numpy as np\n",
    "import itertools\n",
    "\n",
    "from qiskit import QuantumCircuit, ClassicalRegister, QuantumRegister\n",
    "from qiskit.circuit import Clbit\n",
    "from qiskit.circuit.library import *\n",
    "from qiskit.primitives import StatevectorSampler, Estimator\n",
    "from qiskit.quantum_info import DensityMatrix"
   ]
  },
  {
   "cell_type": "markdown",
   "metadata": {},
   "source": [
    "#### Function for generating an approximation of the $\\rho$ prepared by the input circuit using complete state tomography as describe in [Quantum State Tomography](#references) (Work in Progress)"
   ]
  },
  {
   "cell_type": "code",
   "execution_count": 46,
   "metadata": {},
   "outputs": [],
   "source": [
    "def complete_state_tomography(circuit, samples, num_qubits):\n",
    "    \"\"\"\n",
    "    Perform complete state tomography on a state prepared by a quantum circuit.\n",
    "\n",
    "    Args:\n",
    "        circuit (QuantumCircuit): The quantum circuit that prepares the state.\n",
    "        samples (int): The number of samples to use in the tomography.\n",
    "        num_qubits (int): The number of qubits in the circuit.\n",
    "\n",
    "    Returns:\n",
    "        np.ndarray: The density matrix of the state.\n",
    "    \"\"\"\n",
    "\n",
    "    # The Pauli matrices.\n",
    "    I = [[1,0],[0,1]]\n",
    "    X = [[0,1],[1,0]]\n",
    "    Y = [[0,-1j],[1j,0]]\n",
    "    Z = [[1,0],[0,-1]]\n",
    "\n",
    "    # Create a matrix to store the density matrix.\n",
    "    rho = np.zeros((2**num_qubits, 2**num_qubits), dtype=complex)\n",
    "\n",
    "    # Generate the measurement scheme using the cartesian product.\n",
    "    measurement_scheme = itertools.product(['I','X','Y','Z'], repeat=num_qubits)\n",
    "\n",
    "    measurements = []\n",
    "    # Store the values of the interator in an array.\n",
    "    for m in measurement_scheme:\n",
    "        measurements.append(m)\n",
    "\n",
    "    # An array to store the measurement results.\n",
    "    results = np.zeros(4**num_qubits)\n",
    "\n",
    "    # Create a sampler to simulate the quantum circuit on a single shot.\n",
    "    estimator = Estimator(options = ({'shots':samples}))\n",
    "\n",
    "    # Perform the measurements.\n",
    "    for n, measurement in enumerate(measurements):\n",
    "        \n",
    "        # Run the sampler on the quantum circuit and store the result.\n",
    "        results[n] = estimator.run(circuits = [circuit], observables = [''.join(measurement)]).result().values[0]\n",
    "        \n",
    "        # Calculate the density matrix.\n",
    "        for i, measurement in enumerate(measurements):\n",
    "\n",
    "            o = [1]\n",
    "            for j in measurement:\n",
    "                match j:\n",
    "                    case 'I':\n",
    "                        o = np.kron(o, I)\n",
    "                    case 'X':\n",
    "                        o = np.kron(o, X)\n",
    "                    case 'Y':\n",
    "                        o = np.kron(o, Y)\n",
    "                    case 'Z':\n",
    "                        o = np.kron(o, Z)\n",
    "            rho += results[i] * o\n",
    "\n",
    "    return rho/2**num_qubits"
   ]
  },
  {
   "cell_type": "markdown",
   "metadata": {},
   "source": [
    "### Examples"
   ]
  },
  {
   "cell_type": "markdown",
   "metadata": {},
   "source": [
    "#### With a Bell state"
   ]
  },
  {
   "cell_type": "code",
   "execution_count": 37,
   "metadata": {},
   "outputs": [
    {
     "data": {
      "image/png": "[encoded data removed]",
      "text/plain": [
       "<Figure size 287.294x200.667 with 1 Axes>"
      ]
     },
     "execution_count": 37,
     "metadata": {},
     "output_type": "execute_result"
    }
   ],
   "source": [
    "num_qubits = 2\n",
    "bell_state = [1/np.sqrt(2), 0, 0, 1/np.sqrt(2)]\n",
    "\n",
    "# Instantiate a quantum register with two qubits.\n",
    "bell_state_qr = QuantumRegister (num_qubits, 'q')\n",
    "\n",
    "# Create a quantum circuit with a hadamard gate acting on qubit 0\n",
    "# and a CNOT gate with control qubit 0 and target qubit 1. This will prepare a bell state.\n",
    "bell_state_qc = QuantumCircuit(bell_state_qr)\n",
    "bell_state_qc.h(0)\n",
    "bell_state_qc.cx(0, 1)\n",
    "\n",
    "# Draw the ciruit in mpl (matplotlib).\n",
    "bell_state_qc.draw(\"mpl\")"
   ]
  },
  {
   "cell_type": "code",
   "execution_count": 47,
   "metadata": {},
   "outputs": [
    {
     "name": "stdout",
     "output_type": "stream",
     "text": [
      "DensityMatrix([[0.5+0.j, 0. +0.j, 0. +0.j, 0.5+0.j],\n",
      "               [0. +0.j, 0. +0.j, 0. +0.j, 0. +0.j],\n",
      "               [0. +0.j, 0. +0.j, 0. +0.j, 0. +0.j],\n",
      "               [0.5+0.j, 0. +0.j, 0. +0.j, 0.5+0.j]],\n",
      "              dims=(2, 2))\n",
      "[('I', 'I'), ('I', 'X'), ('I', 'Y'), ('I', 'Z'), ('X', 'I'), ('X', 'X'), ('X', 'Y'), ('X', 'Z'), ('Y', 'I'), ('Y', 'X'), ('Y', 'Y'), ('Y', 'Z'), ('Z', 'I'), ('Z', 'X'), ('Z', 'Y'), ('Z', 'Z')]\n",
      "('I', 'I')\n",
      "('I', 'X')\n",
      "('I', 'Y')\n",
      "('I', 'Z')\n",
      "('X', 'I')\n",
      "('X', 'X')\n",
      "('X', 'Y')\n",
      "('X', 'Z')\n",
      "('Y', 'I')\n",
      "('Y', 'X')\n",
      "('Y', 'Y')\n",
      "('Y', 'Z')\n",
      "('Z', 'I')\n",
      "('Z', 'X')\n",
      "('Z', 'Y')\n",
      "('Z', 'Z')\n",
      "('I', 'I')\n",
      "('I', 'X')\n",
      "('I', 'Y')\n",
      "('I', 'Z')\n",
      "('X', 'I')\n",
      "('X', 'X')\n",
      "('X', 'Y')\n",
      "('X', 'Z')\n",
      "('Y', 'I')\n",
      "('Y', 'X')\n",
      "('Y', 'Y')\n",
      "('Y', 'Z')\n",
      "('Z', 'I')\n",
      "('Z', 'X')\n",
      "('Z', 'Y')\n",
      "('Z', 'Z')\n",
      "('I', 'I')\n",
      "('I', 'X')\n",
      "('I', 'Y')\n",
      "('I', 'Z')\n",
      "('X', 'I')\n",
      "('X', 'X')\n",
      "('X', 'Y')\n",
      "('X', 'Z')\n",
      "('Y', 'I')\n",
      "('Y', 'X')\n",
      "('Y', 'Y')\n",
      "('Y', 'Z')\n",
      "('Z', 'I')\n",
      "('Z', 'X')\n",
      "('Z', 'Y')\n",
      "('Z', 'Z')\n",
      "('I', 'I')\n",
      "('I', 'X')\n",
      "('I', 'Y')\n",
      "('I', 'Z')\n",
      "('X', 'I')\n",
      "('X', 'X')\n",
      "('X', 'Y')\n",
      "('X', 'Z')\n",
      "('Y', 'I')\n",
      "('Y', 'X')\n",
      "('Y', 'Y')\n",
      "('Y', 'Z')\n",
      "('Z', 'I')\n",
      "('Z', 'X')\n",
      "('Z', 'Y')\n",
      "('Z', 'Z')\n",
      "('I', 'I')\n",
      "('I', 'X')\n",
      "('I', 'Y')\n",
      "('I', 'Z')\n",
      "('X', 'I')\n",
      "('X', 'X')\n",
      "('X', 'Y')\n",
      "('X', 'Z')\n",
      "('Y', 'I')\n",
      "('Y', 'X')\n",
      "('Y', 'Y')\n",
      "('Y', 'Z')\n",
      "('Z', 'I')\n",
      "('Z', 'X')\n",
      "('Z', 'Y')\n",
      "('Z', 'Z')\n",
      "('I', 'I')\n",
      "('I', 'X')\n",
      "('I', 'Y')\n",
      "('I', 'Z')\n",
      "('X', 'I')\n",
      "('X', 'X')\n",
      "('X', 'Y')\n",
      "('X', 'Z')\n",
      "('Y', 'I')\n",
      "('Y', 'X')\n",
      "('Y', 'Y')\n",
      "('Y', 'Z')\n",
      "('Z', 'I')\n",
      "('Z', 'X')\n",
      "('Z', 'Y')\n",
      "('Z', 'Z')\n",
      "('I', 'I')\n",
      "('I', 'X')\n",
      "('I', 'Y')\n",
      "('I', 'Z')\n",
      "('X', 'I')\n",
      "('X', 'X')\n",
      "('X', 'Y')\n",
      "('X', 'Z')\n",
      "('Y', 'I')\n",
      "('Y', 'X')\n",
      "('Y', 'Y')\n",
      "('Y', 'Z')\n",
      "('Z', 'I')\n",
      "('Z', 'X')\n",
      "('Z', 'Y')\n",
      "('Z', 'Z')\n",
      "('I', 'I')\n",
      "('I', 'X')\n",
      "('I', 'Y')\n",
      "('I', 'Z')\n",
      "('X', 'I')\n",
      "('X', 'X')\n",
      "('X', 'Y')\n",
      "('X', 'Z')\n",
      "('Y', 'I')\n",
      "('Y', 'X')\n",
      "('Y', 'Y')\n",
      "('Y', 'Z')\n",
      "('Z', 'I')\n",
      "('Z', 'X')\n",
      "('Z', 'Y')\n",
      "('Z', 'Z')\n",
      "('I', 'I')\n",
      "('I', 'X')\n",
      "('I', 'Y')\n",
      "('I', 'Z')\n",
      "('X', 'I')\n",
      "('X', 'X')\n",
      "('X', 'Y')\n",
      "('X', 'Z')\n",
      "('Y', 'I')\n",
      "('Y', 'X')\n",
      "('Y', 'Y')\n",
      "('Y', 'Z')\n",
      "('Z', 'I')\n",
      "('Z', 'X')\n",
      "('Z', 'Y')\n",
      "('Z', 'Z')\n",
      "('I', 'I')\n",
      "('I', 'X')\n",
      "('I', 'Y')\n",
      "('I', 'Z')\n",
      "('X', 'I')\n",
      "('X', 'X')\n",
      "('X', 'Y')\n",
      "('X', 'Z')\n",
      "('Y', 'I')\n",
      "('Y', 'X')\n",
      "('Y', 'Y')\n",
      "('Y', 'Z')\n",
      "('Z', 'I')\n",
      "('Z', 'X')\n",
      "('Z', 'Y')\n",
      "('Z', 'Z')\n",
      "('I', 'I')\n",
      "('I', 'X')\n",
      "('I', 'Y')\n",
      "('I', 'Z')\n",
      "('X', 'I')\n",
      "('X', 'X')\n",
      "('X', 'Y')\n",
      "('X', 'Z')\n",
      "('Y', 'I')\n",
      "('Y', 'X')\n",
      "('Y', 'Y')\n",
      "('Y', 'Z')\n",
      "('Z', 'I')\n",
      "('Z', 'X')\n",
      "('Z', 'Y')\n",
      "('Z', 'Z')\n",
      "('I', 'I')\n",
      "('I', 'X')\n",
      "('I', 'Y')\n",
      "('I', 'Z')\n",
      "('X', 'I')\n",
      "('X', 'X')\n",
      "('X', 'Y')\n",
      "('X', 'Z')\n",
      "('Y', 'I')\n",
      "('Y', 'X')\n",
      "('Y', 'Y')\n",
      "('Y', 'Z')\n",
      "('Z', 'I')\n",
      "('Z', 'X')\n",
      "('Z', 'Y')\n",
      "('Z', 'Z')\n",
      "('I', 'I')\n",
      "('I', 'X')\n",
      "('I', 'Y')\n",
      "('I', 'Z')\n",
      "('X', 'I')\n",
      "('X', 'X')\n",
      "('X', 'Y')\n",
      "('X', 'Z')\n",
      "('Y', 'I')\n",
      "('Y', 'X')\n",
      "('Y', 'Y')\n",
      "('Y', 'Z')\n",
      "('Z', 'I')\n",
      "('Z', 'X')\n",
      "('Z', 'Y')\n",
      "('Z', 'Z')\n",
      "('I', 'I')\n",
      "('I', 'X')\n",
      "('I', 'Y')\n",
      "('I', 'Z')\n",
      "('X', 'I')\n",
      "('X', 'X')\n",
      "('X', 'Y')\n",
      "('X', 'Z')\n",
      "('Y', 'I')\n",
      "('Y', 'X')\n",
      "('Y', 'Y')\n",
      "('Y', 'Z')\n",
      "('Z', 'I')\n",
      "('Z', 'X')\n",
      "('Z', 'Y')\n",
      "('Z', 'Z')\n",
      "('I', 'I')\n",
      "('I', 'X')\n",
      "('I', 'Y')\n",
      "('I', 'Z')\n",
      "('X', 'I')\n",
      "('X', 'X')\n",
      "('X', 'Y')\n",
      "('X', 'Z')\n",
      "('Y', 'I')\n",
      "('Y', 'X')\n",
      "('Y', 'Y')\n",
      "('Y', 'Z')\n",
      "('Z', 'I')\n",
      "('Z', 'X')\n",
      "('Z', 'Y')\n",
      "('Z', 'Z')\n",
      "('I', 'I')\n",
      "('I', 'X')\n",
      "('I', 'Y')\n",
      "('I', 'Z')\n",
      "('X', 'I')\n",
      "('X', 'X')\n",
      "('X', 'Y')\n",
      "('X', 'Z')\n",
      "('Y', 'I')\n",
      "('Y', 'X')\n",
      "('Y', 'Y')\n",
      "('Y', 'Z')\n",
      "('Z', 'I')\n",
      "('Z', 'X')\n",
      "('Z', 'Y')\n",
      "('Z', 'Z')\n",
      "[[ 4.34+0.j    0.09+0.06j -0.03-0.03j  4.25-0.03j]\n",
      " [ 0.09-0.06j  3.69+0.j    1.25-0.03j  0.  -0.07j]\n",
      " [-0.03+0.03j  1.25+0.03j  3.81+0.j    0.09+0.07j]\n",
      " [ 4.25+0.03j  0.  +0.07j  0.09-0.07j  4.16+0.j  ]]\n"
     ]
    }
   ],
   "source": [
    "rho_true = DensityMatrix.from_instruction(bell_state_qc)\n",
    "print(rho_true)\n",
    "\n",
    "rho_tomo = complete_state_tomography(bell_state_qc, 1000, num_qubits)\n",
    "print(np.round(rho_tomo, 2))"
   ]
  },
  {
   "cell_type": "markdown",
   "metadata": {},
   "source": [
    "## Shadow Tomography"
   ]
  },
  {
   "cell_type": "markdown",
   "metadata": {},
   "source": [
    "### Overview"
   ]
  },
  {
   "cell_type": "markdown",
   "metadata": {},
   "source": [
    "### Theory"
   ]
  },
  {
   "cell_type": "markdown",
   "metadata": {},
   "source": [
    "## The Method of Classical Shadows"
   ]
  },
  {
   "cell_type": "markdown",
   "metadata": {},
   "source": [
    "### The \"Algorithm\""
   ]
  },
  {
   "cell_type": "markdown",
   "metadata": {},
   "source": [
    "#### Importing necessary libraries"
   ]
  },
  {
   "cell_type": "code",
   "execution_count": 5,
   "metadata": {},
   "outputs": [],
   "source": [
    "import numpy as np\n",
    "import itertools\n",
    "\n",
    "from qiskit import QuantumCircuit, ClassicalRegister, QuantumRegister\n",
    "from qiskit.circuit import Clbit\n",
    "from qiskit.circuit.library import *\n",
    "from qiskit.primitives import StatevectorSampler, Estimator\n",
    "from qiskit.quantum_info import DensityMatrix"
   ]
  },
  {
   "cell_type": "markdown",
   "metadata": {},
   "source": [
    "#### Function for generating the classical shadow"
   ]
  },
  {
   "cell_type": "code",
   "execution_count": 6,
   "metadata": {},
   "outputs": [],
   "source": [
    "def generate_classical_shadow(circuit, shadow_size, num_qubits):\n",
    "    \"\"\"\n",
    "    Adapted from https://pennylane.ai/qml/demos/tutorial_classical_shadows/\n",
    "    Given a quantum circuit, this function creates a collection of bitstrings generated by random single-qubit Pauli measurements and records the associated random pauli measurment.\n",
    "\n",
    "    Args:\n",
    "        circuit (QuantumCircuit): The quantum circuit which resulting state we wish to estimate.\n",
    "        shadow_size (int): The number of random Pauli measurements to be taken.\n",
    "        num_qubits (int): The number of qubits in the circuit.\n",
    "\n",
    "    Returns:\n",
    "        np.ndarray: A matrix of shape (shadow_size, num_qubits) where each row is a bitstring representing the result of a random Pauli measurement on the qubits.\n",
    "        np.ndarray: A matrix of shape (shadow_size, num_qubits) where each row is a sequence of integers representing the Pauli measurement scheme used to generate the corresponding bitstring in the first matrix.\n",
    "    \"\"\"\n",
    "\n",
    "    # Generate the measurment scheme. This is the random Pauli measurements that will be done on the qubits after each shot of the circuit.\n",
    "    measurement_scheme = np.random.randint(0, 3, size = (shadow_size, num_qubits))\n",
    "\n",
    "    # Create a matrix to store the results of the measurements.\n",
    "    measurements = np.zeros(shape = (shadow_size, num_qubits))\n",
    "\n",
    "    # Create a sampler to simulate the quantum circuit on a single shot.\n",
    "    sampler = StatevectorSampler(default_shots=1)\n",
    "\n",
    "    # \n",
    "    for i in range(shadow_size):\n",
    "\n",
    "        # Apply the measurement scheme to the qubits\n",
    "        qc = QuantumCircuit.copy(circuit)\n",
    "\n",
    "        for j in range(num_qubits):\n",
    "            if measurement_scheme[i][j] == 0:\n",
    "                qc.h(j)\n",
    "            elif measurement_scheme[i][j] == 1:\n",
    "                qc.h(j)\n",
    "                qc.sdg(j)\n",
    "            else:\n",
    "                continue\n",
    "\n",
    "        qc.measure_all()\n",
    "\n",
    "        # Run the sampler on the quantum circuit and store the result.\n",
    "        result = sampler.run([qc]).result()[0]\n",
    "\n",
    "        # Store the bitstrings representing the measured basis states. Because the sampler is configered to run the circuit once, there is only one result.\n",
    "        counts = result.data.meas.get_counts()   \n",
    "\n",
    "        # Get the single bitstring.\n",
    "        states = list(list(counts.keys())[0])\n",
    "        # The bit string is ordered with qubit n on the left and qubit 0 on the right. We want to reverse this order.\n",
    "        states.reverse()\n",
    "\n",
    "        # Store the results of the measurements.\n",
    "        for j in range(num_qubits):\n",
    "            measurements[i][j] = 0 if states[j] == '0' else 1\n",
    "\n",
    "    return measurements, measurement_scheme"
   ]
  },
  {
   "cell_type": "markdown",
   "metadata": {},
   "source": [
    "#### Function for reconstructing the states density matrix from the classical shadow\n",
    "\n",
    "This is not the intended use of the classical shadow protocol and is additionally not the goal of shadow tomography. However, it serves as a useful test of the functionality of the generation of classical shadows."
   ]
  },
  {
   "cell_type": "code",
   "execution_count": 7,
   "metadata": {},
   "outputs": [],
   "source": [
    "def reconstruct_state(shadow):\n",
    "    \"\"\"\n",
    "    Adapted from https://pennylane.ai/qml/demos/tutorial_classical_shadows/\n",
    "    Given a classical shadow, this function reconstructs an approximation of the density matrix of the quantum state.\n",
    "    \n",
    "    Args:\n",
    "        shadow (np.array): An array of shape (shadow_size, num_qubits) where each element is a tuple of the form (b, unitary_index) where b is the measured basis state in the computational basis and unitary_index is the index of the Pauli operator applied to the qubit.\n",
    "\n",
    "    Returns:\n",
    "        np.array: An approximation of the density matrix of the quantum state.\n",
    "    \"\"\"\n",
    "\n",
    "    # Unpack the shadow.\n",
    "    measurements, measurement_scheme = shadow\n",
    "\n",
    "    # Get the shadow size.\n",
    "    shadow_size = measurements.shape[0]\n",
    "    # Get the number of qubits.\n",
    "    num_qubits = measurements.shape[1]\n",
    "\n",
    "    # Computational basis states.\n",
    "    zero_state = np.matrix([[1,0],[0,0]], dtype=complex)\n",
    "    one_state = np.matrix([[0,0],[0,1]], dtype=complex)\n",
    "\n",
    "    # Local qubit unitaries. \n",
    "    phase_z = np.matrix([[1,0],[0,-1j]], dtype=complex)\n",
    "    hadamard = np.matrix([[1,1],[1,-1]], dtype=complex)/np.sqrt(2)\n",
    "    identity = np.matrix([[1,0],[0,1]], dtype=complex)\n",
    "\n",
    "    # Rotations to measure each of the paulis.\n",
    "    X = hadamard\n",
    "    Y = hadamard @ phase_z\n",
    "    Z = identity\n",
    "\n",
    "    # Tomographically complete set of unitaries. (The pauli basis is tomographically complete.) \n",
    "    unitary_ensemble = [X, Y, Z]\n",
    "\n",
    "    # Array to store the estimated density matrix.\n",
    "    rho_estimated = np.zeros((2**num_qubits, 2**num_qubits), dtype=complex)\n",
    "\n",
    "    for i in range(shadow_size):\n",
    "\n",
    "        # Array to store the density matrix at each snapshot.\n",
    "        rho_snapshot = [1]\n",
    "\n",
    "        for j in range(num_qubits):\n",
    "\n",
    "            # Implementation of formula S44 from the preskill paper.\n",
    "            U = unitary_ensemble[measurement_scheme[i][j]]\n",
    "            if measurements[i][j] == 0:\n",
    "                b_state = zero_state\n",
    "            else:\n",
    "                b_state = one_state\n",
    "\n",
    "            rho_local = 3 * (U.H @ b_state @ U) - identity\n",
    "\n",
    "            rho_snapshot = np.kron(rho_snapshot, rho_local)\n",
    "\n",
    "        # Average all the inverted basis states to get an approximation of the density matrix.\n",
    "\n",
    "        rho_estimated += rho_snapshot\n",
    "\n",
    "    return rho_estimated/shadow_size"
   ]
  },
  {
   "cell_type": "markdown",
   "metadata": {},
   "source": [
    "> Note: In my implementation of the classical shadow protocol I use a measurement procedure consisting of random single-qubit Clifford circuits (which are equivalent to measuring a random Pauli observable). I chose this procedure due its ease of implementation but other procedures offer different benefits, some of which are disused in [Predicting Many Properties of a Quantum System from Very Few Measurements](#references)."
   ]
  },
  {
   "cell_type": "markdown",
   "metadata": {},
   "source": [
    "### Testing the shadow generation and state reconstruction. "
   ]
  },
  {
   "cell_type": "markdown",
   "metadata": {},
   "source": [
    "Using the function ``operator_distance`` we can determine how \"close\" the reconstructed state is to the true state."
   ]
  },
  {
   "cell_type": "code",
   "execution_count": 8,
   "metadata": {},
   "outputs": [],
   "source": [
    "def operator_distance(A, B):\n",
    "    \"\"\"\n",
    "    Calculate the distance between two operators using the Frobenius norm.\n",
    "\n",
    "    Args:\n",
    "        A (np.array): The first operator.\n",
    "        B (np.array): The second operator.\n",
    "\n",
    "    Returns:\n",
    "        float: The distance between the two operators.\n",
    "    \"\"\"\n",
    "\n",
    "    return np.linalg.norm((A - B), ord = 'fro')"
   ]
  },
  {
   "cell_type": "markdown",
   "metadata": {},
   "source": [
    "## The Single Qubit Case"
   ]
  },
  {
   "cell_type": "markdown",
   "metadata": {},
   "source": [
    "## The Two Qubit Case"
   ]
  },
  {
   "cell_type": "markdown",
   "metadata": {},
   "source": [
    "## The Three Qubit Case"
   ]
  },
  {
   "cell_type": "markdown",
   "metadata": {},
   "source": [
    "## References\n",
    "1. [Predicting Many Properties of a Quantum System from Very Few Measurements](https://arxiv.org/pdf/2002.08953)\n",
    "2. [Quantum State Tomography](https://research.physics.illinois.edu/QI/Photonics/tomography-files/tomo_chapter_2004.pdf)\n",
    "3. [PennyLane Classical Shadows Demo](https://pennylane.ai/qml/demos/tutorial_classical_shadows/#huang2020)"
   ]
  }
 ],
 "metadata": {
  "kernelspec": {
   "display_name": "Python 3",
   "language": "python",
   "name": "python3"
  },
  "language_info": {
   "codemirror_mode": {
    "name": "ipython",
    "version": 3
   },
   "file_extension": ".py",
   "mimetype": "text/x-python",
   "name": "python",
   "nbconvert_exporter": "python",
   "pygments_lexer": "ipython3",
   "version": "3.12.3"
  }
 },
 "nbformat": 4,
 "nbformat_minor": 2
}
